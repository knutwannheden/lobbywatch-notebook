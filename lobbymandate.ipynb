{
 "cells": [
  {
   "cell_type": "code",
   "execution_count": 2,
   "metadata": {},
   "outputs": [],
   "source": [
    "import pandas as pd\n",
    "import altair as alt\n",
    "import duckdb\n",
    "\n",
    "from altair import datum"
   ]
  },
  {
   "cell_type": "code",
   "execution_count": 3,
   "metadata": {},
   "outputs": [],
   "source": [
    "df = pd.read_csv('lobbywatch_medienkonferenz.csv')\n",
    "df_bekannt = duckdb.query('select * from df where bezahlt is not null').to_df()\n",
    "df_bezahlt = duckdb.query('select * from df where bezahlt = \\'ja\\'').to_df()\n",
    "df_fraktionen = duckdb.query('''\n",
    "select 'G' fraktion, 'Grüne' fraktion_lang, '#85B50C' farbe, 1 sort\n",
    "union\n",
    "select 'S' fraktion, 'SP' fraktion_lang, '#E4022D' farbe, 2 sort\n",
    "union\n",
    "select 'GL' fraktion, 'GLP' fraktion_lang, '#A0A000' farbe, 3 sort\n",
    "union\n",
    "select 'M-E' fraktion, 'Mitte' fraktion_lang, '#FF9100' farbe, 4 sort\n",
    "union\n",
    "select 'RL' fraktion, 'FDP' fraktion_lang, '#3A8BC1' farbe, 5 sort\n",
    "union\n",
    "select 'V' fraktion, 'SVP' fraktion_lang, '#0A7228' farbe, 6 sort\n",
    "''').to_df()\n",
    "\n",
    "fraktion_dict = {\n",
    "    'Grüne': '#85B50C',\n",
    "    'SP': '#E4022D',\n",
    "    'Mitte': '#FF9100',\n",
    "    'GLP': '#A0A000',\n",
    "    'FDP': '#3A8BC1',\n",
    "    'SVP': '#0A7228',\n",
    "}\n",
    "# for p in dict(fraktion_dict).keys():\n",
    "#     if p not in source['fraktion'].values:\n",
    "#         del fraktion_dict[p]\n",
    "\n",
    "fraktion_namen, fraktion_farben = list(fraktion_dict.keys()), list(fraktion_dict.values())"
   ]
  },
  {
   "cell_type": "markdown",
   "metadata": {},
   "source": [
    "# Untersuchte Interessenbindungen\n",
    "Untersucht wurden alle Interessnbindungen, welche folgenden Kriterien entsprechen:\n",
    "- Sind gemäss Parlamentariergesetz (ParlG) Art. 11 deklarationspflichtig\n",
    "- Werden von einem gegenwärtig amtierenden Parlamentarier ausgeübt\n",
    "- Es handelt sich hierbei nicht um eine hauptberufliche Tätigkeit\n",
    "- Die Interessenbindung wurde gemäss dem Prozess von Lobbywatch recherchiert, kontrolliert und freigegeben\n",
    "- Die Organisation ist keine Partei, parlamentarische Gruppe, parlamentarische Freundschaftsgruppe oder eine ausserparlamentarische Kommission"
   ]
  },
  {
   "cell_type": "markdown",
   "metadata": {},
   "source": [
    "# Kennzahlen\n",
    "Schauen wir uns zuerst ein paar Kennzahlen an"
   ]
  },
  {
   "cell_type": "code",
   "execution_count": 291,
   "metadata": {},
   "outputs": [
    {
     "data": {
      "text/plain": "                    kennzahl  wert      anteil\n0                      total  2070  100.000000\n1                 deklariert  1749   84.492754\n2                    bezahlt   838   40.483092\n3   mit angabe zur vergütung   253   12.222222\n4  bezahlt aber undeklariert    45    2.173913",
      "text/html": "<div>\n<style scoped>\n    .dataframe tbody tr th:only-of-type {\n        vertical-align: middle;\n    }\n\n    .dataframe tbody tr th {\n        vertical-align: top;\n    }\n\n    .dataframe thead th {\n        text-align: right;\n    }\n</style>\n<table border=\"1\" class=\"dataframe\">\n  <thead>\n    <tr style=\"text-align: right;\">\n      <th></th>\n      <th>kennzahl</th>\n      <th>wert</th>\n      <th>anteil</th>\n    </tr>\n  </thead>\n  <tbody>\n    <tr>\n      <th>0</th>\n      <td>total</td>\n      <td>2070</td>\n      <td>100.000000</td>\n    </tr>\n    <tr>\n      <th>1</th>\n      <td>deklariert</td>\n      <td>1749</td>\n      <td>84.492754</td>\n    </tr>\n    <tr>\n      <th>2</th>\n      <td>bezahlt</td>\n      <td>838</td>\n      <td>40.483092</td>\n    </tr>\n    <tr>\n      <th>3</th>\n      <td>mit angabe zur vergütung</td>\n      <td>253</td>\n      <td>12.222222</td>\n    </tr>\n    <tr>\n      <th>4</th>\n      <td>bezahlt aber undeklariert</td>\n      <td>45</td>\n      <td>2.173913</td>\n    </tr>\n  </tbody>\n</table>\n</div>"
     },
     "execution_count": 291,
     "metadata": {},
     "output_type": "execute_result"
    }
   ],
   "source": [
    "duckdb.query('''\n",
    "select 'total' kennzahl, (select count(1) from df_bekannt) wert, 100.0*(select count(1) from df_bekannt)/(select count(1) from df_bekannt) anteil\n",
    "union\n",
    "select 'deklariert', (select count(1) from df_bekannt where deklariert = 'ja'), 100.0*(select count(1) from df_bekannt where deklariert = 'ja')/(select count(1) from df_bekannt)\n",
    "union\n",
    "select 'bezahlt', (select count(1) from df_bekannt where bezahlt = 'ja'), 100.0*(select count(1) from df_bekannt where bezahlt = 'ja')/(select count(1) from df_bekannt where bezahlt is not null)\n",
    "union\n",
    "select 'mit angabe zur vergütung', (select count(1) from df_bekannt where verguetung is not null), 100.0*(select count(1) from df_bekannt where verguetung is not null)/(select count(1) from df_bekannt)\n",
    "union\n",
    "select 'bezahlt aber undeklariert', (select count(1) from df_bekannt where bezahlt = 'ja' and deklariert = 'nein'), 100.0*(select count(1) from df_bekannt where bezahlt = 'ja' and deklariert = 'nein')/(select count(1) from df_bekannt)\n",
    "''').to_df()"
   ]
  },
  {
   "cell_type": "markdown",
   "metadata": {},
   "source": [
    "Bezahlte Interessenbindungen aufgeschlüsselt nach Branche."
   ]
  },
  {
   "cell_type": "code",
   "execution_count": 292,
   "metadata": {},
   "outputs": [
    {
     "data": {
      "text/html": "\n<div id=\"altair-viz-1b85fbb0e38345e78dea4d6031d02288\"></div>\n<script type=\"text/javascript\">\n  var VEGA_DEBUG = (typeof VEGA_DEBUG == \"undefined\") ? {} : VEGA_DEBUG;\n  (function(spec, embedOpt){\n    let outputDiv = document.currentScript.previousElementSibling;\n    if (outputDiv.id !== \"altair-viz-1b85fbb0e38345e78dea4d6031d02288\") {\n      outputDiv = document.getElementById(\"altair-viz-1b85fbb0e38345e78dea4d6031d02288\");\n    }\n    const paths = {\n      \"vega\": \"https://cdn.jsdelivr.net/npm//vega@5?noext\",\n      \"vega-lib\": \"https://cdn.jsdelivr.net/npm//vega-lib?noext\",\n      \"vega-lite\": \"https://cdn.jsdelivr.net/npm//vega-lite@4.17.0?noext\",\n      \"vega-embed\": \"https://cdn.jsdelivr.net/npm//vega-embed@6?noext\",\n    };\n\n    function maybeLoadScript(lib, version) {\n      var key = `${lib.replace(\"-\", \"\")}_version`;\n      return (VEGA_DEBUG[key] == version) ?\n        Promise.resolve(paths[lib]) :\n        new Promise(function(resolve, reject) {\n          var s = document.createElement('script');\n          document.getElementsByTagName(\"head\")[0].appendChild(s);\n          s.async = true;\n          s.onload = () => {\n            VEGA_DEBUG[key] = version;\n            return resolve(paths[lib]);\n          };\n          s.onerror = () => reject(`Error loading script: ${paths[lib]}`);\n          s.src = paths[lib];\n        });\n    }\n\n    function showError(err) {\n      outputDiv.innerHTML = `<div class=\"error\" style=\"color:red;\">${err}</div>`;\n      throw err;\n    }\n\n    function displayChart(vegaEmbed) {\n      vegaEmbed(outputDiv, spec, embedOpt)\n        .catch(err => showError(`Javascript Error: ${err.message}<br>This usually means there's a typo in your chart specification. See the javascript console for the full traceback.`));\n    }\n\n    if(typeof define === \"function\" && define.amd) {\n      requirejs.config({paths});\n      require([\"vega-embed\"], displayChart, err => showError(`Error loading script: ${err.message}`));\n    } else {\n      maybeLoadScript(\"vega\", \"5\")\n        .then(() => maybeLoadScript(\"vega-lite\", \"4.17.0\"))\n        .then(() => maybeLoadScript(\"vega-embed\", \"6\"))\n        .catch(showError)\n        .then(() => displayChart(vegaEmbed));\n    }\n  })({\"config\": {\"view\": {\"continuousWidth\": 400, \"continuousHeight\": 300}}, \"data\": {\"name\": \"data-1df7ef6f12e6809109b04db9d4a871fb\"}, \"mark\": \"bar\", \"encoding\": {\"tooltip\": {\"field\": \"count\", \"type\": \"quantitative\"}, \"x\": {\"field\": \"count\", \"title\": \"Anzahl\", \"type\": \"quantitative\"}, \"y\": {\"field\": \"branche\", \"title\": \"Branche\", \"type\": \"nominal\"}}, \"$schema\": \"https://vega.github.io/schema/vega-lite/v4.17.0.json\", \"datasets\": {\"data-1df7ef6f12e6809109b04db9d4a871fb\": [{\"branche\": \"Bildung\", \"count\": 35}, {\"branche\": \"Wirtschaft\", \"count\": 332}, {\"branche\": \"Gesundheit\", \"count\": 118}, {\"branche\": \"Verkehr\", \"count\": 84}, {\"branche\": \"Staatspolitik/Staatswirtschaft\", \"count\": 37}, {\"branche\": \"Umwelt\", \"count\": 24}, {\"branche\": \"Soziale Sicherheit\", \"count\": 50}, {\"branche\": \"Landwirtschaft\", \"count\": 53}, {\"branche\": \"Kommunikation\", \"count\": 17}, {\"branche\": \"Energie\", \"count\": 51}, {\"branche\": \"Sport\", \"count\": 14}, {\"branche\": \"Kultur\", \"count\": 12}, {\"branche\": \"Aussenpolitik/Aussenwirtschaft\", \"count\": 3}, {\"branche\": \"Sicherheit\", \"count\": 8}]}}, {\"mode\": \"vega-lite\"});\n</script>",
      "text/plain": "alt.Chart(...)"
     },
     "execution_count": 292,
     "metadata": {},
     "output_type": "execute_result"
    }
   ],
   "source": [
    "source = duckdb.query('''\n",
    "    select branche, count(1) count\n",
    "    from df_bezahlt\n",
    "    group by 1\n",
    "''').to_df()\n",
    "\n",
    "chart = alt.Chart(source).mark_bar().encode(\n",
    "    x=alt.X('count', title='Anzahl'),\n",
    "    y=alt.Y('branche', title='Branche'),\n",
    "    tooltip='count'\n",
    ")\n",
    "chart.save('output/bars-nach-branche-absolut.pdf')\n",
    "chart"
   ]
  },
  {
   "cell_type": "code",
   "execution_count": 293,
   "metadata": {},
   "outputs": [
    {
     "data": {
      "text/html": "\n<div id=\"altair-viz-fc24dbfac46345c3a170309ed667440d\"></div>\n<script type=\"text/javascript\">\n  var VEGA_DEBUG = (typeof VEGA_DEBUG == \"undefined\") ? {} : VEGA_DEBUG;\n  (function(spec, embedOpt){\n    let outputDiv = document.currentScript.previousElementSibling;\n    if (outputDiv.id !== \"altair-viz-fc24dbfac46345c3a170309ed667440d\") {\n      outputDiv = document.getElementById(\"altair-viz-fc24dbfac46345c3a170309ed667440d\");\n    }\n    const paths = {\n      \"vega\": \"https://cdn.jsdelivr.net/npm//vega@5?noext\",\n      \"vega-lib\": \"https://cdn.jsdelivr.net/npm//vega-lib?noext\",\n      \"vega-lite\": \"https://cdn.jsdelivr.net/npm//vega-lite@4.17.0?noext\",\n      \"vega-embed\": \"https://cdn.jsdelivr.net/npm//vega-embed@6?noext\",\n    };\n\n    function maybeLoadScript(lib, version) {\n      var key = `${lib.replace(\"-\", \"\")}_version`;\n      return (VEGA_DEBUG[key] == version) ?\n        Promise.resolve(paths[lib]) :\n        new Promise(function(resolve, reject) {\n          var s = document.createElement('script');\n          document.getElementsByTagName(\"head\")[0].appendChild(s);\n          s.async = true;\n          s.onload = () => {\n            VEGA_DEBUG[key] = version;\n            return resolve(paths[lib]);\n          };\n          s.onerror = () => reject(`Error loading script: ${paths[lib]}`);\n          s.src = paths[lib];\n        });\n    }\n\n    function showError(err) {\n      outputDiv.innerHTML = `<div class=\"error\" style=\"color:red;\">${err}</div>`;\n      throw err;\n    }\n\n    function displayChart(vegaEmbed) {\n      vegaEmbed(outputDiv, spec, embedOpt)\n        .catch(err => showError(`Javascript Error: ${err.message}<br>This usually means there's a typo in your chart specification. See the javascript console for the full traceback.`));\n    }\n\n    if(typeof define === \"function\" && define.amd) {\n      requirejs.config({paths});\n      require([\"vega-embed\"], displayChart, err => showError(`Error loading script: ${err.message}`));\n    } else {\n      maybeLoadScript(\"vega\", \"5\")\n        .then(() => maybeLoadScript(\"vega-lite\", \"4.17.0\"))\n        .then(() => maybeLoadScript(\"vega-embed\", \"6\"))\n        .catch(showError)\n        .then(() => displayChart(vegaEmbed));\n    }\n  })({\"config\": {\"view\": {\"continuousWidth\": 400, \"continuousHeight\": 300}}, \"layer\": [{\"mark\": {\"type\": \"bar\", \"opacity\": 1.0}, \"encoding\": {\"color\": {\"field\": \"fraktion\", \"legend\": null, \"scale\": {\"domain\": [\"Gr\\u00fcne\", \"SP\", \"Mitte\", \"GLP\", \"FDP\", \"SVP\"], \"range\": [\"#85B50C\", \"#E4022D\", \"#FF9100\", \"#A0A000\", \"#3A8BC1\", \"#0A7228\"]}, \"type\": \"nominal\"}, \"tooltip\": {\"field\": \"count\", \"type\": \"quantitative\"}, \"x\": {\"field\": \"count\", \"stack\": null, \"title\": \"Anzahl\", \"type\": \"quantitative\"}, \"y\": {\"field\": \"fraktion\", \"sort\": \"-x\", \"title\": \"Fraktion\", \"type\": \"nominal\"}}}, {\"mark\": {\"type\": \"text\", \"color\": \"white\", \"dx\": -15}, \"encoding\": {\"detail\": {\"field\": \"fraktion\", \"type\": \"nominal\"}, \"text\": {\"field\": \"count\", \"type\": \"quantitative\"}, \"x\": {\"field\": \"count\", \"stack\": null, \"title\": \"Anzahl\", \"type\": \"quantitative\"}, \"y\": {\"field\": \"fraktion\", \"sort\": \"-x\", \"title\": \"Fraktion\", \"type\": \"nominal\"}}}], \"data\": {\"name\": \"data-771389c44c67761ad463679e5f8daf87\"}, \"$schema\": \"https://vega.github.io/schema/vega-lite/v4.17.0.json\", \"datasets\": {\"data-771389c44c67761ad463679e5f8daf87\": [{\"fraktion\": \"Gr\\u00fcne\", \"count\": 61}, {\"fraktion\": \"SVP\", \"count\": 177}, {\"fraktion\": \"FDP\", \"count\": 210}, {\"fraktion\": \"Mitte\", \"count\": 234}, {\"fraktion\": \"SP\", \"count\": 111}, {\"fraktion\": \"GLP\", \"count\": 45}]}}, {\"mode\": \"vega-lite\"});\n</script>",
      "text/plain": "alt.LayerChart(...)"
     },
     "execution_count": 293,
     "metadata": {},
     "output_type": "execute_result"
    }
   ],
   "source": [
    "source = duckdb.query('''\n",
    "    select fraktion_lang fraktion, count(1) count\n",
    "    from df_bezahlt b\n",
    "    join df_fraktionen f on f.fraktion = b.fraktion\n",
    "    group by 1\n",
    "''').to_df()\n",
    "\n",
    "bars = alt.Chart(source).mark_bar(opacity=1.0).encode(\n",
    "    x=alt.X('count', title='Anzahl', stack=None),\n",
    "    y=alt.Y('fraktion', sort='-x', title='Fraktion'),\n",
    "    color=alt.Color('fraktion', scale=alt.Scale(domain=fraktion_namen, range=fraktion_farben), legend=None),\n",
    "    tooltip='count'\n",
    ")\n",
    "\n",
    "text = alt.Chart(source).mark_text(dx=-15, color='white').encode(\n",
    "    x=alt.X('count', title='Anzahl', stack=None),\n",
    "    y=alt.Y('fraktion', sort='-x', title='Fraktion'),\n",
    "    detail='fraktion',\n",
    "    text='count',\n",
    ")\n",
    "\n",
    "chart = bars + text\n",
    "chart.save('output/bars-nach-fraktion-absolut.pdf')\n",
    "chart"
   ]
  },
  {
   "cell_type": "code",
   "execution_count": 294,
   "outputs": [
    {
     "data": {
      "text/html": "\n<div id=\"altair-viz-2840a8195f6346628bbbfbe9dcd8f345\"></div>\n<script type=\"text/javascript\">\n  var VEGA_DEBUG = (typeof VEGA_DEBUG == \"undefined\") ? {} : VEGA_DEBUG;\n  (function(spec, embedOpt){\n    let outputDiv = document.currentScript.previousElementSibling;\n    if (outputDiv.id !== \"altair-viz-2840a8195f6346628bbbfbe9dcd8f345\") {\n      outputDiv = document.getElementById(\"altair-viz-2840a8195f6346628bbbfbe9dcd8f345\");\n    }\n    const paths = {\n      \"vega\": \"https://cdn.jsdelivr.net/npm//vega@5?noext\",\n      \"vega-lib\": \"https://cdn.jsdelivr.net/npm//vega-lib?noext\",\n      \"vega-lite\": \"https://cdn.jsdelivr.net/npm//vega-lite@4.17.0?noext\",\n      \"vega-embed\": \"https://cdn.jsdelivr.net/npm//vega-embed@6?noext\",\n    };\n\n    function maybeLoadScript(lib, version) {\n      var key = `${lib.replace(\"-\", \"\")}_version`;\n      return (VEGA_DEBUG[key] == version) ?\n        Promise.resolve(paths[lib]) :\n        new Promise(function(resolve, reject) {\n          var s = document.createElement('script');\n          document.getElementsByTagName(\"head\")[0].appendChild(s);\n          s.async = true;\n          s.onload = () => {\n            VEGA_DEBUG[key] = version;\n            return resolve(paths[lib]);\n          };\n          s.onerror = () => reject(`Error loading script: ${paths[lib]}`);\n          s.src = paths[lib];\n        });\n    }\n\n    function showError(err) {\n      outputDiv.innerHTML = `<div class=\"error\" style=\"color:red;\">${err}</div>`;\n      throw err;\n    }\n\n    function displayChart(vegaEmbed) {\n      vegaEmbed(outputDiv, spec, embedOpt)\n        .catch(err => showError(`Javascript Error: ${err.message}<br>This usually means there's a typo in your chart specification. See the javascript console for the full traceback.`));\n    }\n\n    if(typeof define === \"function\" && define.amd) {\n      requirejs.config({paths});\n      require([\"vega-embed\"], displayChart, err => showError(`Error loading script: ${err.message}`));\n    } else {\n      maybeLoadScript(\"vega\", \"5\")\n        .then(() => maybeLoadScript(\"vega-lite\", \"4.17.0\"))\n        .then(() => maybeLoadScript(\"vega-embed\", \"6\"))\n        .catch(showError)\n        .then(() => displayChart(vegaEmbed));\n    }\n  })({\"config\": {\"view\": {\"continuousWidth\": 400, \"continuousHeight\": 300}}, \"layer\": [{\"mark\": {\"type\": \"bar\", \"opacity\": 1.0}, \"encoding\": {\"color\": {\"field\": \"bezahlt\", \"type\": \"nominal\"}, \"tooltip\": {\"field\": \"count\", \"type\": \"quantitative\"}, \"x\": {\"axis\": {\"format\": \"%\"}, \"field\": \"count\", \"sort\": \"-x\", \"stack\": \"zero\", \"title\": \"Anteil\", \"type\": \"quantitative\"}, \"y\": {\"field\": \"fraktion\", \"sort\": {\"field\": \"sort\", \"order\": \"descending\"}, \"title\": \"Fraktion\", \"type\": \"nominal\"}}}, {\"mark\": {\"type\": \"text\", \"color\": \"white\", \"dx\": -20}, \"encoding\": {\"detail\": {\"field\": \"bezahlt\", \"type\": \"nominal\"}, \"text\": {\"field\": \"count\", \"format\": \".1%\", \"type\": \"quantitative\"}, \"x\": {\"field\": \"count\", \"stack\": \"zero\", \"title\": \"Anteil\", \"type\": \"quantitative\"}, \"y\": {\"field\": \"fraktion\", \"sort\": {\"field\": \"sort\", \"order\": \"descending\"}, \"title\": \"Fraktion\", \"type\": \"nominal\"}}}], \"data\": {\"name\": \"data-2e4a4c6d9f2b8f2c74828ea5387fdbae\"}, \"$schema\": \"https://vega.github.io/schema/vega-lite/v4.17.0.json\", \"datasets\": {\"data-2e4a4c6d9f2b8f2c74828ea5387fdbae\": [{\"fraktion\": \"SP\", \"bezahlt\": \"bezahlt\", \"count\": 0.2803030303030303, \"sort\": 0.2803030303030303}, {\"fraktion\": \"Gr\\u00fcne\", \"bezahlt\": \"bezahlt\", \"count\": 0.26521739130434785, \"sort\": 0.26521739130434785}, {\"fraktion\": \"SVP\", \"bezahlt\": \"bezahlt\", \"count\": 0.4903047091412742, \"sort\": 0.4903047091412742}, {\"fraktion\": \"FDP\", \"bezahlt\": \"bezahlt\", \"count\": 0.42857142857142855, \"sort\": 0.42857142857142855}, {\"fraktion\": \"Mitte\", \"bezahlt\": \"bezahlt\", \"count\": 0.4926315789473684, \"sort\": 0.4926315789473684}, {\"fraktion\": \"GLP\", \"bezahlt\": \"bezahlt\", \"count\": 0.3813559322033898, \"sort\": 0.3813559322033898}, {\"fraktion\": \"SP\", \"bezahlt\": \"unbezahlt\", \"count\": 0.7196969696969697, \"sort\": 0.2803030303030303}, {\"fraktion\": \"Gr\\u00fcne\", \"bezahlt\": \"unbezahlt\", \"count\": 0.7347826086956522, \"sort\": 0.26521739130434785}, {\"fraktion\": \"SVP\", \"bezahlt\": \"unbezahlt\", \"count\": 0.5096952908587258, \"sort\": 0.4903047091412742}, {\"fraktion\": \"FDP\", \"bezahlt\": \"unbezahlt\", \"count\": 0.5714285714285714, \"sort\": 0.42857142857142855}, {\"fraktion\": \"Mitte\", \"bezahlt\": \"unbezahlt\", \"count\": 0.5073684210526316, \"sort\": 0.4926315789473684}, {\"fraktion\": \"GLP\", \"bezahlt\": \"unbezahlt\", \"count\": 0.6186440677966102, \"sort\": 0.3813559322033898}]}}, {\"mode\": \"vega-lite\"});\n</script>",
      "text/plain": "alt.LayerChart(...)"
     },
     "execution_count": 294,
     "metadata": {},
     "output_type": "execute_result"
    }
   ],
   "source": [
    "source = duckdb.query('''\n",
    "    select f.fraktion_lang fraktion, 'bezahlt' bezahlt, 1.0 * count(case bezahlt when 'ja' then 1 end) / count(1) count, 1.0 * count(case bezahlt when 'ja' then 1 end) / count(1) sort\n",
    "    from df_bekannt b\n",
    "    join df_fraktionen f on f.fraktion = b.fraktion\n",
    "    group by 1, 2\n",
    "    union all\n",
    "    select f.fraktion_lang fraktion, 'unbezahlt' bezahlt, 1.0 * count(case bezahlt when 'nein' then 1 end) / count(1) count, 1.0 * count(case bezahlt when 'ja' then 1 end) / count(1) sort\n",
    "    from df_bekannt b\n",
    "    join df_fraktionen f on f.fraktion = b.fraktion\n",
    "    group by 1, 2\n",
    "''').to_df()\n",
    "\n",
    "bars = alt.Chart(source).mark_bar(opacity=1.0).encode(\n",
    "    x=alt.X('count', title='Anteil', sort='-x', stack='zero', axis=alt.Axis(format='%')),\n",
    "    y=alt.Y('fraktion', sort=alt.EncodingSortField('sort', order='descending'), title='Fraktion'),\n",
    "    color='bezahlt',\n",
    "    tooltip='count',\n",
    ")\n",
    "\n",
    "text = alt.Chart(source).mark_text(dx=-20, color='white').encode(\n",
    "    x=alt.X('count', title='Anteil', stack='zero'),\n",
    "    y=alt.Y('fraktion', sort=alt.EncodingSortField('sort', order='descending'), title='Fraktion'),\n",
    "    detail='bezahlt',\n",
    "    text=alt.Text('count', format='.1%'),\n",
    ")\n",
    "\n",
    "chart = bars + text\n",
    "chart.save('output/bars-nach-fraktion-und-bezahlt-relativ.pdf')\n",
    "chart"
   ],
   "metadata": {
    "collapsed": false
   }
  },
  {
   "cell_type": "code",
   "execution_count": 295,
   "outputs": [
    {
     "data": {
      "text/html": "\n<div id=\"altair-viz-42c6eae7429b4b6588eb075f5cea019d\"></div>\n<script type=\"text/javascript\">\n  var VEGA_DEBUG = (typeof VEGA_DEBUG == \"undefined\") ? {} : VEGA_DEBUG;\n  (function(spec, embedOpt){\n    let outputDiv = document.currentScript.previousElementSibling;\n    if (outputDiv.id !== \"altair-viz-42c6eae7429b4b6588eb075f5cea019d\") {\n      outputDiv = document.getElementById(\"altair-viz-42c6eae7429b4b6588eb075f5cea019d\");\n    }\n    const paths = {\n      \"vega\": \"https://cdn.jsdelivr.net/npm//vega@5?noext\",\n      \"vega-lib\": \"https://cdn.jsdelivr.net/npm//vega-lib?noext\",\n      \"vega-lite\": \"https://cdn.jsdelivr.net/npm//vega-lite@4.17.0?noext\",\n      \"vega-embed\": \"https://cdn.jsdelivr.net/npm//vega-embed@6?noext\",\n    };\n\n    function maybeLoadScript(lib, version) {\n      var key = `${lib.replace(\"-\", \"\")}_version`;\n      return (VEGA_DEBUG[key] == version) ?\n        Promise.resolve(paths[lib]) :\n        new Promise(function(resolve, reject) {\n          var s = document.createElement('script');\n          document.getElementsByTagName(\"head\")[0].appendChild(s);\n          s.async = true;\n          s.onload = () => {\n            VEGA_DEBUG[key] = version;\n            return resolve(paths[lib]);\n          };\n          s.onerror = () => reject(`Error loading script: ${paths[lib]}`);\n          s.src = paths[lib];\n        });\n    }\n\n    function showError(err) {\n      outputDiv.innerHTML = `<div class=\"error\" style=\"color:red;\">${err}</div>`;\n      throw err;\n    }\n\n    function displayChart(vegaEmbed) {\n      vegaEmbed(outputDiv, spec, embedOpt)\n        .catch(err => showError(`Javascript Error: ${err.message}<br>This usually means there's a typo in your chart specification. See the javascript console for the full traceback.`));\n    }\n\n    if(typeof define === \"function\" && define.amd) {\n      requirejs.config({paths});\n      require([\"vega-embed\"], displayChart, err => showError(`Error loading script: ${err.message}`));\n    } else {\n      maybeLoadScript(\"vega\", \"5\")\n        .then(() => maybeLoadScript(\"vega-lite\", \"4.17.0\"))\n        .then(() => maybeLoadScript(\"vega-embed\", \"6\"))\n        .catch(showError)\n        .then(() => displayChart(vegaEmbed));\n    }\n  })({\"config\": {\"view\": {\"continuousWidth\": 400, \"continuousHeight\": 300}}, \"layer\": [{\"mark\": {\"type\": \"bar\", \"opacity\": 1.0}, \"encoding\": {\"color\": {\"field\": \"bezahlt\", \"type\": \"nominal\"}, \"tooltip\": {\"field\": \"count\", \"type\": \"quantitative\"}, \"x\": {\"field\": \"count\", \"sort\": \"-x\", \"stack\": \"zero\", \"title\": \"Anzahl\", \"type\": \"quantitative\"}, \"y\": {\"field\": \"fraktion\", \"sort\": {\"field\": \"sort\", \"order\": \"descending\"}, \"title\": \"Fraktion\", \"type\": \"nominal\"}}}, {\"mark\": {\"type\": \"text\", \"color\": \"white\", \"dx\": -20}, \"encoding\": {\"detail\": {\"field\": \"bezahlt\", \"type\": \"nominal\"}, \"text\": {\"field\": \"count\", \"type\": \"quantitative\"}, \"x\": {\"field\": \"count\", \"stack\": \"zero\", \"title\": \"Anzahl\", \"type\": \"quantitative\"}, \"y\": {\"field\": \"fraktion\", \"sort\": {\"field\": \"sort\", \"order\": \"descending\"}, \"title\": \"Fraktion\", \"type\": \"nominal\"}}}], \"data\": {\"name\": \"data-409b3dc966c9378192210898df589554\"}, \"$schema\": \"https://vega.github.io/schema/vega-lite/v4.17.0.json\", \"datasets\": {\"data-409b3dc966c9378192210898df589554\": [{\"fraktion\": \"SP\", \"bezahlt\": \"bezahlt\", \"count\": 111, \"sort\": 111}, {\"fraktion\": \"Gr\\u00fcne\", \"bezahlt\": \"bezahlt\", \"count\": 61, \"sort\": 61}, {\"fraktion\": \"SVP\", \"bezahlt\": \"bezahlt\", \"count\": 177, \"sort\": 177}, {\"fraktion\": \"FDP\", \"bezahlt\": \"bezahlt\", \"count\": 210, \"sort\": 210}, {\"fraktion\": \"Mitte\", \"bezahlt\": \"bezahlt\", \"count\": 234, \"sort\": 234}, {\"fraktion\": \"GLP\", \"bezahlt\": \"bezahlt\", \"count\": 45, \"sort\": 45}, {\"fraktion\": \"SP\", \"bezahlt\": \"unbezahlt\", \"count\": 285, \"sort\": 111}, {\"fraktion\": \"Gr\\u00fcne\", \"bezahlt\": \"unbezahlt\", \"count\": 169, \"sort\": 61}, {\"fraktion\": \"SVP\", \"bezahlt\": \"unbezahlt\", \"count\": 184, \"sort\": 177}, {\"fraktion\": \"FDP\", \"bezahlt\": \"unbezahlt\", \"count\": 280, \"sort\": 210}, {\"fraktion\": \"Mitte\", \"bezahlt\": \"unbezahlt\", \"count\": 241, \"sort\": 234}, {\"fraktion\": \"GLP\", \"bezahlt\": \"unbezahlt\", \"count\": 73, \"sort\": 45}]}}, {\"mode\": \"vega-lite\"});\n</script>",
      "text/plain": "alt.LayerChart(...)"
     },
     "execution_count": 295,
     "metadata": {},
     "output_type": "execute_result"
    }
   ],
   "source": [
    "source = duckdb.query('''\n",
    "    select fraktion_lang fraktion, 'bezahlt' bezahlt, count(case bezahlt when 'ja' then 1 end) count, count(case bezahlt when 'ja' then 1 end) sort\n",
    "    from df_bekannt b\n",
    "    join df_fraktionen f on f.fraktion = b.fraktion\n",
    "    group by 1, 2\n",
    "    union all\n",
    "    select fraktion_lang fraktion, 'unbezahlt' bezahlt, count(case bezahlt when 'nein' then 1 end), count(case bezahlt when 'ja' then 1 end)\n",
    "    from df_bekannt b\n",
    "    join df_fraktionen f on f.fraktion = b.fraktion\n",
    "    group by 1, 2\n",
    "''').to_df()\n",
    "\n",
    "bars = alt.Chart(source).mark_bar(opacity=1.0).encode(\n",
    "    x=alt.X('count', title='Anzahl', sort='-x', stack='zero'),\n",
    "    y=alt.Y('fraktion', sort=alt.EncodingSortField('sort', order='descending'), title='Fraktion'),\n",
    "    color='bezahlt',\n",
    "    tooltip='count',\n",
    ")\n",
    "\n",
    "text = alt.Chart(source).mark_text(dx=-20, color='white').encode(\n",
    "    x=alt.X('count', title='Anzahl', stack='zero'),\n",
    "    y=alt.Y('fraktion', sort=alt.EncodingSortField('sort', order='descending'), title='Fraktion'),\n",
    "    detail='bezahlt',\n",
    "    text=alt.Text('count'),\n",
    ")\n",
    "\n",
    "chart = bars + text\n",
    "chart.save('output/bars-nach-fraktion-und-bezahlt-absolut.pdf')\n",
    "chart"
   ],
   "metadata": {
    "collapsed": false
   }
  },
  {
   "cell_type": "markdown",
   "metadata": {},
   "source": [
    "Hier sieht man wie sich die Fraktionen die bezahlten Mandate aufteilen innerhalb der Branchen.\n",
    "Auffällig ist, dass die linken Parteien nur in der Umweltbranche eine Mehrheit der Lobbymandate haben (falls man die GLP zu den linken zählt). Hingegen sind sie in den Branchen Landwirtschaft, Verkehr und Wirtschaft sehr schwach vertreten."
   ]
  },
  {
   "cell_type": "code",
   "execution_count": 296,
   "metadata": {},
   "outputs": [
    {
     "data": {
      "text/html": "\n<div id=\"altair-viz-7efcfa8104514ec48b4d62ebcd5a057c\"></div>\n<script type=\"text/javascript\">\n  var VEGA_DEBUG = (typeof VEGA_DEBUG == \"undefined\") ? {} : VEGA_DEBUG;\n  (function(spec, embedOpt){\n    let outputDiv = document.currentScript.previousElementSibling;\n    if (outputDiv.id !== \"altair-viz-7efcfa8104514ec48b4d62ebcd5a057c\") {\n      outputDiv = document.getElementById(\"altair-viz-7efcfa8104514ec48b4d62ebcd5a057c\");\n    }\n    const paths = {\n      \"vega\": \"https://cdn.jsdelivr.net/npm//vega@5?noext\",\n      \"vega-lib\": \"https://cdn.jsdelivr.net/npm//vega-lib?noext\",\n      \"vega-lite\": \"https://cdn.jsdelivr.net/npm//vega-lite@4.17.0?noext\",\n      \"vega-embed\": \"https://cdn.jsdelivr.net/npm//vega-embed@6?noext\",\n    };\n\n    function maybeLoadScript(lib, version) {\n      var key = `${lib.replace(\"-\", \"\")}_version`;\n      return (VEGA_DEBUG[key] == version) ?\n        Promise.resolve(paths[lib]) :\n        new Promise(function(resolve, reject) {\n          var s = document.createElement('script');\n          document.getElementsByTagName(\"head\")[0].appendChild(s);\n          s.async = true;\n          s.onload = () => {\n            VEGA_DEBUG[key] = version;\n            return resolve(paths[lib]);\n          };\n          s.onerror = () => reject(`Error loading script: ${paths[lib]}`);\n          s.src = paths[lib];\n        });\n    }\n\n    function showError(err) {\n      outputDiv.innerHTML = `<div class=\"error\" style=\"color:red;\">${err}</div>`;\n      throw err;\n    }\n\n    function displayChart(vegaEmbed) {\n      vegaEmbed(outputDiv, spec, embedOpt)\n        .catch(err => showError(`Javascript Error: ${err.message}<br>This usually means there's a typo in your chart specification. See the javascript console for the full traceback.`));\n    }\n\n    if(typeof define === \"function\" && define.amd) {\n      requirejs.config({paths});\n      require([\"vega-embed\"], displayChart, err => showError(`Error loading script: ${err.message}`));\n    } else {\n      maybeLoadScript(\"vega\", \"5\")\n        .then(() => maybeLoadScript(\"vega-lite\", \"4.17.0\"))\n        .then(() => maybeLoadScript(\"vega-embed\", \"6\"))\n        .catch(showError)\n        .then(() => displayChart(vegaEmbed));\n    }\n  })({\"config\": {\"view\": {\"continuousWidth\": 400, \"continuousHeight\": 300}}, \"data\": {\"name\": \"data-8021d5b2ecab83273b6b0aba683be8f9\"}, \"mark\": \"bar\", \"encoding\": {\"color\": {\"field\": \"fraktion\", \"scale\": {\"domain\": [\"Gr\\u00fcne\", \"SP\", \"Mitte\", \"GLP\", \"FDP\", \"SVP\"], \"range\": [\"#85B50C\", \"#E4022D\", \"#FF9100\", \"#A0A000\", \"#3A8BC1\", \"#0A7228\"]}, \"type\": \"nominal\"}, \"order\": {\"field\": \"color_fraktion_sort_index\", \"type\": \"quantitative\"}, \"x\": {\"axis\": {\"format\": \"%\"}, \"field\": \"count\", \"stack\": \"normalize\", \"title\": \"Anteil\", \"type\": \"quantitative\"}, \"y\": {\"field\": \"branche\", \"title\": \"Branche\", \"type\": \"nominal\"}}, \"$schema\": \"https://vega.github.io/schema/vega-lite/v4.17.0.json\", \"datasets\": {\"data-8021d5b2ecab83273b6b0aba683be8f9\": [{\"branche\": \"Bildung\", \"fraktion\": \"Gr\\u00fcne\", \"sort\": 1, \"count\": 5}, {\"branche\": \"Bildung\", \"fraktion\": \"SP\", \"sort\": 2, \"count\": 9}, {\"branche\": \"Bildung\", \"fraktion\": \"GLP\", \"sort\": 3, \"count\": 1}, {\"branche\": \"Bildung\", \"fraktion\": \"Mitte\", \"sort\": 4, \"count\": 11}, {\"branche\": \"Bildung\", \"fraktion\": \"FDP\", \"sort\": 5, \"count\": 8}, {\"branche\": \"Bildung\", \"fraktion\": \"SVP\", \"sort\": 6, \"count\": 1}, {\"branche\": \"Energie\", \"fraktion\": \"SP\", \"sort\": 2, \"count\": 9}, {\"branche\": \"Energie\", \"fraktion\": \"GLP\", \"sort\": 3, \"count\": 8}, {\"branche\": \"Energie\", \"fraktion\": \"Mitte\", \"sort\": 4, \"count\": 20}, {\"branche\": \"Energie\", \"fraktion\": \"FDP\", \"sort\": 5, \"count\": 10}, {\"branche\": \"Energie\", \"fraktion\": \"SVP\", \"sort\": 6, \"count\": 4}, {\"branche\": \"Gesundheit\", \"fraktion\": \"Gr\\u00fcne\", \"sort\": 1, \"count\": 8}, {\"branche\": \"Gesundheit\", \"fraktion\": \"SP\", \"sort\": 2, \"count\": 16}, {\"branche\": \"Gesundheit\", \"fraktion\": \"GLP\", \"sort\": 3, \"count\": 10}, {\"branche\": \"Gesundheit\", \"fraktion\": \"Mitte\", \"sort\": 4, \"count\": 47}, {\"branche\": \"Gesundheit\", \"fraktion\": \"FDP\", \"sort\": 5, \"count\": 24}, {\"branche\": \"Gesundheit\", \"fraktion\": \"SVP\", \"sort\": 6, \"count\": 13}, {\"branche\": \"Landwirtschaft\", \"fraktion\": \"Gr\\u00fcne\", \"sort\": 1, \"count\": 4}, {\"branche\": \"Landwirtschaft\", \"fraktion\": \"SP\", \"sort\": 2, \"count\": 3}, {\"branche\": \"Landwirtschaft\", \"fraktion\": \"Mitte\", \"sort\": 4, \"count\": 18}, {\"branche\": \"Landwirtschaft\", \"fraktion\": \"FDP\", \"sort\": 5, \"count\": 6}, {\"branche\": \"Landwirtschaft\", \"fraktion\": \"SVP\", \"sort\": 6, \"count\": 22}, {\"branche\": \"Soziale Sicherheit\", \"fraktion\": \"Gr\\u00fcne\", \"sort\": 1, \"count\": 5}, {\"branche\": \"Soziale Sicherheit\", \"fraktion\": \"SP\", \"sort\": 2, \"count\": 15}, {\"branche\": \"Soziale Sicherheit\", \"fraktion\": \"GLP\", \"sort\": 3, \"count\": 3}, {\"branche\": \"Soziale Sicherheit\", \"fraktion\": \"Mitte\", \"sort\": 4, \"count\": 11}, {\"branche\": \"Soziale Sicherheit\", \"fraktion\": \"FDP\", \"sort\": 5, \"count\": 9}, {\"branche\": \"Soziale Sicherheit\", \"fraktion\": \"SVP\", \"sort\": 6, \"count\": 7}, {\"branche\": \"Staatspolitik/Staatswirtschaft\", \"fraktion\": \"Gr\\u00fcne\", \"sort\": 1, \"count\": 5}, {\"branche\": \"Staatspolitik/Staatswirtschaft\", \"fraktion\": \"SP\", \"sort\": 2, \"count\": 3}, {\"branche\": \"Staatspolitik/Staatswirtschaft\", \"fraktion\": \"GLP\", \"sort\": 3, \"count\": 3}, {\"branche\": \"Staatspolitik/Staatswirtschaft\", \"fraktion\": \"Mitte\", \"sort\": 4, \"count\": 12}, {\"branche\": \"Staatspolitik/Staatswirtschaft\", \"fraktion\": \"FDP\", \"sort\": 5, \"count\": 8}, {\"branche\": \"Staatspolitik/Staatswirtschaft\", \"fraktion\": \"SVP\", \"sort\": 6, \"count\": 6}, {\"branche\": \"Umwelt\", \"fraktion\": \"Gr\\u00fcne\", \"sort\": 1, \"count\": 3}, {\"branche\": \"Umwelt\", \"fraktion\": \"SP\", \"sort\": 2, \"count\": 5}, {\"branche\": \"Umwelt\", \"fraktion\": \"GLP\", \"sort\": 3, \"count\": 6}, {\"branche\": \"Umwelt\", \"fraktion\": \"Mitte\", \"sort\": 4, \"count\": 5}, {\"branche\": \"Umwelt\", \"fraktion\": \"FDP\", \"sort\": 5, \"count\": 2}, {\"branche\": \"Umwelt\", \"fraktion\": \"SVP\", \"sort\": 6, \"count\": 3}, {\"branche\": \"Verkehr\", \"fraktion\": \"Gr\\u00fcne\", \"sort\": 1, \"count\": 8}, {\"branche\": \"Verkehr\", \"fraktion\": \"SP\", \"sort\": 2, \"count\": 5}, {\"branche\": \"Verkehr\", \"fraktion\": \"GLP\", \"sort\": 3, \"count\": 2}, {\"branche\": \"Verkehr\", \"fraktion\": \"Mitte\", \"sort\": 4, \"count\": 23}, {\"branche\": \"Verkehr\", \"fraktion\": \"FDP\", \"sort\": 5, \"count\": 24}, {\"branche\": \"Verkehr\", \"fraktion\": \"SVP\", \"sort\": 6, \"count\": 22}, {\"branche\": \"Wirtschaft\", \"fraktion\": \"Gr\\u00fcne\", \"sort\": 1, \"count\": 21}, {\"branche\": \"Wirtschaft\", \"fraktion\": \"SP\", \"sort\": 2, \"count\": 31}, {\"branche\": \"Wirtschaft\", \"fraktion\": \"GLP\", \"sort\": 3, \"count\": 11}, {\"branche\": \"Wirtschaft\", \"fraktion\": \"Mitte\", \"sort\": 4, \"count\": 77}, {\"branche\": \"Wirtschaft\", \"fraktion\": \"FDP\", \"sort\": 5, \"count\": 105}, {\"branche\": \"Wirtschaft\", \"fraktion\": \"SVP\", \"sort\": 6, \"count\": 87}, {\"branche\": \"\\u00dcbrige\", \"fraktion\": \"Gr\\u00fcne\", \"sort\": 1, \"count\": 2}, {\"branche\": \"\\u00dcbrige\", \"fraktion\": \"SP\", \"sort\": 2, \"count\": 15}, {\"branche\": \"\\u00dcbrige\", \"fraktion\": \"GLP\", \"sort\": 3, \"count\": 1}, {\"branche\": \"\\u00dcbrige\", \"fraktion\": \"Mitte\", \"sort\": 4, \"count\": 10}, {\"branche\": \"\\u00dcbrige\", \"fraktion\": \"FDP\", \"sort\": 5, \"count\": 14}, {\"branche\": \"\\u00dcbrige\", \"fraktion\": \"SVP\", \"sort\": 6, \"count\": 12}]}}, {\"mode\": \"vega-lite\"});\n</script>",
      "text/plain": "alt.Chart(...)"
     },
     "execution_count": 296,
     "metadata": {},
     "output_type": "execute_result"
    }
   ],
   "source": [
    "source = duckdb.query('''\n",
    "    select branche, fraktion_lang fraktion, f.sort, count(1) count\n",
    "    from df_bezahlt b\n",
    "    join df_fraktionen f on f.fraktion = b.fraktion\n",
    "    where 1=1\n",
    "    and branche in (select branche from df_bezahlt group by branche having count(1) >= 20)\n",
    "    group by 1, 2, 3\n",
    "    union\n",
    "    select 'Übrige' branche, fraktion_lang fraktion, sort, count(1) count\n",
    "    from df_bezahlt b\n",
    "    join df_fraktionen f on f.fraktion = b.fraktion\n",
    "    where branche not in (select branche from df_bezahlt group by branche having count(1) >= 20)\n",
    "    group by 1, 2, 3\n",
    "    order by branche, f.sort\n",
    "''').to_df()\n",
    "\n",
    "chart = alt.Chart(source).mark_bar().encode(\n",
    "    x=alt.X('count', title='Anteil', stack='normalize', axis=alt.Axis(format='%')),\n",
    "    y=alt.Y('branche', title='Branche'),\n",
    "    color=alt.Color('fraktion', scale=alt.Scale(domain=fraktion_namen, range=fraktion_farben)),\n",
    "    order=alt.Order('color_fraktion_sort_index:Q'),\n",
    ")\n",
    "chart.save('output/bars-nach-branche-und-fraktion-relativ-min20.pdf')\n",
    "chart"
   ]
  },
  {
   "cell_type": "markdown",
   "metadata": {},
   "source": [
    "Umgekehrt kann man auch anschauen wo die Schwerpunkte der einzelnen Fraktionen liegen.\n",
    "_Berücksichtigt hier sind alle Branchen mit insgesamt mindestens 20 bezahlten Lobbymandaten._"
   ]
  },
  {
   "cell_type": "code",
   "execution_count": 297,
   "metadata": {},
   "outputs": [
    {
     "data": {
      "text/html": "\n<div id=\"altair-viz-dc05855bec004c73bf6cb7cfac6a15b8\"></div>\n<script type=\"text/javascript\">\n  var VEGA_DEBUG = (typeof VEGA_DEBUG == \"undefined\") ? {} : VEGA_DEBUG;\n  (function(spec, embedOpt){\n    let outputDiv = document.currentScript.previousElementSibling;\n    if (outputDiv.id !== \"altair-viz-dc05855bec004c73bf6cb7cfac6a15b8\") {\n      outputDiv = document.getElementById(\"altair-viz-dc05855bec004c73bf6cb7cfac6a15b8\");\n    }\n    const paths = {\n      \"vega\": \"https://cdn.jsdelivr.net/npm//vega@5?noext\",\n      \"vega-lib\": \"https://cdn.jsdelivr.net/npm//vega-lib?noext\",\n      \"vega-lite\": \"https://cdn.jsdelivr.net/npm//vega-lite@4.17.0?noext\",\n      \"vega-embed\": \"https://cdn.jsdelivr.net/npm//vega-embed@6?noext\",\n    };\n\n    function maybeLoadScript(lib, version) {\n      var key = `${lib.replace(\"-\", \"\")}_version`;\n      return (VEGA_DEBUG[key] == version) ?\n        Promise.resolve(paths[lib]) :\n        new Promise(function(resolve, reject) {\n          var s = document.createElement('script');\n          document.getElementsByTagName(\"head\")[0].appendChild(s);\n          s.async = true;\n          s.onload = () => {\n            VEGA_DEBUG[key] = version;\n            return resolve(paths[lib]);\n          };\n          s.onerror = () => reject(`Error loading script: ${paths[lib]}`);\n          s.src = paths[lib];\n        });\n    }\n\n    function showError(err) {\n      outputDiv.innerHTML = `<div class=\"error\" style=\"color:red;\">${err}</div>`;\n      throw err;\n    }\n\n    function displayChart(vegaEmbed) {\n      vegaEmbed(outputDiv, spec, embedOpt)\n        .catch(err => showError(`Javascript Error: ${err.message}<br>This usually means there's a typo in your chart specification. See the javascript console for the full traceback.`));\n    }\n\n    if(typeof define === \"function\" && define.amd) {\n      requirejs.config({paths});\n      require([\"vega-embed\"], displayChart, err => showError(`Error loading script: ${err.message}`));\n    } else {\n      maybeLoadScript(\"vega\", \"5\")\n        .then(() => maybeLoadScript(\"vega-lite\", \"4.17.0\"))\n        .then(() => maybeLoadScript(\"vega-embed\", \"6\"))\n        .catch(showError)\n        .then(() => displayChart(vegaEmbed));\n    }\n  })({\"config\": {\"view\": {\"continuousWidth\": 400, \"continuousHeight\": 300}}, \"data\": {\"name\": \"data-8021d5b2ecab83273b6b0aba683be8f9\"}, \"mark\": \"bar\", \"encoding\": {\"color\": {\"field\": \"branche\", \"type\": \"nominal\"}, \"x\": {\"axis\": {\"format\": \"%\"}, \"field\": \"count\", \"stack\": \"normalize\", \"title\": \"Anteil\", \"type\": \"quantitative\"}, \"y\": {\"field\": \"fraktion\", \"sort\": [\"Gr\\u00fcne\", \"SP\", \"Mitte\", \"GLP\", \"FDP\", \"SVP\"], \"title\": \"Fraktion\", \"type\": \"nominal\"}}, \"$schema\": \"https://vega.github.io/schema/vega-lite/v4.17.0.json\", \"datasets\": {\"data-8021d5b2ecab83273b6b0aba683be8f9\": [{\"branche\": \"Bildung\", \"fraktion\": \"Gr\\u00fcne\", \"sort\": 1, \"count\": 5}, {\"branche\": \"Bildung\", \"fraktion\": \"SP\", \"sort\": 2, \"count\": 9}, {\"branche\": \"Bildung\", \"fraktion\": \"GLP\", \"sort\": 3, \"count\": 1}, {\"branche\": \"Bildung\", \"fraktion\": \"Mitte\", \"sort\": 4, \"count\": 11}, {\"branche\": \"Bildung\", \"fraktion\": \"FDP\", \"sort\": 5, \"count\": 8}, {\"branche\": \"Bildung\", \"fraktion\": \"SVP\", \"sort\": 6, \"count\": 1}, {\"branche\": \"Energie\", \"fraktion\": \"SP\", \"sort\": 2, \"count\": 9}, {\"branche\": \"Energie\", \"fraktion\": \"GLP\", \"sort\": 3, \"count\": 8}, {\"branche\": \"Energie\", \"fraktion\": \"Mitte\", \"sort\": 4, \"count\": 20}, {\"branche\": \"Energie\", \"fraktion\": \"FDP\", \"sort\": 5, \"count\": 10}, {\"branche\": \"Energie\", \"fraktion\": \"SVP\", \"sort\": 6, \"count\": 4}, {\"branche\": \"Gesundheit\", \"fraktion\": \"Gr\\u00fcne\", \"sort\": 1, \"count\": 8}, {\"branche\": \"Gesundheit\", \"fraktion\": \"SP\", \"sort\": 2, \"count\": 16}, {\"branche\": \"Gesundheit\", \"fraktion\": \"GLP\", \"sort\": 3, \"count\": 10}, {\"branche\": \"Gesundheit\", \"fraktion\": \"Mitte\", \"sort\": 4, \"count\": 47}, {\"branche\": \"Gesundheit\", \"fraktion\": \"FDP\", \"sort\": 5, \"count\": 24}, {\"branche\": \"Gesundheit\", \"fraktion\": \"SVP\", \"sort\": 6, \"count\": 13}, {\"branche\": \"Landwirtschaft\", \"fraktion\": \"Gr\\u00fcne\", \"sort\": 1, \"count\": 4}, {\"branche\": \"Landwirtschaft\", \"fraktion\": \"SP\", \"sort\": 2, \"count\": 3}, {\"branche\": \"Landwirtschaft\", \"fraktion\": \"Mitte\", \"sort\": 4, \"count\": 18}, {\"branche\": \"Landwirtschaft\", \"fraktion\": \"FDP\", \"sort\": 5, \"count\": 6}, {\"branche\": \"Landwirtschaft\", \"fraktion\": \"SVP\", \"sort\": 6, \"count\": 22}, {\"branche\": \"Soziale Sicherheit\", \"fraktion\": \"Gr\\u00fcne\", \"sort\": 1, \"count\": 5}, {\"branche\": \"Soziale Sicherheit\", \"fraktion\": \"SP\", \"sort\": 2, \"count\": 15}, {\"branche\": \"Soziale Sicherheit\", \"fraktion\": \"GLP\", \"sort\": 3, \"count\": 3}, {\"branche\": \"Soziale Sicherheit\", \"fraktion\": \"Mitte\", \"sort\": 4, \"count\": 11}, {\"branche\": \"Soziale Sicherheit\", \"fraktion\": \"FDP\", \"sort\": 5, \"count\": 9}, {\"branche\": \"Soziale Sicherheit\", \"fraktion\": \"SVP\", \"sort\": 6, \"count\": 7}, {\"branche\": \"Staatspolitik/Staatswirtschaft\", \"fraktion\": \"Gr\\u00fcne\", \"sort\": 1, \"count\": 5}, {\"branche\": \"Staatspolitik/Staatswirtschaft\", \"fraktion\": \"SP\", \"sort\": 2, \"count\": 3}, {\"branche\": \"Staatspolitik/Staatswirtschaft\", \"fraktion\": \"GLP\", \"sort\": 3, \"count\": 3}, {\"branche\": \"Staatspolitik/Staatswirtschaft\", \"fraktion\": \"Mitte\", \"sort\": 4, \"count\": 12}, {\"branche\": \"Staatspolitik/Staatswirtschaft\", \"fraktion\": \"FDP\", \"sort\": 5, \"count\": 8}, {\"branche\": \"Staatspolitik/Staatswirtschaft\", \"fraktion\": \"SVP\", \"sort\": 6, \"count\": 6}, {\"branche\": \"Umwelt\", \"fraktion\": \"Gr\\u00fcne\", \"sort\": 1, \"count\": 3}, {\"branche\": \"Umwelt\", \"fraktion\": \"SP\", \"sort\": 2, \"count\": 5}, {\"branche\": \"Umwelt\", \"fraktion\": \"GLP\", \"sort\": 3, \"count\": 6}, {\"branche\": \"Umwelt\", \"fraktion\": \"Mitte\", \"sort\": 4, \"count\": 5}, {\"branche\": \"Umwelt\", \"fraktion\": \"FDP\", \"sort\": 5, \"count\": 2}, {\"branche\": \"Umwelt\", \"fraktion\": \"SVP\", \"sort\": 6, \"count\": 3}, {\"branche\": \"Verkehr\", \"fraktion\": \"Gr\\u00fcne\", \"sort\": 1, \"count\": 8}, {\"branche\": \"Verkehr\", \"fraktion\": \"SP\", \"sort\": 2, \"count\": 5}, {\"branche\": \"Verkehr\", \"fraktion\": \"GLP\", \"sort\": 3, \"count\": 2}, {\"branche\": \"Verkehr\", \"fraktion\": \"Mitte\", \"sort\": 4, \"count\": 23}, {\"branche\": \"Verkehr\", \"fraktion\": \"FDP\", \"sort\": 5, \"count\": 24}, {\"branche\": \"Verkehr\", \"fraktion\": \"SVP\", \"sort\": 6, \"count\": 22}, {\"branche\": \"Wirtschaft\", \"fraktion\": \"Gr\\u00fcne\", \"sort\": 1, \"count\": 21}, {\"branche\": \"Wirtschaft\", \"fraktion\": \"SP\", \"sort\": 2, \"count\": 31}, {\"branche\": \"Wirtschaft\", \"fraktion\": \"GLP\", \"sort\": 3, \"count\": 11}, {\"branche\": \"Wirtschaft\", \"fraktion\": \"Mitte\", \"sort\": 4, \"count\": 77}, {\"branche\": \"Wirtschaft\", \"fraktion\": \"FDP\", \"sort\": 5, \"count\": 105}, {\"branche\": \"Wirtschaft\", \"fraktion\": \"SVP\", \"sort\": 6, \"count\": 87}, {\"branche\": \"\\u00dcbrige\", \"fraktion\": \"Gr\\u00fcne\", \"sort\": 1, \"count\": 2}, {\"branche\": \"\\u00dcbrige\", \"fraktion\": \"SP\", \"sort\": 2, \"count\": 15}, {\"branche\": \"\\u00dcbrige\", \"fraktion\": \"GLP\", \"sort\": 3, \"count\": 1}, {\"branche\": \"\\u00dcbrige\", \"fraktion\": \"Mitte\", \"sort\": 4, \"count\": 10}, {\"branche\": \"\\u00dcbrige\", \"fraktion\": \"FDP\", \"sort\": 5, \"count\": 14}, {\"branche\": \"\\u00dcbrige\", \"fraktion\": \"SVP\", \"sort\": 6, \"count\": 12}]}}, {\"mode\": \"vega-lite\"});\n</script>",
      "text/plain": "alt.Chart(...)"
     },
     "execution_count": 297,
     "metadata": {},
     "output_type": "execute_result"
    }
   ],
   "source": [
    "source = duckdb.query('''\n",
    "    select branche, fraktion_lang fraktion, sort, count(1) count\n",
    "    from df_bezahlt b\n",
    "    join df_fraktionen f on f.fraktion = b.fraktion\n",
    "    where branche in (select branche from df_bezahlt group by branche having count(1) >= 20)\n",
    "    group by 1, 2, 3\n",
    "    union\n",
    "    select 'Übrige' branche, fraktion_lang fraktion, sort, count(1) count\n",
    "    from df_bezahlt b\n",
    "    join df_fraktionen f on f.fraktion = b.fraktion\n",
    "    where branche not in (select branche from df_bezahlt group by branche having count(1) >= 20)\n",
    "    group by 1, 2, 3\n",
    "    order by branche, f.sort\n",
    "''').to_df()\n",
    "\n",
    "chart = alt.Chart(source).mark_bar().encode(\n",
    "    x=alt.X('count', title='Anteil', axis=alt.Axis(format='%'), stack='normalize'),\n",
    "    y=alt.Y('fraktion', title='Fraktion', sort=fraktion_namen),\n",
    "    color='branche',\n",
    ").properties(\n",
    "    # height=400\n",
    ")\n",
    "chart.save('output/bars-nach-fraktion-und-branche-relativ-min20.pdf')\n",
    "chart"
   ]
  },
  {
   "cell_type": "code",
   "execution_count": 298,
   "metadata": {},
   "outputs": [
    {
     "data": {
      "text/html": "\n<div id=\"altair-viz-828f0c97bffa41c1a304dd8d9e2b2f32\"></div>\n<script type=\"text/javascript\">\n  var VEGA_DEBUG = (typeof VEGA_DEBUG == \"undefined\") ? {} : VEGA_DEBUG;\n  (function(spec, embedOpt){\n    let outputDiv = document.currentScript.previousElementSibling;\n    if (outputDiv.id !== \"altair-viz-828f0c97bffa41c1a304dd8d9e2b2f32\") {\n      outputDiv = document.getElementById(\"altair-viz-828f0c97bffa41c1a304dd8d9e2b2f32\");\n    }\n    const paths = {\n      \"vega\": \"https://cdn.jsdelivr.net/npm//vega@5?noext\",\n      \"vega-lib\": \"https://cdn.jsdelivr.net/npm//vega-lib?noext\",\n      \"vega-lite\": \"https://cdn.jsdelivr.net/npm//vega-lite@4.17.0?noext\",\n      \"vega-embed\": \"https://cdn.jsdelivr.net/npm//vega-embed@6?noext\",\n    };\n\n    function maybeLoadScript(lib, version) {\n      var key = `${lib.replace(\"-\", \"\")}_version`;\n      return (VEGA_DEBUG[key] == version) ?\n        Promise.resolve(paths[lib]) :\n        new Promise(function(resolve, reject) {\n          var s = document.createElement('script');\n          document.getElementsByTagName(\"head\")[0].appendChild(s);\n          s.async = true;\n          s.onload = () => {\n            VEGA_DEBUG[key] = version;\n            return resolve(paths[lib]);\n          };\n          s.onerror = () => reject(`Error loading script: ${paths[lib]}`);\n          s.src = paths[lib];\n        });\n    }\n\n    function showError(err) {\n      outputDiv.innerHTML = `<div class=\"error\" style=\"color:red;\">${err}</div>`;\n      throw err;\n    }\n\n    function displayChart(vegaEmbed) {\n      vegaEmbed(outputDiv, spec, embedOpt)\n        .catch(err => showError(`Javascript Error: ${err.message}<br>This usually means there's a typo in your chart specification. See the javascript console for the full traceback.`));\n    }\n\n    if(typeof define === \"function\" && define.amd) {\n      requirejs.config({paths});\n      require([\"vega-embed\"], displayChart, err => showError(`Error loading script: ${err.message}`));\n    } else {\n      maybeLoadScript(\"vega\", \"5\")\n        .then(() => maybeLoadScript(\"vega-lite\", \"4.17.0\"))\n        .then(() => maybeLoadScript(\"vega-embed\", \"6\"))\n        .catch(showError)\n        .then(() => displayChart(vegaEmbed));\n    }\n  })({\"config\": {\"view\": {\"continuousWidth\": 400, \"continuousHeight\": 300}}, \"data\": {\"name\": \"data-0df8de97445b0f0718468c3c643f222d\"}, \"facet\": {\"field\": \"branche\", \"type\": \"nominal\"}, \"spec\": {\"mark\": \"bar\", \"encoding\": {\"color\": {\"field\": \"fraktion\", \"scale\": {\"domain\": [\"Gr\\u00fcne\", \"SP\", \"Mitte\", \"GLP\", \"FDP\", \"SVP\"], \"range\": [\"#85B50C\", \"#E4022D\", \"#FF9100\", \"#A0A000\", \"#3A8BC1\", \"#0A7228\"]}, \"type\": \"nominal\"}, \"x\": {\"field\": \"count\", \"title\": \"Anzahl\", \"type\": \"quantitative\"}, \"y\": {\"field\": \"fraktion\", \"sort\": [\"G\", \"S\", \"GL\", \"M-E\", \"RL\", \"V\"], \"title\": \"Partei\", \"type\": \"nominal\"}}, \"width\": 250}, \"columns\": 3, \"resolve\": {\"scale\": {\"x\": \"independent\"}}, \"$schema\": \"https://vega.github.io/schema/vega-lite/v4.17.0.json\", \"datasets\": {\"data-0df8de97445b0f0718468c3c643f222d\": [{\"branche\": \"Bildung\", \"fraktion\": \"Gr\\u00fcne\", \"count\": 5}, {\"branche\": \"Wirtschaft\", \"fraktion\": \"Gr\\u00fcne\", \"count\": 21}, {\"branche\": \"Gesundheit\", \"fraktion\": \"Gr\\u00fcne\", \"count\": 8}, {\"branche\": \"Verkehr\", \"fraktion\": \"SVP\", \"count\": 22}, {\"branche\": \"Staatspolitik/Staatswirtschaft\", \"fraktion\": \"SVP\", \"count\": 6}, {\"branche\": \"Umwelt\", \"fraktion\": \"SVP\", \"count\": 3}, {\"branche\": \"Wirtschaft\", \"fraktion\": \"SVP\", \"count\": 87}, {\"branche\": \"Soziale Sicherheit\", \"fraktion\": \"SVP\", \"count\": 7}, {\"branche\": \"Landwirtschaft\", \"fraktion\": \"SVP\", \"count\": 22}, {\"branche\": \"Verkehr\", \"fraktion\": \"FDP\", \"count\": 24}, {\"branche\": \"Wirtschaft\", \"fraktion\": \"FDP\", \"count\": 105}, {\"branche\": \"Gesundheit\", \"fraktion\": \"SVP\", \"count\": 13}, {\"branche\": \"Staatspolitik/Staatswirtschaft\", \"fraktion\": \"FDP\", \"count\": 8}, {\"branche\": \"Verkehr\", \"fraktion\": \"Gr\\u00fcne\", \"count\": 8}, {\"branche\": \"Wirtschaft\", \"fraktion\": \"Mitte\", \"count\": 77}, {\"branche\": \"Verkehr\", \"fraktion\": \"Mitte\", \"count\": 23}, {\"branche\": \"Bildung\", \"fraktion\": \"Mitte\", \"count\": 11}, {\"branche\": \"Gesundheit\", \"fraktion\": \"Mitte\", \"count\": 47}, {\"branche\": \"Bildung\", \"fraktion\": \"FDP\", \"count\": 8}, {\"branche\": \"Landwirtschaft\", \"fraktion\": \"FDP\", \"count\": 6}, {\"branche\": \"Gesundheit\", \"fraktion\": \"SP\", \"count\": 16}, {\"branche\": \"Wirtschaft\", \"fraktion\": \"SP\", \"count\": 31}, {\"branche\": \"Soziale Sicherheit\", \"fraktion\": \"SP\", \"count\": 15}, {\"branche\": \"Umwelt\", \"fraktion\": \"GLP\", \"count\": 6}, {\"branche\": \"Staatspolitik/Staatswirtschaft\", \"fraktion\": \"GLP\", \"count\": 3}, {\"branche\": \"Energie\", \"fraktion\": \"GLP\", \"count\": 8}, {\"branche\": \"Wirtschaft\", \"fraktion\": \"GLP\", \"count\": 11}, {\"branche\": \"Landwirtschaft\", \"fraktion\": \"Mitte\", \"count\": 18}, {\"branche\": \"Gesundheit\", \"fraktion\": \"FDP\", \"count\": 24}, {\"branche\": \"Soziale Sicherheit\", \"fraktion\": \"FDP\", \"count\": 9}, {\"branche\": \"Umwelt\", \"fraktion\": \"Mitte\", \"count\": 5}, {\"branche\": \"Energie\", \"fraktion\": \"Mitte\", \"count\": 20}, {\"branche\": \"Soziale Sicherheit\", \"fraktion\": \"Mitte\", \"count\": 11}, {\"branche\": \"Staatspolitik/Staatswirtschaft\", \"fraktion\": \"SP\", \"count\": 3}, {\"branche\": \"Verkehr\", \"fraktion\": \"SP\", \"count\": 5}, {\"branche\": \"Bildung\", \"fraktion\": \"SP\", \"count\": 9}, {\"branche\": \"Soziale Sicherheit\", \"fraktion\": \"Gr\\u00fcne\", \"count\": 5}, {\"branche\": \"Bildung\", \"fraktion\": \"GLP\", \"count\": 1}, {\"branche\": \"Umwelt\", \"fraktion\": \"Gr\\u00fcne\", \"count\": 3}, {\"branche\": \"Staatspolitik/Staatswirtschaft\", \"fraktion\": \"Gr\\u00fcne\", \"count\": 5}, {\"branche\": \"Landwirtschaft\", \"fraktion\": \"Gr\\u00fcne\", \"count\": 4}, {\"branche\": \"Staatspolitik/Staatswirtschaft\", \"fraktion\": \"Mitte\", \"count\": 12}, {\"branche\": \"Landwirtschaft\", \"fraktion\": \"SP\", \"count\": 3}, {\"branche\": \"Bildung\", \"fraktion\": \"SVP\", \"count\": 1}, {\"branche\": \"Energie\", \"fraktion\": \"SP\", \"count\": 9}, {\"branche\": \"Umwelt\", \"fraktion\": \"SP\", \"count\": 5}, {\"branche\": \"Energie\", \"fraktion\": \"FDP\", \"count\": 10}, {\"branche\": \"Gesundheit\", \"fraktion\": \"GLP\", \"count\": 10}, {\"branche\": \"Verkehr\", \"fraktion\": \"GLP\", \"count\": 2}, {\"branche\": \"Soziale Sicherheit\", \"fraktion\": \"GLP\", \"count\": 3}, {\"branche\": \"Umwelt\", \"fraktion\": \"FDP\", \"count\": 2}, {\"branche\": \"Energie\", \"fraktion\": \"SVP\", \"count\": 4}, {\"branche\": \"\\u00dcbrige\", \"fraktion\": \"Gr\\u00fcne\", \"count\": 2}, {\"branche\": \"\\u00dcbrige\", \"fraktion\": \"Mitte\", \"count\": 10}, {\"branche\": \"\\u00dcbrige\", \"fraktion\": \"SP\", \"count\": 15}, {\"branche\": \"\\u00dcbrige\", \"fraktion\": \"SVP\", \"count\": 12}, {\"branche\": \"\\u00dcbrige\", \"fraktion\": \"FDP\", \"count\": 14}, {\"branche\": \"\\u00dcbrige\", \"fraktion\": \"GLP\", \"count\": 1}]}}, {\"mode\": \"vega-lite\"});\n</script>",
      "text/plain": "alt.FacetChart(...)"
     },
     "execution_count": 298,
     "metadata": {},
     "output_type": "execute_result"
    }
   ],
   "source": [
    "source = duckdb.query('''\n",
    "    select branche, fraktion_lang fraktion, count(1) count\n",
    "    from df_bezahlt b\n",
    "    join df_fraktionen f on f.fraktion = b.fraktion\n",
    "    where branche in (select branche from df_bezahlt group by branche having count(1) >= 20)\n",
    "    group by 1, 2\n",
    "    union\n",
    "    select 'Übrige' branche, fraktion_lang fraktion, count(1) count\n",
    "    from df_bezahlt b\n",
    "    join df_fraktionen f on f.fraktion = b.fraktion\n",
    "    where branche not in (select branche from df_bezahlt group by branche having count(1) >= 20)\n",
    "    group by 1, 2\n",
    "''').to_df()\n",
    "\n",
    "chart = alt.Chart(source).mark_bar().encode(\n",
    "    x=alt.X('count', title='Anzahl'),\n",
    "    y=alt.Y('fraktion', sort=['G','S','GL','M-E','RL','V'], title='Partei'),\n",
    "    color=alt.Color('fraktion', scale=alt.Scale(domain=fraktion_namen, range=fraktion_farben)),\n",
    ").properties(\n",
    "    width=250\n",
    ").facet(\n",
    "    facet='branche',\n",
    "    columns=3\n",
    ").resolve_scale(\n",
    "    x='independent',\n",
    "    # radius='shared',\n",
    ")\n",
    "chart.save('output/mehrere-bars-nach-branche-und-fraktion-absolut-min20.pdf')\n",
    "chart"
   ]
  },
  {
   "cell_type": "code",
   "execution_count": 299,
   "metadata": {},
   "outputs": [
    {
     "data": {
      "text/html": "\n<div id=\"altair-viz-36d8ac3013564eca903a8cac336aae23\"></div>\n<script type=\"text/javascript\">\n  var VEGA_DEBUG = (typeof VEGA_DEBUG == \"undefined\") ? {} : VEGA_DEBUG;\n  (function(spec, embedOpt){\n    let outputDiv = document.currentScript.previousElementSibling;\n    if (outputDiv.id !== \"altair-viz-36d8ac3013564eca903a8cac336aae23\") {\n      outputDiv = document.getElementById(\"altair-viz-36d8ac3013564eca903a8cac336aae23\");\n    }\n    const paths = {\n      \"vega\": \"https://cdn.jsdelivr.net/npm//vega@5?noext\",\n      \"vega-lib\": \"https://cdn.jsdelivr.net/npm//vega-lib?noext\",\n      \"vega-lite\": \"https://cdn.jsdelivr.net/npm//vega-lite@4.17.0?noext\",\n      \"vega-embed\": \"https://cdn.jsdelivr.net/npm//vega-embed@6?noext\",\n    };\n\n    function maybeLoadScript(lib, version) {\n      var key = `${lib.replace(\"-\", \"\")}_version`;\n      return (VEGA_DEBUG[key] == version) ?\n        Promise.resolve(paths[lib]) :\n        new Promise(function(resolve, reject) {\n          var s = document.createElement('script');\n          document.getElementsByTagName(\"head\")[0].appendChild(s);\n          s.async = true;\n          s.onload = () => {\n            VEGA_DEBUG[key] = version;\n            return resolve(paths[lib]);\n          };\n          s.onerror = () => reject(`Error loading script: ${paths[lib]}`);\n          s.src = paths[lib];\n        });\n    }\n\n    function showError(err) {\n      outputDiv.innerHTML = `<div class=\"error\" style=\"color:red;\">${err}</div>`;\n      throw err;\n    }\n\n    function displayChart(vegaEmbed) {\n      vegaEmbed(outputDiv, spec, embedOpt)\n        .catch(err => showError(`Javascript Error: ${err.message}<br>This usually means there's a typo in your chart specification. See the javascript console for the full traceback.`));\n    }\n\n    if(typeof define === \"function\" && define.amd) {\n      requirejs.config({paths});\n      require([\"vega-embed\"], displayChart, err => showError(`Error loading script: ${err.message}`));\n    } else {\n      maybeLoadScript(\"vega\", \"5\")\n        .then(() => maybeLoadScript(\"vega-lite\", \"4.17.0\"))\n        .then(() => maybeLoadScript(\"vega-embed\", \"6\"))\n        .catch(showError)\n        .then(() => displayChart(vegaEmbed));\n    }\n  })({\"config\": {\"view\": {\"continuousWidth\": 400, \"continuousHeight\": 300}}, \"data\": {\"name\": \"data-0df8de97445b0f0718468c3c643f222d\"}, \"facet\": {\"field\": \"fraktion\", \"type\": \"nominal\"}, \"spec\": {\"mark\": {\"type\": \"arc\", \"cornerRadius\": 4, \"innerRadius\": 40, \"stroke\": \"white\", \"strokeWidth\": 1.5}, \"encoding\": {\"color\": {\"field\": \"branche\", \"type\": \"nominal\"}, \"theta\": {\"field\": \"count\", \"stack\": \"normalize\", \"type\": \"quantitative\"}, \"tooltip\": {\"field\": \"count\", \"type\": \"quantitative\"}}, \"height\": 150, \"width\": 150}, \"columns\": 3, \"$schema\": \"https://vega.github.io/schema/vega-lite/v4.17.0.json\", \"datasets\": {\"data-0df8de97445b0f0718468c3c643f222d\": [{\"branche\": \"Bildung\", \"fraktion\": \"Gr\\u00fcne\", \"count\": 5}, {\"branche\": \"Wirtschaft\", \"fraktion\": \"Gr\\u00fcne\", \"count\": 21}, {\"branche\": \"Gesundheit\", \"fraktion\": \"Gr\\u00fcne\", \"count\": 8}, {\"branche\": \"Verkehr\", \"fraktion\": \"SVP\", \"count\": 22}, {\"branche\": \"Staatspolitik/Staatswirtschaft\", \"fraktion\": \"SVP\", \"count\": 6}, {\"branche\": \"Umwelt\", \"fraktion\": \"SVP\", \"count\": 3}, {\"branche\": \"Wirtschaft\", \"fraktion\": \"SVP\", \"count\": 87}, {\"branche\": \"Soziale Sicherheit\", \"fraktion\": \"SVP\", \"count\": 7}, {\"branche\": \"Landwirtschaft\", \"fraktion\": \"SVP\", \"count\": 22}, {\"branche\": \"Verkehr\", \"fraktion\": \"FDP\", \"count\": 24}, {\"branche\": \"Wirtschaft\", \"fraktion\": \"FDP\", \"count\": 105}, {\"branche\": \"Gesundheit\", \"fraktion\": \"SVP\", \"count\": 13}, {\"branche\": \"Staatspolitik/Staatswirtschaft\", \"fraktion\": \"FDP\", \"count\": 8}, {\"branche\": \"Verkehr\", \"fraktion\": \"Gr\\u00fcne\", \"count\": 8}, {\"branche\": \"Wirtschaft\", \"fraktion\": \"Mitte\", \"count\": 77}, {\"branche\": \"Verkehr\", \"fraktion\": \"Mitte\", \"count\": 23}, {\"branche\": \"Bildung\", \"fraktion\": \"Mitte\", \"count\": 11}, {\"branche\": \"Gesundheit\", \"fraktion\": \"Mitte\", \"count\": 47}, {\"branche\": \"Bildung\", \"fraktion\": \"FDP\", \"count\": 8}, {\"branche\": \"Landwirtschaft\", \"fraktion\": \"FDP\", \"count\": 6}, {\"branche\": \"Gesundheit\", \"fraktion\": \"SP\", \"count\": 16}, {\"branche\": \"Wirtschaft\", \"fraktion\": \"SP\", \"count\": 31}, {\"branche\": \"Soziale Sicherheit\", \"fraktion\": \"SP\", \"count\": 15}, {\"branche\": \"Umwelt\", \"fraktion\": \"GLP\", \"count\": 6}, {\"branche\": \"Staatspolitik/Staatswirtschaft\", \"fraktion\": \"GLP\", \"count\": 3}, {\"branche\": \"Energie\", \"fraktion\": \"GLP\", \"count\": 8}, {\"branche\": \"Wirtschaft\", \"fraktion\": \"GLP\", \"count\": 11}, {\"branche\": \"Landwirtschaft\", \"fraktion\": \"Mitte\", \"count\": 18}, {\"branche\": \"Gesundheit\", \"fraktion\": \"FDP\", \"count\": 24}, {\"branche\": \"Soziale Sicherheit\", \"fraktion\": \"FDP\", \"count\": 9}, {\"branche\": \"Umwelt\", \"fraktion\": \"Mitte\", \"count\": 5}, {\"branche\": \"Energie\", \"fraktion\": \"Mitte\", \"count\": 20}, {\"branche\": \"Soziale Sicherheit\", \"fraktion\": \"Mitte\", \"count\": 11}, {\"branche\": \"Staatspolitik/Staatswirtschaft\", \"fraktion\": \"SP\", \"count\": 3}, {\"branche\": \"Verkehr\", \"fraktion\": \"SP\", \"count\": 5}, {\"branche\": \"Bildung\", \"fraktion\": \"SP\", \"count\": 9}, {\"branche\": \"Soziale Sicherheit\", \"fraktion\": \"Gr\\u00fcne\", \"count\": 5}, {\"branche\": \"Bildung\", \"fraktion\": \"GLP\", \"count\": 1}, {\"branche\": \"Umwelt\", \"fraktion\": \"Gr\\u00fcne\", \"count\": 3}, {\"branche\": \"Staatspolitik/Staatswirtschaft\", \"fraktion\": \"Gr\\u00fcne\", \"count\": 5}, {\"branche\": \"Landwirtschaft\", \"fraktion\": \"Gr\\u00fcne\", \"count\": 4}, {\"branche\": \"Staatspolitik/Staatswirtschaft\", \"fraktion\": \"Mitte\", \"count\": 12}, {\"branche\": \"Landwirtschaft\", \"fraktion\": \"SP\", \"count\": 3}, {\"branche\": \"Bildung\", \"fraktion\": \"SVP\", \"count\": 1}, {\"branche\": \"Energie\", \"fraktion\": \"SP\", \"count\": 9}, {\"branche\": \"Umwelt\", \"fraktion\": \"SP\", \"count\": 5}, {\"branche\": \"Energie\", \"fraktion\": \"FDP\", \"count\": 10}, {\"branche\": \"Gesundheit\", \"fraktion\": \"GLP\", \"count\": 10}, {\"branche\": \"Verkehr\", \"fraktion\": \"GLP\", \"count\": 2}, {\"branche\": \"Soziale Sicherheit\", \"fraktion\": \"GLP\", \"count\": 3}, {\"branche\": \"Umwelt\", \"fraktion\": \"FDP\", \"count\": 2}, {\"branche\": \"Energie\", \"fraktion\": \"SVP\", \"count\": 4}, {\"branche\": \"\\u00dcbrige\", \"fraktion\": \"Gr\\u00fcne\", \"count\": 2}, {\"branche\": \"\\u00dcbrige\", \"fraktion\": \"Mitte\", \"count\": 10}, {\"branche\": \"\\u00dcbrige\", \"fraktion\": \"SP\", \"count\": 15}, {\"branche\": \"\\u00dcbrige\", \"fraktion\": \"SVP\", \"count\": 12}, {\"branche\": \"\\u00dcbrige\", \"fraktion\": \"FDP\", \"count\": 14}, {\"branche\": \"\\u00dcbrige\", \"fraktion\": \"GLP\", \"count\": 1}]}}, {\"mode\": \"vega-lite\"});\n</script>",
      "text/plain": "alt.FacetChart(...)"
     },
     "execution_count": 299,
     "metadata": {},
     "output_type": "execute_result"
    }
   ],
   "source": [
    "source = duckdb.query('''\n",
    "    select branche, fraktion_lang fraktion, count(1) count\n",
    "    from df_bezahlt b\n",
    "    join df_fraktionen f on f.fraktion = b.fraktion\n",
    "    where 1=1\n",
    "    and branche in (select branche from df_bezahlt group by branche having count(1) >= 20)\n",
    "    group by 1, 2\n",
    "    union\n",
    "    select 'Übrige' branche, fraktion_lang fraktion, count(1) count\n",
    "    from df_bezahlt b\n",
    "    join df_fraktionen f on f.fraktion = b.fraktion\n",
    "    where branche not in (select branche from df_bezahlt group by branche having count(1) >= 20)\n",
    "    group by 1, 2\n",
    "''').to_df()\n",
    "\n",
    "chart = alt.Chart(source).mark_arc(innerRadius=40, stroke='white', strokeWidth=1.5, cornerRadius=4).encode(\n",
    "    theta=alt.Theta('count', stack='normalize'),\n",
    "    color=alt.Color('branche'),\n",
    "    tooltip='count',\n",
    ").properties(\n",
    "    width=150,\n",
    "    height=150\n",
    ").facet(\n",
    "    facet='fraktion',\n",
    "    columns=3\n",
    ")\n",
    "chart.save('output/mehrere-kreise-nach-fraktion-und-branche-relativ-min20.pdf')\n",
    "chart"
   ]
  },
  {
   "cell_type": "code",
   "execution_count": 5,
   "metadata": {},
   "outputs": [
    {
     "data": {
      "text/html": "\n<div id=\"altair-viz-77efbeda33f6464f88ea854e69ac72ec\"></div>\n<script type=\"text/javascript\">\n  var VEGA_DEBUG = (typeof VEGA_DEBUG == \"undefined\") ? {} : VEGA_DEBUG;\n  (function(spec, embedOpt){\n    let outputDiv = document.currentScript.previousElementSibling;\n    if (outputDiv.id !== \"altair-viz-77efbeda33f6464f88ea854e69ac72ec\") {\n      outputDiv = document.getElementById(\"altair-viz-77efbeda33f6464f88ea854e69ac72ec\");\n    }\n    const paths = {\n      \"vega\": \"https://cdn.jsdelivr.net/npm//vega@5?noext\",\n      \"vega-lib\": \"https://cdn.jsdelivr.net/npm//vega-lib?noext\",\n      \"vega-lite\": \"https://cdn.jsdelivr.net/npm//vega-lite@4.17.0?noext\",\n      \"vega-embed\": \"https://cdn.jsdelivr.net/npm//vega-embed@6?noext\",\n    };\n\n    function maybeLoadScript(lib, version) {\n      var key = `${lib.replace(\"-\", \"\")}_version`;\n      return (VEGA_DEBUG[key] == version) ?\n        Promise.resolve(paths[lib]) :\n        new Promise(function(resolve, reject) {\n          var s = document.createElement('script');\n          document.getElementsByTagName(\"head\")[0].appendChild(s);\n          s.async = true;\n          s.onload = () => {\n            VEGA_DEBUG[key] = version;\n            return resolve(paths[lib]);\n          };\n          s.onerror = () => reject(`Error loading script: ${paths[lib]}`);\n          s.src = paths[lib];\n        });\n    }\n\n    function showError(err) {\n      outputDiv.innerHTML = `<div class=\"error\" style=\"color:red;\">${err}</div>`;\n      throw err;\n    }\n\n    function displayChart(vegaEmbed) {\n      vegaEmbed(outputDiv, spec, embedOpt)\n        .catch(err => showError(`Javascript Error: ${err.message}<br>This usually means there's a typo in your chart specification. See the javascript console for the full traceback.`));\n    }\n\n    if(typeof define === \"function\" && define.amd) {\n      requirejs.config({paths});\n      require([\"vega-embed\"], displayChart, err => showError(`Error loading script: ${err.message}`));\n    } else {\n      maybeLoadScript(\"vega\", \"5\")\n        .then(() => maybeLoadScript(\"vega-lite\", \"4.17.0\"))\n        .then(() => maybeLoadScript(\"vega-embed\", \"6\"))\n        .catch(showError)\n        .then(() => displayChart(vegaEmbed));\n    }\n  })({\"config\": {\"view\": {\"continuousWidth\": 400, \"continuousHeight\": 300}}, \"data\": {\"name\": \"data-3ac6ce36ee439007a8d2d8ed733db650\"}, \"facet\": {\"field\": \"branche\", \"type\": \"nominal\"}, \"spec\": {\"layer\": [{\"mark\": {\"type\": \"arc\", \"cornerRadius\": 4, \"innerRadius\": 0, \"stroke\": \"white\", \"strokeWidth\": 1.5}, \"encoding\": {\"color\": {\"field\": \"fraktion\", \"scale\": {\"domain\": [\"Gr\\u00fcne\", \"SP\", \"Mitte\", \"GLP\", \"FDP\", \"SVP\"], \"range\": [\"#85B50C\", \"#E4022D\", \"#FF9100\", \"#A0A000\", \"#3A8BC1\", \"#0A7228\"]}, \"type\": \"nominal\"}, \"radius\": {\"field\": \"count\", \"scale\": {\"rangeMax\": 75, \"type\": \"sqrt\"}, \"stack\": false, \"type\": \"quantitative\"}, \"theta\": {\"field\": \"fraktion\", \"scale\": {\"domain\": [\"Gr\\u00fcne\", \"SP\", \"Mitte\", \"GLP\", \"FDP\", \"SVP\"], \"rangeMin\": 0}, \"stack\": true, \"type\": \"nominal\"}, \"tooltip\": [{\"field\": \"fraktion\", \"type\": \"nominal\"}, {\"field\": \"count\", \"title\": \"anzahl\", \"type\": \"quantitative\"}, {\"field\": \"rel_count\", \"format\": \".1%\", \"title\": \"anteil\", \"type\": \"quantitative\"}]}, \"height\": 180, \"transform\": [{\"calculate\": \"datum.count / datum.count_all\", \"as\": \"rel_count\"}], \"width\": 180}, {\"mark\": {\"type\": \"text\", \"radiusOffset\": 10}, \"encoding\": {\"color\": {\"field\": \"fraktion\", \"scale\": {\"domain\": [\"Gr\\u00fcne\", \"SP\", \"Mitte\", \"GLP\", \"FDP\", \"SVP\"], \"range\": [\"#85B50C\", \"#E4022D\", \"#FF9100\", \"#A0A000\", \"#3A8BC1\", \"#0A7228\"]}, \"type\": \"nominal\"}, \"radius\": {\"field\": \"count\", \"scale\": {\"rangeMax\": 75, \"type\": \"sqrt\"}, \"stack\": false, \"type\": \"quantitative\"}, \"text\": {\"field\": \"label\", \"type\": \"nominal\"}, \"theta\": {\"field\": \"fraktion\", \"scale\": {\"domain\": [\"Gr\\u00fcne\", \"SP\", \"Mitte\", \"GLP\", \"FDP\", \"SVP\"], \"rangeMin\": 0}, \"stack\": true, \"type\": \"nominal\"}, \"tooltip\": [{\"field\": \"fraktion\", \"type\": \"nominal\"}, {\"field\": \"count\", \"title\": \"anzahl\", \"type\": \"quantitative\"}, {\"field\": \"rel_count\", \"format\": \".1%\", \"title\": \"anteil\", \"type\": \"quantitative\"}]}, \"height\": 180, \"transform\": [{\"calculate\": \"datum.count / datum.count_all\", \"as\": \"rel_count\"}, {\"calculate\": \"datum.count == 0 ? \\\"\\\" : datum.count\", \"as\": \"label\"}], \"width\": 180}]}, \"columns\": 4, \"resolve\": {\"scale\": {\"radius\": \"independent\"}}, \"$schema\": \"https://vega.github.io/schema/vega-lite/v4.17.0.json\", \"datasets\": {\"data-3ac6ce36ee439007a8d2d8ed733db650\": [{\"branche\": \"Bildung\", \"fraktion\": \"Gr\\u00fcne\", \"count\": 5, \"count_all\": 35}, {\"branche\": \"Bildung\", \"fraktion\": \"GLP\", \"count\": 1, \"count_all\": 35}, {\"branche\": \"Bildung\", \"fraktion\": \"Mitte\", \"count\": 11, \"count_all\": 35}, {\"branche\": \"Bildung\", \"fraktion\": \"FDP\", \"count\": 8, \"count_all\": 35}, {\"branche\": \"Bildung\", \"fraktion\": \"SP\", \"count\": 9, \"count_all\": 35}, {\"branche\": \"Bildung\", \"fraktion\": \"SVP\", \"count\": 1, \"count_all\": 35}, {\"branche\": \"Energie\", \"fraktion\": \"Gr\\u00fcne\", \"count\": 1, \"count_all\": 52}, {\"branche\": \"Energie\", \"fraktion\": \"GLP\", \"count\": 8, \"count_all\": 52}, {\"branche\": \"Energie\", \"fraktion\": \"Mitte\", \"count\": 20, \"count_all\": 52}, {\"branche\": \"Energie\", \"fraktion\": \"FDP\", \"count\": 10, \"count_all\": 52}, {\"branche\": \"Energie\", \"fraktion\": \"SP\", \"count\": 9, \"count_all\": 52}, {\"branche\": \"Energie\", \"fraktion\": \"SVP\", \"count\": 4, \"count_all\": 52}, {\"branche\": \"Gesundheit\", \"fraktion\": \"Gr\\u00fcne\", \"count\": 8, \"count_all\": 118}, {\"branche\": \"Gesundheit\", \"fraktion\": \"GLP\", \"count\": 10, \"count_all\": 118}, {\"branche\": \"Gesundheit\", \"fraktion\": \"Mitte\", \"count\": 47, \"count_all\": 118}, {\"branche\": \"Gesundheit\", \"fraktion\": \"FDP\", \"count\": 24, \"count_all\": 118}, {\"branche\": \"Gesundheit\", \"fraktion\": \"SP\", \"count\": 16, \"count_all\": 118}, {\"branche\": \"Gesundheit\", \"fraktion\": \"SVP\", \"count\": 13, \"count_all\": 118}, {\"branche\": \"Landwirtschaft\", \"fraktion\": \"Gr\\u00fcne\", \"count\": 4, \"count_all\": 54}, {\"branche\": \"Landwirtschaft\", \"fraktion\": \"GLP\", \"count\": 1, \"count_all\": 54}, {\"branche\": \"Landwirtschaft\", \"fraktion\": \"Mitte\", \"count\": 18, \"count_all\": 54}, {\"branche\": \"Landwirtschaft\", \"fraktion\": \"FDP\", \"count\": 6, \"count_all\": 54}, {\"branche\": \"Landwirtschaft\", \"fraktion\": \"SP\", \"count\": 3, \"count_all\": 54}, {\"branche\": \"Landwirtschaft\", \"fraktion\": \"SVP\", \"count\": 22, \"count_all\": 54}, {\"branche\": \"Soziale Sicherheit\", \"fraktion\": \"Gr\\u00fcne\", \"count\": 5, \"count_all\": 50}, {\"branche\": \"Soziale Sicherheit\", \"fraktion\": \"GLP\", \"count\": 3, \"count_all\": 50}, {\"branche\": \"Soziale Sicherheit\", \"fraktion\": \"Mitte\", \"count\": 11, \"count_all\": 50}, {\"branche\": \"Soziale Sicherheit\", \"fraktion\": \"FDP\", \"count\": 9, \"count_all\": 50}, {\"branche\": \"Soziale Sicherheit\", \"fraktion\": \"SP\", \"count\": 15, \"count_all\": 50}, {\"branche\": \"Soziale Sicherheit\", \"fraktion\": \"SVP\", \"count\": 7, \"count_all\": 50}, {\"branche\": \"Staatspolitik/Staatswirtschaft\", \"fraktion\": \"Gr\\u00fcne\", \"count\": 5, \"count_all\": 37}, {\"branche\": \"Staatspolitik/Staatswirtschaft\", \"fraktion\": \"GLP\", \"count\": 3, \"count_all\": 37}, {\"branche\": \"Staatspolitik/Staatswirtschaft\", \"fraktion\": \"Mitte\", \"count\": 12, \"count_all\": 37}, {\"branche\": \"Staatspolitik/Staatswirtschaft\", \"fraktion\": \"FDP\", \"count\": 8, \"count_all\": 37}, {\"branche\": \"Staatspolitik/Staatswirtschaft\", \"fraktion\": \"SP\", \"count\": 3, \"count_all\": 37}, {\"branche\": \"Staatspolitik/Staatswirtschaft\", \"fraktion\": \"SVP\", \"count\": 6, \"count_all\": 37}, {\"branche\": \"Umwelt\", \"fraktion\": \"Gr\\u00fcne\", \"count\": 3, \"count_all\": 24}, {\"branche\": \"Umwelt\", \"fraktion\": \"GLP\", \"count\": 6, \"count_all\": 24}, {\"branche\": \"Umwelt\", \"fraktion\": \"Mitte\", \"count\": 5, \"count_all\": 24}, {\"branche\": \"Umwelt\", \"fraktion\": \"FDP\", \"count\": 2, \"count_all\": 24}, {\"branche\": \"Umwelt\", \"fraktion\": \"SP\", \"count\": 5, \"count_all\": 24}, {\"branche\": \"Umwelt\", \"fraktion\": \"SVP\", \"count\": 3, \"count_all\": 24}, {\"branche\": \"Verkehr\", \"fraktion\": \"Gr\\u00fcne\", \"count\": 8, \"count_all\": 84}, {\"branche\": \"Verkehr\", \"fraktion\": \"GLP\", \"count\": 2, \"count_all\": 84}, {\"branche\": \"Verkehr\", \"fraktion\": \"Mitte\", \"count\": 23, \"count_all\": 84}, {\"branche\": \"Verkehr\", \"fraktion\": \"FDP\", \"count\": 24, \"count_all\": 84}, {\"branche\": \"Verkehr\", \"fraktion\": \"SP\", \"count\": 5, \"count_all\": 84}, {\"branche\": \"Verkehr\", \"fraktion\": \"SVP\", \"count\": 22, \"count_all\": 84}, {\"branche\": \"Wirtschaft\", \"fraktion\": \"Gr\\u00fcne\", \"count\": 21, \"count_all\": 332}, {\"branche\": \"Wirtschaft\", \"fraktion\": \"GLP\", \"count\": 11, \"count_all\": 332}, {\"branche\": \"Wirtschaft\", \"fraktion\": \"Mitte\", \"count\": 77, \"count_all\": 332}, {\"branche\": \"Wirtschaft\", \"fraktion\": \"FDP\", \"count\": 105, \"count_all\": 332}, {\"branche\": \"Wirtschaft\", \"fraktion\": \"SP\", \"count\": 31, \"count_all\": 332}, {\"branche\": \"Wirtschaft\", \"fraktion\": \"SVP\", \"count\": 87, \"count_all\": 332}, {\"branche\": \"\\u00dcbrige\", \"fraktion\": \"Gr\\u00fcne\", \"count\": 2, \"count_all\": 54}, {\"branche\": \"\\u00dcbrige\", \"fraktion\": \"GLP\", \"count\": 1, \"count_all\": 54}, {\"branche\": \"\\u00dcbrige\", \"fraktion\": \"Mitte\", \"count\": 10, \"count_all\": 54}, {\"branche\": \"\\u00dcbrige\", \"fraktion\": \"FDP\", \"count\": 14, \"count_all\": 54}, {\"branche\": \"\\u00dcbrige\", \"fraktion\": \"SP\", \"count\": 15, \"count_all\": 54}, {\"branche\": \"\\u00dcbrige\", \"fraktion\": \"SVP\", \"count\": 12, \"count_all\": 54}]}}, {\"mode\": \"vega-lite\"});\n</script>",
      "text/plain": "alt.FacetChart(...)"
     },
     "execution_count": 5,
     "metadata": {},
     "output_type": "execute_result"
    }
   ],
   "source": [
    "source = duckdb.query('''\n",
    "    select distinct p.branche, fraktion_lang fraktion,\n",
    "        count(1) over (partition by p.branche, p.fraktion) count,\n",
    "        count(1) over (partition by p.branche) count_all\n",
    "    from (\n",
    "        select branche, fraktion\n",
    "        from (select distinct fraktion from df_bezahlt) p\n",
    "        cross join (select branche from df_bezahlt group by branche having count(1) >= 20 /*order by count(1) desc limit 9*/) b\n",
    "    ) p left join df_bezahlt on (p.branche, p.fraktion) = (df_bezahlt.branche, df_bezahlt.fraktion)\n",
    "    join df_fraktionen f on f.fraktion = p.fraktion\n",
    "    where 1=1\n",
    "    union all\n",
    "    select distinct 'Übrige', fraktion_lang fraktion, count(1) over (partition by p.fraktion), count(1) over ()\n",
    "    from df_bezahlt p\n",
    "    join df_fraktionen f on f.fraktion = p.fraktion\n",
    "    where branche not in (select branche from df_bezahlt group by branche having count(1) >= 20)\n",
    "''').to_df()\n",
    "\n",
    "base = alt.Chart().encode(\n",
    "    theta=alt.Theta('fraktion', stack=True, scale=alt.Scale(domain=fraktion_namen, rangeMin=0)),\n",
    "    radius=alt.Radius('count:Q', scale=alt.Scale(type='sqrt', rangeMax=75), stack=False),\n",
    "    color=alt.Color('fraktion', scale=alt.Scale(domain=fraktion_namen, range=fraktion_farben)),\n",
    "    tooltip=[alt.Tooltip('fraktion'), alt.Tooltip('count', title='anzahl'), alt.Tooltip('rel_count', type='quantitative', format='.1%', title='anteil')],\n",
    ").properties(\n",
    "    width=180,\n",
    "    height=180\n",
    ").transform_calculate(\n",
    "    rel_count='datum.count / datum.count_all',\n",
    ")\n",
    "\n",
    "arcs = base.mark_arc(\n",
    "    innerRadius=0,\n",
    "    stroke='white',\n",
    "    strokeWidth=1.5,\n",
    "    cornerRadius=4,\n",
    "    # tooltip=True\n",
    ")\n",
    "\n",
    "text = base.mark_text(radiusOffset=10).encode(\n",
    "    text='label:N'\n",
    ").transform_calculate(\n",
    "    # label='datum.rel_count == 0 ? \"\" : format(datum.rel_count, \".1%\")'\n",
    "    label='datum.count == 0 ? \"\" : datum.count'\n",
    ")\n",
    "\n",
    "chart = alt.layer(arcs, text, data=source).facet(\n",
    "    facet='branche',\n",
    "    columns=4\n",
    ").resolve_scale(\n",
    "    radius='independent',\n",
    "    # radius='shared',\n",
    ")\n",
    "chart.save('output/mehrere-radial-nach-branche-und-fraktion-min20.pdf')\n",
    "chart"
   ]
  },
  {
   "cell_type": "code",
   "execution_count": 301,
   "metadata": {},
   "outputs": [
    {
     "data": {
      "text/html": "\n<div id=\"altair-viz-9686525cb074449698e4c6b857344ef7\"></div>\n<script type=\"text/javascript\">\n  var VEGA_DEBUG = (typeof VEGA_DEBUG == \"undefined\") ? {} : VEGA_DEBUG;\n  (function(spec, embedOpt){\n    let outputDiv = document.currentScript.previousElementSibling;\n    if (outputDiv.id !== \"altair-viz-9686525cb074449698e4c6b857344ef7\") {\n      outputDiv = document.getElementById(\"altair-viz-9686525cb074449698e4c6b857344ef7\");\n    }\n    const paths = {\n      \"vega\": \"https://cdn.jsdelivr.net/npm//vega@5?noext\",\n      \"vega-lib\": \"https://cdn.jsdelivr.net/npm//vega-lib?noext\",\n      \"vega-lite\": \"https://cdn.jsdelivr.net/npm//vega-lite@4.17.0?noext\",\n      \"vega-embed\": \"https://cdn.jsdelivr.net/npm//vega-embed@6?noext\",\n    };\n\n    function maybeLoadScript(lib, version) {\n      var key = `${lib.replace(\"-\", \"\")}_version`;\n      return (VEGA_DEBUG[key] == version) ?\n        Promise.resolve(paths[lib]) :\n        new Promise(function(resolve, reject) {\n          var s = document.createElement('script');\n          document.getElementsByTagName(\"head\")[0].appendChild(s);\n          s.async = true;\n          s.onload = () => {\n            VEGA_DEBUG[key] = version;\n            return resolve(paths[lib]);\n          };\n          s.onerror = () => reject(`Error loading script: ${paths[lib]}`);\n          s.src = paths[lib];\n        });\n    }\n\n    function showError(err) {\n      outputDiv.innerHTML = `<div class=\"error\" style=\"color:red;\">${err}</div>`;\n      throw err;\n    }\n\n    function displayChart(vegaEmbed) {\n      vegaEmbed(outputDiv, spec, embedOpt)\n        .catch(err => showError(`Javascript Error: ${err.message}<br>This usually means there's a typo in your chart specification. See the javascript console for the full traceback.`));\n    }\n\n    if(typeof define === \"function\" && define.amd) {\n      requirejs.config({paths});\n      require([\"vega-embed\"], displayChart, err => showError(`Error loading script: ${err.message}`));\n    } else {\n      maybeLoadScript(\"vega\", \"5\")\n        .then(() => maybeLoadScript(\"vega-lite\", \"4.17.0\"))\n        .then(() => maybeLoadScript(\"vega-embed\", \"6\"))\n        .catch(showError)\n        .then(() => displayChart(vegaEmbed));\n    }\n  })({\"config\": {\"view\": {\"continuousWidth\": 400, \"continuousHeight\": 300}}, \"data\": {\"name\": \"data-8488bf7c2cc8729826659a140aa23f7f\"}, \"facet\": {\"field\": \"fraktion\", \"type\": \"nominal\"}, \"spec\": {\"mark\": {\"type\": \"arc\", \"cornerRadius\": 4, \"innerRadius\": 0, \"stroke\": \"white\", \"strokeWidth\": 1.5}, \"encoding\": {\"color\": {\"field\": \"branche\", \"type\": \"nominal\"}, \"radius\": {\"field\": \"count\", \"scale\": {\"rangeMax\": 70, \"type\": \"sqrt\"}, \"stack\": false, \"type\": \"quantitative\"}, \"theta\": {\"field\": \"branche\", \"stack\": \"center\", \"type\": \"nominal\"}, \"tooltip\": [{\"field\": \"branche\", \"type\": \"nominal\"}, {\"field\": \"count\", \"type\": \"quantitative\"}, {\"field\": \"rel_count\", \"type\": \"quantitative\"}]}, \"height\": 150, \"transform\": [{\"calculate\": \"datum.count / datum.count_all\", \"as\": \"rel_count\"}], \"width\": 150}, \"columns\": 3, \"resolve\": {\"scale\": {\"radius\": \"independent\"}}, \"$schema\": \"https://vega.github.io/schema/vega-lite/v4.17.0.json\", \"datasets\": {\"data-8488bf7c2cc8729826659a140aa23f7f\": [{\"branche\": \"Bildung\", \"fraktion\": \"Gr\\u00fcne\", \"count\": 5, \"count_all\": 35}, {\"branche\": \"Bildung\", \"fraktion\": \"GLP\", \"count\": 1, \"count_all\": 35}, {\"branche\": \"Bildung\", \"fraktion\": \"Mitte\", \"count\": 11, \"count_all\": 35}, {\"branche\": \"Bildung\", \"fraktion\": \"FDP\", \"count\": 8, \"count_all\": 35}, {\"branche\": \"Bildung\", \"fraktion\": \"SP\", \"count\": 9, \"count_all\": 35}, {\"branche\": \"Bildung\", \"fraktion\": \"SVP\", \"count\": 1, \"count_all\": 35}, {\"branche\": \"Energie\", \"fraktion\": \"Gr\\u00fcne\", \"count\": 0, \"count_all\": 51}, {\"branche\": \"Energie\", \"fraktion\": \"GLP\", \"count\": 8, \"count_all\": 51}, {\"branche\": \"Energie\", \"fraktion\": \"Mitte\", \"count\": 20, \"count_all\": 51}, {\"branche\": \"Energie\", \"fraktion\": \"FDP\", \"count\": 10, \"count_all\": 51}, {\"branche\": \"Energie\", \"fraktion\": \"SP\", \"count\": 9, \"count_all\": 51}, {\"branche\": \"Energie\", \"fraktion\": \"SVP\", \"count\": 4, \"count_all\": 51}, {\"branche\": \"Gesundheit\", \"fraktion\": \"Gr\\u00fcne\", \"count\": 8, \"count_all\": 118}, {\"branche\": \"Gesundheit\", \"fraktion\": \"GLP\", \"count\": 10, \"count_all\": 118}, {\"branche\": \"Gesundheit\", \"fraktion\": \"Mitte\", \"count\": 47, \"count_all\": 118}, {\"branche\": \"Gesundheit\", \"fraktion\": \"FDP\", \"count\": 24, \"count_all\": 118}, {\"branche\": \"Gesundheit\", \"fraktion\": \"SP\", \"count\": 16, \"count_all\": 118}, {\"branche\": \"Gesundheit\", \"fraktion\": \"SVP\", \"count\": 13, \"count_all\": 118}, {\"branche\": \"Landwirtschaft\", \"fraktion\": \"Gr\\u00fcne\", \"count\": 4, \"count_all\": 53}, {\"branche\": \"Landwirtschaft\", \"fraktion\": \"GLP\", \"count\": 0, \"count_all\": 53}, {\"branche\": \"Landwirtschaft\", \"fraktion\": \"Mitte\", \"count\": 18, \"count_all\": 53}, {\"branche\": \"Landwirtschaft\", \"fraktion\": \"FDP\", \"count\": 6, \"count_all\": 53}, {\"branche\": \"Landwirtschaft\", \"fraktion\": \"SP\", \"count\": 3, \"count_all\": 53}, {\"branche\": \"Landwirtschaft\", \"fraktion\": \"SVP\", \"count\": 22, \"count_all\": 53}, {\"branche\": \"Soziale Sicherheit\", \"fraktion\": \"Gr\\u00fcne\", \"count\": 5, \"count_all\": 50}, {\"branche\": \"Soziale Sicherheit\", \"fraktion\": \"GLP\", \"count\": 3, \"count_all\": 50}, {\"branche\": \"Soziale Sicherheit\", \"fraktion\": \"Mitte\", \"count\": 11, \"count_all\": 50}, {\"branche\": \"Soziale Sicherheit\", \"fraktion\": \"SP\", \"count\": 15, \"count_all\": 50}, {\"branche\": \"Soziale Sicherheit\", \"fraktion\": \"SVP\", \"count\": 7, \"count_all\": 50}, {\"branche\": \"Staatspolitik/Staatswirtschaft\", \"fraktion\": \"Gr\\u00fcne\", \"count\": 5, \"count_all\": 37}, {\"branche\": \"Staatspolitik/Staatswirtschaft\", \"fraktion\": \"GLP\", \"count\": 3, \"count_all\": 37}, {\"branche\": \"Staatspolitik/Staatswirtschaft\", \"fraktion\": \"Mitte\", \"count\": 12, \"count_all\": 37}, {\"branche\": \"Staatspolitik/Staatswirtschaft\", \"fraktion\": \"FDP\", \"count\": 8, \"count_all\": 37}, {\"branche\": \"Staatspolitik/Staatswirtschaft\", \"fraktion\": \"SP\", \"count\": 3, \"count_all\": 37}, {\"branche\": \"Staatspolitik/Staatswirtschaft\", \"fraktion\": \"SVP\", \"count\": 6, \"count_all\": 37}, {\"branche\": \"Umwelt\", \"fraktion\": \"Gr\\u00fcne\", \"count\": 3, \"count_all\": 24}, {\"branche\": \"Umwelt\", \"fraktion\": \"GLP\", \"count\": 6, \"count_all\": 24}, {\"branche\": \"Umwelt\", \"fraktion\": \"Mitte\", \"count\": 5, \"count_all\": 24}, {\"branche\": \"Umwelt\", \"fraktion\": \"FDP\", \"count\": 2, \"count_all\": 24}, {\"branche\": \"Umwelt\", \"fraktion\": \"SP\", \"count\": 5, \"count_all\": 24}, {\"branche\": \"Umwelt\", \"fraktion\": \"SVP\", \"count\": 3, \"count_all\": 24}, {\"branche\": \"Verkehr\", \"fraktion\": \"Gr\\u00fcne\", \"count\": 8, \"count_all\": 84}, {\"branche\": \"Verkehr\", \"fraktion\": \"GLP\", \"count\": 2, \"count_all\": 84}, {\"branche\": \"Verkehr\", \"fraktion\": \"Mitte\", \"count\": 23, \"count_all\": 84}, {\"branche\": \"Verkehr\", \"fraktion\": \"FDP\", \"count\": 24, \"count_all\": 84}, {\"branche\": \"Verkehr\", \"fraktion\": \"SP\", \"count\": 5, \"count_all\": 84}, {\"branche\": \"Verkehr\", \"fraktion\": \"SVP\", \"count\": 22, \"count_all\": 84}, {\"branche\": \"Wirtschaft\", \"fraktion\": \"Gr\\u00fcne\", \"count\": 21, \"count_all\": 332}, {\"branche\": \"Wirtschaft\", \"fraktion\": \"GLP\", \"count\": 11, \"count_all\": 332}, {\"branche\": \"Wirtschaft\", \"fraktion\": \"Mitte\", \"count\": 77, \"count_all\": 332}, {\"branche\": \"Wirtschaft\", \"fraktion\": \"FDP\", \"count\": 105, \"count_all\": 332}, {\"branche\": \"Wirtschaft\", \"fraktion\": \"SP\", \"count\": 31, \"count_all\": 332}, {\"branche\": \"Wirtschaft\", \"fraktion\": \"SVP\", \"count\": 87, \"count_all\": 332}, {\"branche\": \"Soziale Sicherheit\", \"fraktion\": \"FDP\", \"count\": 9, \"count_all\": 50}, {\"branche\": \"\\u00dcbrige\", \"fraktion\": \"Gr\\u00fcne\", \"count\": 2, \"count_all\": 54}, {\"branche\": \"\\u00dcbrige\", \"fraktion\": \"GLP\", \"count\": 1, \"count_all\": 54}, {\"branche\": \"\\u00dcbrige\", \"fraktion\": \"Mitte\", \"count\": 10, \"count_all\": 54}, {\"branche\": \"\\u00dcbrige\", \"fraktion\": \"FDP\", \"count\": 14, \"count_all\": 54}, {\"branche\": \"\\u00dcbrige\", \"fraktion\": \"SP\", \"count\": 15, \"count_all\": 54}, {\"branche\": \"\\u00dcbrige\", \"fraktion\": \"SVP\", \"count\": 12, \"count_all\": 54}]}}, {\"mode\": \"vega-lite\"});\n</script>",
      "text/plain": "alt.FacetChart(...)"
     },
     "execution_count": 301,
     "metadata": {},
     "output_type": "execute_result"
    }
   ],
   "source": [
    "source = duckdb.query('''\n",
    "    select distinct p.branche, fraktion_lang fraktion,\n",
    "        count(b.interessenbindung_id) over (partition by p.branche, p.fraktion) count,\n",
    "        count(b.interessenbindung_id) over (partition by p.branche) count_all\n",
    "    from (\n",
    "        select distinct branche, fraktion\n",
    "        from (select fraktion from df_bezahlt) p\n",
    "        cross join (select branche from df_bezahlt group by branche having count(1) >= 20 /*order by count(1) desc limit 9*/) b\n",
    "    ) p left join df_bezahlt b on (p.branche, p.fraktion) = (b.branche, b.fraktion)\n",
    "    join df_fraktionen f on f.fraktion = p.fraktion\n",
    "    where 1=1\n",
    "    union all\n",
    "    select distinct 'Übrige', fraktion_lang fraktion, count(1) over (partition by p.fraktion), count(1) over ()\n",
    "    from df_bezahlt p\n",
    "    join df_fraktionen f on f.fraktion = p.fraktion\n",
    "    where branche not in (select branche from df_bezahlt group by branche having count(1) >= 20)\n",
    "''').to_df()\n",
    "\n",
    "chart = alt.Chart(source).mark_arc(\n",
    "    innerRadius=0,\n",
    "    stroke='white',\n",
    "    strokeWidth=1.5,\n",
    "    cornerRadius=4\n",
    ").encode(\n",
    "    # theta=alt.Theta('branche', stack=True),\n",
    "    # radius=alt.Radius('count:Q', scale=alt.Scale(type='sqrt', rangeMax=75), stack=False),\n",
    "    theta=alt.Theta('branche', stack='center'),\n",
    "    radius=alt.Radius('count', type='quantitative', scale=alt.Scale(type='sqrt', rangeMax=70), stack=False),\n",
    "    color=alt.Color('branche'),\n",
    "    tooltip=['branche','count', 'rel_count:Q'],\n",
    ").properties(\n",
    "    width=150,\n",
    "    height=150\n",
    ").transform_calculate(\n",
    "    rel_count='datum.count / datum.count_all'\n",
    ").facet(\n",
    "    facet='fraktion',\n",
    "    columns=3\n",
    ").resolve_scale(\n",
    "    # theta='shared',\n",
    "    radius='independent',\n",
    ")\n",
    "chart.save('output/mehrere-radial-nach-fraktion-und-branche-min20.pdf')\n",
    "chart"
   ]
  },
  {
   "cell_type": "code",
   "execution_count": 302,
   "metadata": {},
   "outputs": [
    {
     "data": {
      "text/html": "\n<div id=\"altair-viz-950a6204b4084755911b5d87eee027ba\"></div>\n<script type=\"text/javascript\">\n  var VEGA_DEBUG = (typeof VEGA_DEBUG == \"undefined\") ? {} : VEGA_DEBUG;\n  (function(spec, embedOpt){\n    let outputDiv = document.currentScript.previousElementSibling;\n    if (outputDiv.id !== \"altair-viz-950a6204b4084755911b5d87eee027ba\") {\n      outputDiv = document.getElementById(\"altair-viz-950a6204b4084755911b5d87eee027ba\");\n    }\n    const paths = {\n      \"vega\": \"https://cdn.jsdelivr.net/npm//vega@5?noext\",\n      \"vega-lib\": \"https://cdn.jsdelivr.net/npm//vega-lib?noext\",\n      \"vega-lite\": \"https://cdn.jsdelivr.net/npm//vega-lite@4.17.0?noext\",\n      \"vega-embed\": \"https://cdn.jsdelivr.net/npm//vega-embed@6?noext\",\n    };\n\n    function maybeLoadScript(lib, version) {\n      var key = `${lib.replace(\"-\", \"\")}_version`;\n      return (VEGA_DEBUG[key] == version) ?\n        Promise.resolve(paths[lib]) :\n        new Promise(function(resolve, reject) {\n          var s = document.createElement('script');\n          document.getElementsByTagName(\"head\")[0].appendChild(s);\n          s.async = true;\n          s.onload = () => {\n            VEGA_DEBUG[key] = version;\n            return resolve(paths[lib]);\n          };\n          s.onerror = () => reject(`Error loading script: ${paths[lib]}`);\n          s.src = paths[lib];\n        });\n    }\n\n    function showError(err) {\n      outputDiv.innerHTML = `<div class=\"error\" style=\"color:red;\">${err}</div>`;\n      throw err;\n    }\n\n    function displayChart(vegaEmbed) {\n      vegaEmbed(outputDiv, spec, embedOpt)\n        .catch(err => showError(`Javascript Error: ${err.message}<br>This usually means there's a typo in your chart specification. See the javascript console for the full traceback.`));\n    }\n\n    if(typeof define === \"function\" && define.amd) {\n      requirejs.config({paths});\n      require([\"vega-embed\"], displayChart, err => showError(`Error loading script: ${err.message}`));\n    } else {\n      maybeLoadScript(\"vega\", \"5\")\n        .then(() => maybeLoadScript(\"vega-lite\", \"4.17.0\"))\n        .then(() => maybeLoadScript(\"vega-embed\", \"6\"))\n        .catch(showError)\n        .then(() => displayChart(vegaEmbed));\n    }\n  })({\"config\": {\"view\": {\"continuousWidth\": 400, \"continuousHeight\": 300}}, \"data\": {\"name\": \"data-0709e64b32ea58b80faf91b6f7e23138\"}, \"facet\": {\"field\": \"parl_label\", \"type\": \"nominal\"}, \"spec\": {\"mark\": {\"type\": \"arc\", \"cornerRadius\": 4, \"innerRadius\": 0, \"stroke\": \"white\", \"strokeWidth\": 1.5}, \"encoding\": {\"color\": {\"field\": \"branche\", \"type\": \"nominal\"}, \"radius\": {\"field\": \"count\", \"scale\": {\"rangeMax\": 70, \"type\": \"sqrt\"}, \"stack\": false, \"type\": \"quantitative\"}, \"theta\": {\"field\": \"branche\", \"scale\": {\"rangeMin\": 0}, \"stack\": \"center\", \"type\": \"nominal\"}, \"tooltip\": [{\"field\": \"branche\", \"type\": \"nominal\"}, {\"field\": \"count\", \"title\": \"anzahl\", \"type\": \"quantitative\"}, {\"field\": \"rel_count\", \"format\": \".1%\", \"title\": \"anteil\", \"type\": \"quantitative\"}]}, \"height\": 150, \"transform\": [{\"calculate\": \"datum.count / datum.count_all\", \"as\": \"rel_count\"}, {\"calculate\": \"datum.parlamentarier + \\\" (\\\" + datum.partei + \\\"/\\\" + datum.kanton + \\\")\\\"\", \"as\": \"parl_label\"}], \"width\": 150}, \"columns\": 3, \"resolve\": {\"scale\": {\"radius\": \"independent\"}}, \"$schema\": \"https://vega.github.io/schema/vega-lite/v4.17.0.json\", \"datasets\": {\"data-0709e64b32ea58b80faf91b6f7e23138\": [{\"branche\": \"Bildung\", \"parlamentarier\": \"Albert R\\u00f6sti\", \"partei\": \"SVP\", \"kanton\": \"BE\", \"count\": 0, \"count_all\": 8}, {\"branche\": \"Bildung\", \"parlamentarier\": \"Beat Rieder\", \"partei\": \"M\", \"kanton\": \"VS\", \"count\": 0, \"count_all\": 8}, {\"branche\": \"Bildung\", \"parlamentarier\": \"Beat Walti\", \"partei\": \"FDP\", \"kanton\": \"ZH\", \"count\": 1, \"count_all\": 8}, {\"branche\": \"Bildung\", \"parlamentarier\": \"Erich Ettlin\", \"partei\": \"M\", \"kanton\": \"OW\", \"count\": 0, \"count_all\": 8}, {\"branche\": \"Bildung\", \"parlamentarier\": \"Fabio Regazzi\", \"partei\": \"M\", \"kanton\": \"TI\", \"count\": 0, \"count_all\": 8}, {\"branche\": \"Bildung\", \"parlamentarier\": \"Gerhard Pfister\", \"partei\": \"M\", \"kanton\": \"ZG\", \"count\": 5, \"count_all\": 8}, {\"branche\": \"Bildung\", \"parlamentarier\": \"Josef Dittli\", \"partei\": \"FDP\", \"kanton\": \"UR\", \"count\": 0, \"count_all\": 8}, {\"branche\": \"Bildung\", \"parlamentarier\": \"Lorenz Hess\", \"partei\": \"M\", \"kanton\": \"BE\", \"count\": 0, \"count_all\": 8}, {\"branche\": \"Bildung\", \"parlamentarier\": \"Martin Schmid\", \"partei\": \"FDP\", \"kanton\": \"GR\", \"count\": 1, \"count_all\": 8}, {\"branche\": \"Bildung\", \"parlamentarier\": \"Peter Schilliger\", \"partei\": \"FDP\", \"kanton\": \"LU\", \"count\": 1, \"count_all\": 8}, {\"branche\": \"Bildung\", \"parlamentarier\": \"Ruth Humbel\", \"partei\": \"M\", \"kanton\": \"AG\", \"count\": 0, \"count_all\": 8}, {\"branche\": \"Bildung\", \"parlamentarier\": \"Thomas de Courten\", \"partei\": \"SVP\", \"kanton\": \"BL\", \"count\": 0, \"count_all\": 8}, {\"branche\": \"Energie\", \"parlamentarier\": \"Albert R\\u00f6sti\", \"partei\": \"SVP\", \"kanton\": \"BE\", \"count\": 0, \"count_all\": 7}, {\"branche\": \"Energie\", \"parlamentarier\": \"Beat Rieder\", \"partei\": \"M\", \"kanton\": \"VS\", \"count\": 0, \"count_all\": 7}, {\"branche\": \"Energie\", \"parlamentarier\": \"Beat Walti\", \"partei\": \"FDP\", \"kanton\": \"ZH\", \"count\": 0, \"count_all\": 7}, {\"branche\": \"Energie\", \"parlamentarier\": \"Erich Ettlin\", \"partei\": \"M\", \"kanton\": \"OW\", \"count\": 0, \"count_all\": 7}, {\"branche\": \"Energie\", \"parlamentarier\": \"Fabio Regazzi\", \"partei\": \"M\", \"kanton\": \"TI\", \"count\": 0, \"count_all\": 7}, {\"branche\": \"Energie\", \"parlamentarier\": \"Gerhard Pfister\", \"partei\": \"M\", \"kanton\": \"ZG\", \"count\": 1, \"count_all\": 7}, {\"branche\": \"Energie\", \"parlamentarier\": \"Josef Dittli\", \"partei\": \"FDP\", \"kanton\": \"UR\", \"count\": 0, \"count_all\": 7}, {\"branche\": \"Energie\", \"parlamentarier\": \"Lorenz Hess\", \"partei\": \"M\", \"kanton\": \"BE\", \"count\": 0, \"count_all\": 7}, {\"branche\": \"Energie\", \"parlamentarier\": \"Martin Schmid\", \"partei\": \"FDP\", \"kanton\": \"GR\", \"count\": 5, \"count_all\": 7}, {\"branche\": \"Energie\", \"parlamentarier\": \"Peter Schilliger\", \"partei\": \"FDP\", \"kanton\": \"LU\", \"count\": 0, \"count_all\": 7}, {\"branche\": \"Energie\", \"parlamentarier\": \"Ruth Humbel\", \"partei\": \"M\", \"kanton\": \"AG\", \"count\": 0, \"count_all\": 7}, {\"branche\": \"Energie\", \"parlamentarier\": \"Thomas de Courten\", \"partei\": \"SVP\", \"kanton\": \"BL\", \"count\": 1, \"count_all\": 7}, {\"branche\": \"Gesundheit\", \"parlamentarier\": \"Albert R\\u00f6sti\", \"partei\": \"SVP\", \"kanton\": \"BE\", \"count\": 0, \"count_all\": 48}, {\"branche\": \"Gesundheit\", \"parlamentarier\": \"Beat Rieder\", \"partei\": \"M\", \"kanton\": \"VS\", \"count\": 0, \"count_all\": 48}, {\"branche\": \"Gesundheit\", \"parlamentarier\": \"Beat Walti\", \"partei\": \"FDP\", \"kanton\": \"ZH\", \"count\": 9, \"count_all\": 48}, {\"branche\": \"Gesundheit\", \"parlamentarier\": \"Erich Ettlin\", \"partei\": \"M\", \"kanton\": \"OW\", \"count\": 6, \"count_all\": 48}, {\"branche\": \"Gesundheit\", \"parlamentarier\": \"Fabio Regazzi\", \"partei\": \"M\", \"kanton\": \"TI\", \"count\": 0, \"count_all\": 48}, {\"branche\": \"Gesundheit\", \"parlamentarier\": \"Gerhard Pfister\", \"partei\": \"M\", \"kanton\": \"ZG\", \"count\": 1, \"count_all\": 48}, {\"branche\": \"Gesundheit\", \"parlamentarier\": \"Josef Dittli\", \"partei\": \"FDP\", \"kanton\": \"UR\", \"count\": 2, \"count_all\": 48}, {\"branche\": \"Gesundheit\", \"parlamentarier\": \"Lorenz Hess\", \"partei\": \"M\", \"kanton\": \"BE\", \"count\": 8, \"count_all\": 48}, {\"branche\": \"Gesundheit\", \"parlamentarier\": \"Martin Schmid\", \"partei\": \"FDP\", \"kanton\": \"GR\", \"count\": 3, \"count_all\": 48}, {\"branche\": \"Gesundheit\", \"parlamentarier\": \"Peter Schilliger\", \"partei\": \"FDP\", \"kanton\": \"LU\", \"count\": 2, \"count_all\": 48}, {\"branche\": \"Gesundheit\", \"parlamentarier\": \"Ruth Humbel\", \"partei\": \"M\", \"kanton\": \"AG\", \"count\": 14, \"count_all\": 48}, {\"branche\": \"Gesundheit\", \"parlamentarier\": \"Thomas de Courten\", \"partei\": \"SVP\", \"kanton\": \"BL\", \"count\": 3, \"count_all\": 48}, {\"branche\": \"Landwirtschaft\", \"parlamentarier\": \"Albert R\\u00f6sti\", \"partei\": \"SVP\", \"kanton\": \"BE\", \"count\": 1, \"count_all\": 3}, {\"branche\": \"Landwirtschaft\", \"parlamentarier\": \"Beat Rieder\", \"partei\": \"M\", \"kanton\": \"VS\", \"count\": 1, \"count_all\": 3}, {\"branche\": \"Landwirtschaft\", \"parlamentarier\": \"Beat Walti\", \"partei\": \"FDP\", \"kanton\": \"ZH\", \"count\": 0, \"count_all\": 3}, {\"branche\": \"Landwirtschaft\", \"parlamentarier\": \"Erich Ettlin\", \"partei\": \"M\", \"kanton\": \"OW\", \"count\": 0, \"count_all\": 3}, {\"branche\": \"Landwirtschaft\", \"parlamentarier\": \"Fabio Regazzi\", \"partei\": \"M\", \"kanton\": \"TI\", \"count\": 0, \"count_all\": 3}, {\"branche\": \"Landwirtschaft\", \"parlamentarier\": \"Gerhard Pfister\", \"partei\": \"M\", \"kanton\": \"ZG\", \"count\": 0, \"count_all\": 3}, {\"branche\": \"Landwirtschaft\", \"parlamentarier\": \"Josef Dittli\", \"partei\": \"FDP\", \"kanton\": \"UR\", \"count\": 0, \"count_all\": 3}, {\"branche\": \"Landwirtschaft\", \"parlamentarier\": \"Lorenz Hess\", \"partei\": \"M\", \"kanton\": \"BE\", \"count\": 1, \"count_all\": 3}, {\"branche\": \"Landwirtschaft\", \"parlamentarier\": \"Martin Schmid\", \"partei\": \"FDP\", \"kanton\": \"GR\", \"count\": 0, \"count_all\": 3}, {\"branche\": \"Landwirtschaft\", \"parlamentarier\": \"Peter Schilliger\", \"partei\": \"FDP\", \"kanton\": \"LU\", \"count\": 0, \"count_all\": 3}, {\"branche\": \"Landwirtschaft\", \"parlamentarier\": \"Ruth Humbel\", \"partei\": \"M\", \"kanton\": \"AG\", \"count\": 0, \"count_all\": 3}, {\"branche\": \"Landwirtschaft\", \"parlamentarier\": \"Thomas de Courten\", \"partei\": \"SVP\", \"kanton\": \"BL\", \"count\": 0, \"count_all\": 3}, {\"branche\": \"Soziale Sicherheit\", \"parlamentarier\": \"Albert R\\u00f6sti\", \"partei\": \"SVP\", \"kanton\": \"BE\", \"count\": 1, \"count_all\": 3}, {\"branche\": \"Soziale Sicherheit\", \"parlamentarier\": \"Beat Rieder\", \"partei\": \"M\", \"kanton\": \"VS\", \"count\": 0, \"count_all\": 3}, {\"branche\": \"Soziale Sicherheit\", \"parlamentarier\": \"Beat Walti\", \"partei\": \"FDP\", \"kanton\": \"ZH\", \"count\": 1, \"count_all\": 3}, {\"branche\": \"Soziale Sicherheit\", \"parlamentarier\": \"Erich Ettlin\", \"partei\": \"M\", \"kanton\": \"OW\", \"count\": 0, \"count_all\": 3}, {\"branche\": \"Soziale Sicherheit\", \"parlamentarier\": \"Fabio Regazzi\", \"partei\": \"M\", \"kanton\": \"TI\", \"count\": 0, \"count_all\": 3}, {\"branche\": \"Soziale Sicherheit\", \"parlamentarier\": \"Gerhard Pfister\", \"partei\": \"M\", \"kanton\": \"ZG\", \"count\": 0, \"count_all\": 3}, {\"branche\": \"Soziale Sicherheit\", \"parlamentarier\": \"Josef Dittli\", \"partei\": \"FDP\", \"kanton\": \"UR\", \"count\": 0, \"count_all\": 3}, {\"branche\": \"Soziale Sicherheit\", \"parlamentarier\": \"Lorenz Hess\", \"partei\": \"M\", \"kanton\": \"BE\", \"count\": 0, \"count_all\": 3}, {\"branche\": \"Soziale Sicherheit\", \"parlamentarier\": \"Martin Schmid\", \"partei\": \"FDP\", \"kanton\": \"GR\", \"count\": 0, \"count_all\": 3}, {\"branche\": \"Soziale Sicherheit\", \"parlamentarier\": \"Peter Schilliger\", \"partei\": \"FDP\", \"kanton\": \"LU\", \"count\": 0, \"count_all\": 3}, {\"branche\": \"Soziale Sicherheit\", \"parlamentarier\": \"Ruth Humbel\", \"partei\": \"M\", \"kanton\": \"AG\", \"count\": 1, \"count_all\": 3}, {\"branche\": \"Soziale Sicherheit\", \"parlamentarier\": \"Thomas de Courten\", \"partei\": \"SVP\", \"kanton\": \"BL\", \"count\": 0, \"count_all\": 3}, {\"branche\": \"Staatspolitik/Staatswirtschaft\", \"parlamentarier\": \"Albert R\\u00f6sti\", \"partei\": \"SVP\", \"kanton\": \"BE\", \"count\": 2, \"count_all\": 5}, {\"branche\": \"Staatspolitik/Staatswirtschaft\", \"parlamentarier\": \"Beat Rieder\", \"partei\": \"M\", \"kanton\": \"VS\", \"count\": 0, \"count_all\": 5}, {\"branche\": \"Staatspolitik/Staatswirtschaft\", \"parlamentarier\": \"Beat Walti\", \"partei\": \"FDP\", \"kanton\": \"ZH\", \"count\": 0, \"count_all\": 5}, {\"branche\": \"Staatspolitik/Staatswirtschaft\", \"parlamentarier\": \"Erich Ettlin\", \"partei\": \"M\", \"kanton\": \"OW\", \"count\": 1, \"count_all\": 5}, {\"branche\": \"Staatspolitik/Staatswirtschaft\", \"parlamentarier\": \"Fabio Regazzi\", \"partei\": \"M\", \"kanton\": \"TI\", \"count\": 0, \"count_all\": 5}, {\"branche\": \"Staatspolitik/Staatswirtschaft\", \"parlamentarier\": \"Gerhard Pfister\", \"partei\": \"M\", \"kanton\": \"ZG\", \"count\": 0, \"count_all\": 5}, {\"branche\": \"Staatspolitik/Staatswirtschaft\", \"parlamentarier\": \"Josef Dittli\", \"partei\": \"FDP\", \"kanton\": \"UR\", \"count\": 0, \"count_all\": 5}, {\"branche\": \"Staatspolitik/Staatswirtschaft\", \"parlamentarier\": \"Lorenz Hess\", \"partei\": \"M\", \"kanton\": \"BE\", \"count\": 1, \"count_all\": 5}, {\"branche\": \"Staatspolitik/Staatswirtschaft\", \"parlamentarier\": \"Martin Schmid\", \"partei\": \"FDP\", \"kanton\": \"GR\", \"count\": 0, \"count_all\": 5}, {\"branche\": \"Staatspolitik/Staatswirtschaft\", \"parlamentarier\": \"Peter Schilliger\", \"partei\": \"FDP\", \"kanton\": \"LU\", \"count\": 0, \"count_all\": 5}, {\"branche\": \"Staatspolitik/Staatswirtschaft\", \"parlamentarier\": \"Ruth Humbel\", \"partei\": \"M\", \"kanton\": \"AG\", \"count\": 1, \"count_all\": 5}, {\"branche\": \"Staatspolitik/Staatswirtschaft\", \"parlamentarier\": \"Thomas de Courten\", \"partei\": \"SVP\", \"kanton\": \"BL\", \"count\": 0, \"count_all\": 5}, {\"branche\": \"Verkehr\", \"parlamentarier\": \"Albert R\\u00f6sti\", \"partei\": \"SVP\", \"kanton\": \"BE\", \"count\": 2, \"count_all\": 17}, {\"branche\": \"Verkehr\", \"parlamentarier\": \"Beat Rieder\", \"partei\": \"M\", \"kanton\": \"VS\", \"count\": 2, \"count_all\": 17}, {\"branche\": \"Verkehr\", \"parlamentarier\": \"Beat Walti\", \"partei\": \"FDP\", \"kanton\": \"ZH\", \"count\": 1, \"count_all\": 17}, {\"branche\": \"Verkehr\", \"parlamentarier\": \"Erich Ettlin\", \"partei\": \"M\", \"kanton\": \"OW\", \"count\": 0, \"count_all\": 17}, {\"branche\": \"Verkehr\", \"parlamentarier\": \"Fabio Regazzi\", \"partei\": \"M\", \"kanton\": \"TI\", \"count\": 6, \"count_all\": 17}, {\"branche\": \"Verkehr\", \"parlamentarier\": \"Gerhard Pfister\", \"partei\": \"M\", \"kanton\": \"ZG\", \"count\": 0, \"count_all\": 17}, {\"branche\": \"Verkehr\", \"parlamentarier\": \"Josef Dittli\", \"partei\": \"FDP\", \"kanton\": \"UR\", \"count\": 1, \"count_all\": 17}, {\"branche\": \"Verkehr\", \"parlamentarier\": \"Martin Schmid\", \"partei\": \"FDP\", \"kanton\": \"GR\", \"count\": 0, \"count_all\": 17}, {\"branche\": \"Verkehr\", \"parlamentarier\": \"Peter Schilliger\", \"partei\": \"FDP\", \"kanton\": \"LU\", \"count\": 2, \"count_all\": 17}, {\"branche\": \"Verkehr\", \"parlamentarier\": \"Ruth Humbel\", \"partei\": \"M\", \"kanton\": \"AG\", \"count\": 0, \"count_all\": 17}, {\"branche\": \"Verkehr\", \"parlamentarier\": \"Thomas de Courten\", \"partei\": \"SVP\", \"kanton\": \"BL\", \"count\": 3, \"count_all\": 17}, {\"branche\": \"Wirtschaft\", \"parlamentarier\": \"Albert R\\u00f6sti\", \"partei\": \"SVP\", \"kanton\": \"BE\", \"count\": 2, \"count_all\": 63}, {\"branche\": \"Wirtschaft\", \"parlamentarier\": \"Beat Rieder\", \"partei\": \"M\", \"kanton\": \"VS\", \"count\": 5, \"count_all\": 63}, {\"branche\": \"Wirtschaft\", \"parlamentarier\": \"Beat Walti\", \"partei\": \"FDP\", \"kanton\": \"ZH\", \"count\": 4, \"count_all\": 63}, {\"branche\": \"Wirtschaft\", \"parlamentarier\": \"Erich Ettlin\", \"partei\": \"M\", \"kanton\": \"OW\", \"count\": 8, \"count_all\": 63}, {\"branche\": \"Wirtschaft\", \"parlamentarier\": \"Fabio Regazzi\", \"partei\": \"M\", \"kanton\": \"TI\", \"count\": 3, \"count_all\": 63}, {\"branche\": \"Wirtschaft\", \"parlamentarier\": \"Gerhard Pfister\", \"partei\": \"M\", \"kanton\": \"ZG\", \"count\": 7, \"count_all\": 63}, {\"branche\": \"Wirtschaft\", \"parlamentarier\": \"Josef Dittli\", \"partei\": \"FDP\", \"kanton\": \"UR\", \"count\": 8, \"count_all\": 63}, {\"branche\": \"Wirtschaft\", \"parlamentarier\": \"Lorenz Hess\", \"partei\": \"M\", \"kanton\": \"BE\", \"count\": 3, \"count_all\": 63}, {\"branche\": \"Wirtschaft\", \"parlamentarier\": \"Martin Schmid\", \"partei\": \"FDP\", \"kanton\": \"GR\", \"count\": 7, \"count_all\": 63}, {\"branche\": \"Wirtschaft\", \"parlamentarier\": \"Peter Schilliger\", \"partei\": \"FDP\", \"kanton\": \"LU\", \"count\": 12, \"count_all\": 63}, {\"branche\": \"Wirtschaft\", \"parlamentarier\": \"Ruth Humbel\", \"partei\": \"M\", \"kanton\": \"AG\", \"count\": 1, \"count_all\": 63}, {\"branche\": \"Wirtschaft\", \"parlamentarier\": \"Thomas de Courten\", \"partei\": \"SVP\", \"kanton\": \"BL\", \"count\": 3, \"count_all\": 63}, {\"branche\": \"Verkehr\", \"parlamentarier\": \"Lorenz Hess\", \"partei\": \"M\", \"kanton\": \"BE\", \"count\": 0, \"count_all\": 17}, {\"branche\": \"\\u00dcbrige\", \"parlamentarier\": \"Albert R\\u00f6sti\", \"partei\": \"SVP\", \"kanton\": \"BE\", \"count\": 12, \"count_all\": 48}, {\"branche\": \"\\u00dcbrige\", \"parlamentarier\": \"Beat Rieder\", \"partei\": \"M\", \"kanton\": \"VS\", \"count\": 12, \"count_all\": 48}, {\"branche\": \"\\u00dcbrige\", \"parlamentarier\": \"Fabio Regazzi\", \"partei\": \"M\", \"kanton\": \"TI\", \"count\": 12, \"count_all\": 48}, {\"branche\": \"\\u00dcbrige\", \"parlamentarier\": \"Gerhard Pfister\", \"partei\": \"M\", \"kanton\": \"ZG\", \"count\": 6, \"count_all\": 48}, {\"branche\": \"\\u00dcbrige\", \"parlamentarier\": \"Thomas de Courten\", \"partei\": \"SVP\", \"kanton\": \"BL\", \"count\": 6, \"count_all\": 48}]}}, {\"mode\": \"vega-lite\"});\n</script>",
      "text/plain": "alt.FacetChart(...)"
     },
     "execution_count": 302,
     "metadata": {},
     "output_type": "execute_result"
    }
   ],
   "source": [
    "source = duckdb.query('''\n",
    "    select distinct p.branche, p.parlamentarier, p.partei, p.kanton,\n",
    "        count(interessenbindung_id) over (partition by p.branche, p.parlamentarier) count,\n",
    "        count(interessenbindung_id) over (partition by p.branche) count_all\n",
    "    from (\n",
    "        select branche, parlamentarier, partei, kanton\n",
    "        from (select parlamentarier, partei, kanton from df_bezahlt group by 1,2,3 order by count(1) desc limit 12) p\n",
    "        cross join (select branche from df_bezahlt group by branche order by count(1) desc limit 8) b\n",
    "    ) p left join df_bezahlt b on (p.branche, p.parlamentarier) = (b.branche, b.parlamentarier)\n",
    "    where 1=1\n",
    "    union all\n",
    "    select distinct 'Übrige', p.parlamentarier, b.partei, b.kanton,\n",
    "        count(1) over (partition by p.parlamentarier) count,\n",
    "        count(1) over () count_all\n",
    "    from (\n",
    "        select parlamentarier\n",
    "        from (select parlamentarier as parlamentarier from df_bezahlt group by 1 order by count(1) desc limit 12) p\n",
    "        cross join (select branche from df_bezahlt group by branche order by count(1) desc offset 8) b\n",
    "    ) p join df_bezahlt b on (p.parlamentarier) = (b.parlamentarier)\n",
    "    where branche not in (select branche from df_bezahlt group by branche order by count(1) desc limit 8)\n",
    "''').to_df()\n",
    "\n",
    "chart = alt.Chart(source).mark_arc(\n",
    "    innerRadius=0,\n",
    "    stroke='white',\n",
    "    strokeWidth=1.5,\n",
    "    cornerRadius=4,\n",
    "    # tooltip=True\n",
    ").encode(\n",
    "    theta=alt.Theta('branche', stack='center', scale=alt.Scale(rangeMin=0)),\n",
    "    radius=alt.Radius('count', type='quantitative', scale=alt.Scale(type='sqrt', rangeMax=70), stack=False),\n",
    "    color=alt.Color('branche'),\n",
    "    tooltip=[alt.Tooltip('branche'), alt.Tooltip('count', title='anzahl'), alt.Tooltip('rel_count', type='quantitative', format='.1%', title='anteil')],\n",
    ").properties(\n",
    "    width=150,\n",
    "    height=150\n",
    ").transform_calculate(\n",
    "    rel_count='datum.count / datum.count_all',\n",
    "    parl_label='datum.parlamentarier + \" (\" + datum.partei + \"/\" + datum.kanton + \")\"'\n",
    ").facet(\n",
    "    facet='parl_label:N',\n",
    "    columns=3\n",
    ").resolve_scale(\n",
    "    # radius='independent',\n",
    "    radius='independent',\n",
    ")\n",
    "chart.save('output/mehrere-radial-nach-parlamentarier-und-branche-top12.pdf')\n",
    "chart"
   ]
  },
  {
   "cell_type": "code",
   "execution_count": 303,
   "metadata": {},
   "outputs": [
    {
     "data": {
      "text/html": "\n<div id=\"altair-viz-3c7137408f6e49feae54a5001a859e99\"></div>\n<script type=\"text/javascript\">\n  var VEGA_DEBUG = (typeof VEGA_DEBUG == \"undefined\") ? {} : VEGA_DEBUG;\n  (function(spec, embedOpt){\n    let outputDiv = document.currentScript.previousElementSibling;\n    if (outputDiv.id !== \"altair-viz-3c7137408f6e49feae54a5001a859e99\") {\n      outputDiv = document.getElementById(\"altair-viz-3c7137408f6e49feae54a5001a859e99\");\n    }\n    const paths = {\n      \"vega\": \"https://cdn.jsdelivr.net/npm//vega@5?noext\",\n      \"vega-lib\": \"https://cdn.jsdelivr.net/npm//vega-lib?noext\",\n      \"vega-lite\": \"https://cdn.jsdelivr.net/npm//vega-lite@4.17.0?noext\",\n      \"vega-embed\": \"https://cdn.jsdelivr.net/npm//vega-embed@6?noext\",\n    };\n\n    function maybeLoadScript(lib, version) {\n      var key = `${lib.replace(\"-\", \"\")}_version`;\n      return (VEGA_DEBUG[key] == version) ?\n        Promise.resolve(paths[lib]) :\n        new Promise(function(resolve, reject) {\n          var s = document.createElement('script');\n          document.getElementsByTagName(\"head\")[0].appendChild(s);\n          s.async = true;\n          s.onload = () => {\n            VEGA_DEBUG[key] = version;\n            return resolve(paths[lib]);\n          };\n          s.onerror = () => reject(`Error loading script: ${paths[lib]}`);\n          s.src = paths[lib];\n        });\n    }\n\n    function showError(err) {\n      outputDiv.innerHTML = `<div class=\"error\" style=\"color:red;\">${err}</div>`;\n      throw err;\n    }\n\n    function displayChart(vegaEmbed) {\n      vegaEmbed(outputDiv, spec, embedOpt)\n        .catch(err => showError(`Javascript Error: ${err.message}<br>This usually means there's a typo in your chart specification. See the javascript console for the full traceback.`));\n    }\n\n    if(typeof define === \"function\" && define.amd) {\n      requirejs.config({paths});\n      require([\"vega-embed\"], displayChart, err => showError(`Error loading script: ${err.message}`));\n    } else {\n      maybeLoadScript(\"vega\", \"5\")\n        .then(() => maybeLoadScript(\"vega-lite\", \"4.17.0\"))\n        .then(() => maybeLoadScript(\"vega-embed\", \"6\"))\n        .catch(showError)\n        .then(() => displayChart(vegaEmbed));\n    }\n  })({\"config\": {\"view\": {\"continuousWidth\": 400, \"continuousHeight\": 300}}, \"data\": {\"name\": \"data-17fa3c2c2674138c54fc2452651574e5\"}, \"mark\": \"rect\", \"encoding\": {\"color\": {\"field\": \"count\", \"legend\": {\"direction\": \"horizontal\"}, \"scale\": {\"domain\": [0, 150], \"scheme\": \"yelloworangered\"}, \"type\": \"quantitative\"}, \"tooltip\": {\"field\": \"count\", \"type\": \"quantitative\"}, \"x\": {\"field\": \"branche\", \"type\": \"nominal\"}, \"y\": {\"field\": \"fraktion\", \"type\": \"nominal\"}}, \"$schema\": \"https://vega.github.io/schema/vega-lite/v4.17.0.json\", \"datasets\": {\"data-17fa3c2c2674138c54fc2452651574e5\": [{\"fraktion\": \"G\", \"branche\": \"Bildung\", \"count\": 5}, {\"fraktion\": \"G\", \"branche\": \"Wirtschaft\", \"count\": 21}, {\"fraktion\": \"G\", \"branche\": \"Gesundheit\", \"count\": 8}, {\"fraktion\": \"G\", \"branche\": \"Verkehr\", \"count\": 8}, {\"fraktion\": \"G\", \"branche\": \"Staatspolitik/Staatswirtschaft\", \"count\": 5}, {\"fraktion\": \"G\", \"branche\": \"Umwelt\", \"count\": 3}, {\"fraktion\": \"G\", \"branche\": \"Soziale Sicherheit\", \"count\": 5}, {\"fraktion\": \"G\", \"branche\": \"Landwirtschaft\", \"count\": 4}, {\"fraktion\": \"G\", \"branche\": \"Kommunikation\", \"count\": 1}, {\"fraktion\": \"G\", \"branche\": \"Energie\", \"count\": 0}, {\"fraktion\": \"G\", \"branche\": \"Sport\", \"count\": 0}, {\"fraktion\": \"G\", \"branche\": \"Kultur\", \"count\": 1}, {\"fraktion\": \"G\", \"branche\": \"Aussenpolitik/Aussenwirtschaft\", \"count\": 0}, {\"fraktion\": \"G\", \"branche\": \"Sicherheit\", \"count\": 0}, {\"fraktion\": \"V\", \"branche\": \"Bildung\", \"count\": 1}, {\"fraktion\": \"V\", \"branche\": \"Wirtschaft\", \"count\": 87}, {\"fraktion\": \"V\", \"branche\": \"Gesundheit\", \"count\": 13}, {\"fraktion\": \"V\", \"branche\": \"Verkehr\", \"count\": 22}, {\"fraktion\": \"V\", \"branche\": \"Staatspolitik/Staatswirtschaft\", \"count\": 6}, {\"fraktion\": \"V\", \"branche\": \"Umwelt\", \"count\": 3}, {\"fraktion\": \"V\", \"branche\": \"Soziale Sicherheit\", \"count\": 7}, {\"fraktion\": \"V\", \"branche\": \"Landwirtschaft\", \"count\": 22}, {\"fraktion\": \"V\", \"branche\": \"Kommunikation\", \"count\": 6}, {\"fraktion\": \"V\", \"branche\": \"Energie\", \"count\": 4}, {\"fraktion\": \"V\", \"branche\": \"Sport\", \"count\": 2}, {\"fraktion\": \"V\", \"branche\": \"Kultur\", \"count\": 0}, {\"fraktion\": \"V\", \"branche\": \"Aussenpolitik/Aussenwirtschaft\", \"count\": 1}, {\"fraktion\": \"V\", \"branche\": \"Sicherheit\", \"count\": 3}, {\"fraktion\": \"RL\", \"branche\": \"Bildung\", \"count\": 8}, {\"fraktion\": \"RL\", \"branche\": \"Wirtschaft\", \"count\": 105}, {\"fraktion\": \"RL\", \"branche\": \"Gesundheit\", \"count\": 24}, {\"fraktion\": \"RL\", \"branche\": \"Verkehr\", \"count\": 24}, {\"fraktion\": \"RL\", \"branche\": \"Staatspolitik/Staatswirtschaft\", \"count\": 8}, {\"fraktion\": \"RL\", \"branche\": \"Umwelt\", \"count\": 2}, {\"fraktion\": \"RL\", \"branche\": \"Soziale Sicherheit\", \"count\": 9}, {\"fraktion\": \"RL\", \"branche\": \"Landwirtschaft\", \"count\": 6}, {\"fraktion\": \"RL\", \"branche\": \"Kommunikation\", \"count\": 2}, {\"fraktion\": \"RL\", \"branche\": \"Energie\", \"count\": 10}, {\"fraktion\": \"RL\", \"branche\": \"Sport\", \"count\": 2}, {\"fraktion\": \"RL\", \"branche\": \"Kultur\", \"count\": 6}, {\"fraktion\": \"RL\", \"branche\": \"Aussenpolitik/Aussenwirtschaft\", \"count\": 0}, {\"fraktion\": \"RL\", \"branche\": \"Sicherheit\", \"count\": 4}, {\"fraktion\": \"M-E\", \"branche\": \"Bildung\", \"count\": 11}, {\"fraktion\": \"M-E\", \"branche\": \"Wirtschaft\", \"count\": 77}, {\"fraktion\": \"M-E\", \"branche\": \"Gesundheit\", \"count\": 47}, {\"fraktion\": \"M-E\", \"branche\": \"Verkehr\", \"count\": 23}, {\"fraktion\": \"M-E\", \"branche\": \"Staatspolitik/Staatswirtschaft\", \"count\": 12}, {\"fraktion\": \"M-E\", \"branche\": \"Umwelt\", \"count\": 5}, {\"fraktion\": \"M-E\", \"branche\": \"Soziale Sicherheit\", \"count\": 11}, {\"fraktion\": \"M-E\", \"branche\": \"Landwirtschaft\", \"count\": 18}, {\"fraktion\": \"M-E\", \"branche\": \"Kommunikation\", \"count\": 4}, {\"fraktion\": \"M-E\", \"branche\": \"Energie\", \"count\": 20}, {\"fraktion\": \"M-E\", \"branche\": \"Sport\", \"count\": 4}, {\"fraktion\": \"M-E\", \"branche\": \"Kultur\", \"count\": 1}, {\"fraktion\": \"M-E\", \"branche\": \"Aussenpolitik/Aussenwirtschaft\", \"count\": 0}, {\"fraktion\": \"M-E\", \"branche\": \"Sicherheit\", \"count\": 1}, {\"fraktion\": \"S\", \"branche\": \"Bildung\", \"count\": 9}, {\"fraktion\": \"S\", \"branche\": \"Wirtschaft\", \"count\": 31}, {\"fraktion\": \"S\", \"branche\": \"Gesundheit\", \"count\": 16}, {\"fraktion\": \"S\", \"branche\": \"Verkehr\", \"count\": 5}, {\"fraktion\": \"S\", \"branche\": \"Staatspolitik/Staatswirtschaft\", \"count\": 3}, {\"fraktion\": \"S\", \"branche\": \"Umwelt\", \"count\": 5}, {\"fraktion\": \"S\", \"branche\": \"Soziale Sicherheit\", \"count\": 15}, {\"fraktion\": \"S\", \"branche\": \"Landwirtschaft\", \"count\": 3}, {\"fraktion\": \"S\", \"branche\": \"Kommunikation\", \"count\": 3}, {\"fraktion\": \"S\", \"branche\": \"Energie\", \"count\": 9}, {\"fraktion\": \"S\", \"branche\": \"Sport\", \"count\": 6}, {\"fraktion\": \"S\", \"branche\": \"Kultur\", \"count\": 4}, {\"fraktion\": \"S\", \"branche\": \"Aussenpolitik/Aussenwirtschaft\", \"count\": 2}, {\"fraktion\": \"S\", \"branche\": \"Sicherheit\", \"count\": 0}, {\"fraktion\": \"GL\", \"branche\": \"Bildung\", \"count\": 1}, {\"fraktion\": \"GL\", \"branche\": \"Wirtschaft\", \"count\": 11}, {\"fraktion\": \"GL\", \"branche\": \"Gesundheit\", \"count\": 10}, {\"fraktion\": \"GL\", \"branche\": \"Verkehr\", \"count\": 2}, {\"fraktion\": \"GL\", \"branche\": \"Staatspolitik/Staatswirtschaft\", \"count\": 3}, {\"fraktion\": \"GL\", \"branche\": \"Umwelt\", \"count\": 6}, {\"fraktion\": \"GL\", \"branche\": \"Soziale Sicherheit\", \"count\": 3}, {\"fraktion\": \"GL\", \"branche\": \"Landwirtschaft\", \"count\": 0}, {\"fraktion\": \"GL\", \"branche\": \"Kommunikation\", \"count\": 1}, {\"fraktion\": \"GL\", \"branche\": \"Energie\", \"count\": 8}, {\"fraktion\": \"GL\", \"branche\": \"Sport\", \"count\": 0}, {\"fraktion\": \"GL\", \"branche\": \"Kultur\", \"count\": 0}, {\"fraktion\": \"GL\", \"branche\": \"Aussenpolitik/Aussenwirtschaft\", \"count\": 0}, {\"fraktion\": \"GL\", \"branche\": \"Sicherheit\", \"count\": 0}]}}, {\"mode\": \"vega-lite\"});\n</script>",
      "text/plain": "alt.Chart(...)"
     },
     "execution_count": 303,
     "metadata": {},
     "output_type": "execute_result"
    }
   ],
   "source": [
    "source = duckdb.query('''\n",
    "select fraktion, branche, (select count(1) from df_bezahlt where branche = b.branche and fraktion = f.fraktion) count\n",
    "from (select distinct fraktion from df_bezahlt) as f\n",
    "cross join (select distinct branche from df_bezahlt) as b\n",
    "group by 1, 2\n",
    "''').to_df()\n",
    "\n",
    "alt.Chart(source).mark_rect().encode(\n",
    "    x='branche',\n",
    "    y='fraktion',\n",
    "    tooltip='count',\n",
    "    color=alt.Color('count',\n",
    "        scale=alt.Scale(scheme='yelloworangered', domain=[0,150]),\n",
    "        legend=alt.Legend(direction='horizontal')\n",
    "    )\n",
    ")"
   ]
  },
  {
   "cell_type": "code",
   "execution_count": 304,
   "metadata": {},
   "outputs": [
    {
     "data": {
      "text/plain": "                           branche geschlecht  cnt       perc\n0                          Verkehr          M   71  84.523810\n1                            Sport          M   11  78.571429\n2                          Energie          M   39  76.470588\n3                   Landwirtschaft          M   40  75.471698\n4                       Wirtschaft          M  247  74.397590\n5                           Umwelt          M   17  70.833333\n6                          Bildung          M   24  68.571429\n7   Aussenpolitik/Aussenwirtschaft          M    2  66.666667\n8                       Gesundheit          M   78  66.101695\n9                    Kommunikation          M   11  64.705882\n10                      Sicherheit          M    5  62.500000\n11  Staatspolitik/Staatswirtschaft          M   23  62.162162\n12              Soziale Sicherheit          F   28  56.000000\n13                          Kultur          F    6  50.000000\n14                          Kultur          M    6  50.000000\n15              Soziale Sicherheit          M   22  44.000000\n16  Staatspolitik/Staatswirtschaft          F   14  37.837838\n17                      Sicherheit          F    3  37.500000\n18                   Kommunikation          F    6  35.294118\n19                      Gesundheit          F   40  33.898305\n20  Aussenpolitik/Aussenwirtschaft          F    1  33.333333\n21                         Bildung          F   11  31.428571\n22                          Umwelt          F    7  29.166667\n23                      Wirtschaft          F   85  25.602410\n24                  Landwirtschaft          F   13  24.528302\n25                         Energie          F   12  23.529412\n26                           Sport          F    3  21.428571\n27                         Verkehr          F   13  15.476190",
      "text/html": "<div>\n<style scoped>\n    .dataframe tbody tr th:only-of-type {\n        vertical-align: middle;\n    }\n\n    .dataframe tbody tr th {\n        vertical-align: top;\n    }\n\n    .dataframe thead th {\n        text-align: right;\n    }\n</style>\n<table border=\"1\" class=\"dataframe\">\n  <thead>\n    <tr style=\"text-align: right;\">\n      <th></th>\n      <th>branche</th>\n      <th>geschlecht</th>\n      <th>cnt</th>\n      <th>perc</th>\n    </tr>\n  </thead>\n  <tbody>\n    <tr>\n      <th>0</th>\n      <td>Verkehr</td>\n      <td>M</td>\n      <td>71</td>\n      <td>84.523810</td>\n    </tr>\n    <tr>\n      <th>1</th>\n      <td>Sport</td>\n      <td>M</td>\n      <td>11</td>\n      <td>78.571429</td>\n    </tr>\n    <tr>\n      <th>2</th>\n      <td>Energie</td>\n      <td>M</td>\n      <td>39</td>\n      <td>76.470588</td>\n    </tr>\n    <tr>\n      <th>3</th>\n      <td>Landwirtschaft</td>\n      <td>M</td>\n      <td>40</td>\n      <td>75.471698</td>\n    </tr>\n    <tr>\n      <th>4</th>\n      <td>Wirtschaft</td>\n      <td>M</td>\n      <td>247</td>\n      <td>74.397590</td>\n    </tr>\n    <tr>\n      <th>5</th>\n      <td>Umwelt</td>\n      <td>M</td>\n      <td>17</td>\n      <td>70.833333</td>\n    </tr>\n    <tr>\n      <th>6</th>\n      <td>Bildung</td>\n      <td>M</td>\n      <td>24</td>\n      <td>68.571429</td>\n    </tr>\n    <tr>\n      <th>7</th>\n      <td>Aussenpolitik/Aussenwirtschaft</td>\n      <td>M</td>\n      <td>2</td>\n      <td>66.666667</td>\n    </tr>\n    <tr>\n      <th>8</th>\n      <td>Gesundheit</td>\n      <td>M</td>\n      <td>78</td>\n      <td>66.101695</td>\n    </tr>\n    <tr>\n      <th>9</th>\n      <td>Kommunikation</td>\n      <td>M</td>\n      <td>11</td>\n      <td>64.705882</td>\n    </tr>\n    <tr>\n      <th>10</th>\n      <td>Sicherheit</td>\n      <td>M</td>\n      <td>5</td>\n      <td>62.500000</td>\n    </tr>\n    <tr>\n      <th>11</th>\n      <td>Staatspolitik/Staatswirtschaft</td>\n      <td>M</td>\n      <td>23</td>\n      <td>62.162162</td>\n    </tr>\n    <tr>\n      <th>12</th>\n      <td>Soziale Sicherheit</td>\n      <td>F</td>\n      <td>28</td>\n      <td>56.000000</td>\n    </tr>\n    <tr>\n      <th>13</th>\n      <td>Kultur</td>\n      <td>F</td>\n      <td>6</td>\n      <td>50.000000</td>\n    </tr>\n    <tr>\n      <th>14</th>\n      <td>Kultur</td>\n      <td>M</td>\n      <td>6</td>\n      <td>50.000000</td>\n    </tr>\n    <tr>\n      <th>15</th>\n      <td>Soziale Sicherheit</td>\n      <td>M</td>\n      <td>22</td>\n      <td>44.000000</td>\n    </tr>\n    <tr>\n      <th>16</th>\n      <td>Staatspolitik/Staatswirtschaft</td>\n      <td>F</td>\n      <td>14</td>\n      <td>37.837838</td>\n    </tr>\n    <tr>\n      <th>17</th>\n      <td>Sicherheit</td>\n      <td>F</td>\n      <td>3</td>\n      <td>37.500000</td>\n    </tr>\n    <tr>\n      <th>18</th>\n      <td>Kommunikation</td>\n      <td>F</td>\n      <td>6</td>\n      <td>35.294118</td>\n    </tr>\n    <tr>\n      <th>19</th>\n      <td>Gesundheit</td>\n      <td>F</td>\n      <td>40</td>\n      <td>33.898305</td>\n    </tr>\n    <tr>\n      <th>20</th>\n      <td>Aussenpolitik/Aussenwirtschaft</td>\n      <td>F</td>\n      <td>1</td>\n      <td>33.333333</td>\n    </tr>\n    <tr>\n      <th>21</th>\n      <td>Bildung</td>\n      <td>F</td>\n      <td>11</td>\n      <td>31.428571</td>\n    </tr>\n    <tr>\n      <th>22</th>\n      <td>Umwelt</td>\n      <td>F</td>\n      <td>7</td>\n      <td>29.166667</td>\n    </tr>\n    <tr>\n      <th>23</th>\n      <td>Wirtschaft</td>\n      <td>F</td>\n      <td>85</td>\n      <td>25.602410</td>\n    </tr>\n    <tr>\n      <th>24</th>\n      <td>Landwirtschaft</td>\n      <td>F</td>\n      <td>13</td>\n      <td>24.528302</td>\n    </tr>\n    <tr>\n      <th>25</th>\n      <td>Energie</td>\n      <td>F</td>\n      <td>12</td>\n      <td>23.529412</td>\n    </tr>\n    <tr>\n      <th>26</th>\n      <td>Sport</td>\n      <td>F</td>\n      <td>3</td>\n      <td>21.428571</td>\n    </tr>\n    <tr>\n      <th>27</th>\n      <td>Verkehr</td>\n      <td>F</td>\n      <td>13</td>\n      <td>15.476190</td>\n    </tr>\n  </tbody>\n</table>\n</div>"
     },
     "execution_count": 304,
     "metadata": {},
     "output_type": "execute_result"
    }
   ],
   "source": [
    "duckdb.query('''\n",
    "select distinct branche, geschlecht, count(1) over (partition by branche, geschlecht) cnt, 100.0*count(1) over (partition by branche, geschlecht) / count(1) over (partition by branche) perc\n",
    "from df_bezahlt\n",
    "order by 4 desc\n",
    "''').to_df()"
   ]
  },
  {
   "cell_type": "code",
   "execution_count": 305,
   "metadata": {},
   "outputs": [
    {
     "data": {
      "text/html": "\n<div id=\"altair-viz-e90fb6dca7da4f75b66da20065233a76\"></div>\n<script type=\"text/javascript\">\n  var VEGA_DEBUG = (typeof VEGA_DEBUG == \"undefined\") ? {} : VEGA_DEBUG;\n  (function(spec, embedOpt){\n    let outputDiv = document.currentScript.previousElementSibling;\n    if (outputDiv.id !== \"altair-viz-e90fb6dca7da4f75b66da20065233a76\") {\n      outputDiv = document.getElementById(\"altair-viz-e90fb6dca7da4f75b66da20065233a76\");\n    }\n    const paths = {\n      \"vega\": \"https://cdn.jsdelivr.net/npm//vega@5?noext\",\n      \"vega-lib\": \"https://cdn.jsdelivr.net/npm//vega-lib?noext\",\n      \"vega-lite\": \"https://cdn.jsdelivr.net/npm//vega-lite@4.17.0?noext\",\n      \"vega-embed\": \"https://cdn.jsdelivr.net/npm//vega-embed@6?noext\",\n    };\n\n    function maybeLoadScript(lib, version) {\n      var key = `${lib.replace(\"-\", \"\")}_version`;\n      return (VEGA_DEBUG[key] == version) ?\n        Promise.resolve(paths[lib]) :\n        new Promise(function(resolve, reject) {\n          var s = document.createElement('script');\n          document.getElementsByTagName(\"head\")[0].appendChild(s);\n          s.async = true;\n          s.onload = () => {\n            VEGA_DEBUG[key] = version;\n            return resolve(paths[lib]);\n          };\n          s.onerror = () => reject(`Error loading script: ${paths[lib]}`);\n          s.src = paths[lib];\n        });\n    }\n\n    function showError(err) {\n      outputDiv.innerHTML = `<div class=\"error\" style=\"color:red;\">${err}</div>`;\n      throw err;\n    }\n\n    function displayChart(vegaEmbed) {\n      vegaEmbed(outputDiv, spec, embedOpt)\n        .catch(err => showError(`Javascript Error: ${err.message}<br>This usually means there's a typo in your chart specification. See the javascript console for the full traceback.`));\n    }\n\n    if(typeof define === \"function\" && define.amd) {\n      requirejs.config({paths});\n      require([\"vega-embed\"], displayChart, err => showError(`Error loading script: ${err.message}`));\n    } else {\n      maybeLoadScript(\"vega\", \"5\")\n        .then(() => maybeLoadScript(\"vega-lite\", \"4.17.0\"))\n        .then(() => maybeLoadScript(\"vega-embed\", \"6\"))\n        .catch(showError)\n        .then(() => displayChart(vegaEmbed));\n    }\n  })({\"config\": {\"view\": {\"continuousWidth\": 400, \"continuousHeight\": 300}}, \"layer\": [{\"data\": {\"name\": \"data-28ec6da10550316329612307671d5449\"}, \"mark\": \"bar\", \"encoding\": {\"color\": {\"field\": \"geschlecht\", \"type\": \"nominal\"}, \"tooltip\": {\"field\": \"anzahl\", \"type\": \"quantitative\"}, \"x\": {\"axis\": {\"format\": \"%\"}, \"field\": \"anzahl\", \"stack\": \"normalize\", \"title\": \"anteil\", \"type\": \"quantitative\"}, \"y\": {\"field\": \"branche\", \"type\": \"nominal\"}}}, {\"data\": {\"name\": \"data-cb2c848582050bbfb9978028e2a5a632\"}, \"mark\": {\"type\": \"rule\", \"color\": \"red\"}, \"encoding\": {\"x\": {\"field\": \"anteil_frauen\", \"type\": \"quantitative\"}}}], \"$schema\": \"https://vega.github.io/schema/vega-lite/v4.17.0.json\", \"datasets\": {\"data-28ec6da10550316329612307671d5449\": [{\"branche\": \"Aussenpolitik/Aussenwirtschaft\", \"geschlecht\": \"F\", \"anzahl\": 1}, {\"branche\": \"Aussenpolitik/Aussenwirtschaft\", \"geschlecht\": \"M\", \"anzahl\": 2}, {\"branche\": \"Bildung\", \"geschlecht\": \"F\", \"anzahl\": 11}, {\"branche\": \"Bildung\", \"geschlecht\": \"M\", \"anzahl\": 24}, {\"branche\": \"Energie\", \"geschlecht\": \"F\", \"anzahl\": 12}, {\"branche\": \"Energie\", \"geschlecht\": \"M\", \"anzahl\": 39}, {\"branche\": \"Gesundheit\", \"geschlecht\": \"F\", \"anzahl\": 40}, {\"branche\": \"Gesundheit\", \"geschlecht\": \"M\", \"anzahl\": 78}, {\"branche\": \"Kommunikation\", \"geschlecht\": \"F\", \"anzahl\": 6}, {\"branche\": \"Kommunikation\", \"geschlecht\": \"M\", \"anzahl\": 11}, {\"branche\": \"Kultur\", \"geschlecht\": \"F\", \"anzahl\": 6}, {\"branche\": \"Kultur\", \"geschlecht\": \"M\", \"anzahl\": 6}, {\"branche\": \"Landwirtschaft\", \"geschlecht\": \"F\", \"anzahl\": 13}, {\"branche\": \"Landwirtschaft\", \"geschlecht\": \"M\", \"anzahl\": 40}, {\"branche\": \"Sicherheit\", \"geschlecht\": \"F\", \"anzahl\": 3}, {\"branche\": \"Sicherheit\", \"geschlecht\": \"M\", \"anzahl\": 5}, {\"branche\": \"Soziale Sicherheit\", \"geschlecht\": \"F\", \"anzahl\": 28}, {\"branche\": \"Soziale Sicherheit\", \"geschlecht\": \"M\", \"anzahl\": 22}, {\"branche\": \"Sport\", \"geschlecht\": \"F\", \"anzahl\": 3}, {\"branche\": \"Sport\", \"geschlecht\": \"M\", \"anzahl\": 11}, {\"branche\": \"Staatspolitik/Staatswirtschaft\", \"geschlecht\": \"F\", \"anzahl\": 14}, {\"branche\": \"Staatspolitik/Staatswirtschaft\", \"geschlecht\": \"M\", \"anzahl\": 23}, {\"branche\": \"Umwelt\", \"geschlecht\": \"F\", \"anzahl\": 7}, {\"branche\": \"Umwelt\", \"geschlecht\": \"M\", \"anzahl\": 17}, {\"branche\": \"Verkehr\", \"geschlecht\": \"F\", \"anzahl\": 13}, {\"branche\": \"Verkehr\", \"geschlecht\": \"M\", \"anzahl\": 71}, {\"branche\": \"Wirtschaft\", \"geschlecht\": \"F\", \"anzahl\": 85}, {\"branche\": \"Wirtschaft\", \"geschlecht\": \"M\", \"anzahl\": 247}], \"data-cb2c848582050bbfb9978028e2a5a632\": [{\"anteil_frauen\": 0.3943089430894309}]}}, {\"mode\": \"vega-lite\"});\n</script>",
      "text/plain": "alt.LayerChart(...)"
     },
     "execution_count": 305,
     "metadata": {},
     "output_type": "execute_result"
    }
   ],
   "source": [
    "source = duckdb.query('''\n",
    "select branche, geschlecht, count(1) anzahl\n",
    "from df_bezahlt\n",
    "group by 1, 2\n",
    "order by 1, 2\n",
    "''').to_df()\n",
    "\n",
    "bars = alt.Chart(source).mark_bar().encode(\n",
    "    x=alt.X('anzahl', stack=\"normalize\", axis=alt.Axis(format='%'), title='anteil'),\n",
    "    y='branche',\n",
    "    color='geschlecht:N',\n",
    "    tooltip='anzahl',\n",
    ")\n",
    "\n",
    "text = alt.Chart(source).mark_text(dx=-12, color='white').encode(\n",
    "    x=alt.X('anzahl', stack=\"normalize\"),\n",
    "    y='branche',\n",
    "    detail='geschlecht:N',\n",
    "    text='anzahl',\n",
    ")\n",
    "\n",
    "source2 = duckdb.query('''\n",
    "select 97.0/246 anteil_frauen\n",
    "''').to_df()\n",
    "\n",
    "rule = alt.Chart(source2).mark_rule(color='red').encode(\n",
    "    x='anteil_frauen'\n",
    ")\n",
    "\n",
    "chart = bars + rule\n",
    "chart.save('output/bars-nach-branche-und-geschlecht-relativ.pdf')\n",
    "chart"
   ]
  },
  {
   "cell_type": "code",
   "execution_count": 306,
   "outputs": [
    {
     "data": {
      "text/html": "\n<div id=\"altair-viz-4efb17eb321c4ae99c21f2e3df651367\"></div>\n<script type=\"text/javascript\">\n  var VEGA_DEBUG = (typeof VEGA_DEBUG == \"undefined\") ? {} : VEGA_DEBUG;\n  (function(spec, embedOpt){\n    let outputDiv = document.currentScript.previousElementSibling;\n    if (outputDiv.id !== \"altair-viz-4efb17eb321c4ae99c21f2e3df651367\") {\n      outputDiv = document.getElementById(\"altair-viz-4efb17eb321c4ae99c21f2e3df651367\");\n    }\n    const paths = {\n      \"vega\": \"https://cdn.jsdelivr.net/npm//vega@5?noext\",\n      \"vega-lib\": \"https://cdn.jsdelivr.net/npm//vega-lib?noext\",\n      \"vega-lite\": \"https://cdn.jsdelivr.net/npm//vega-lite@4.17.0?noext\",\n      \"vega-embed\": \"https://cdn.jsdelivr.net/npm//vega-embed@6?noext\",\n    };\n\n    function maybeLoadScript(lib, version) {\n      var key = `${lib.replace(\"-\", \"\")}_version`;\n      return (VEGA_DEBUG[key] == version) ?\n        Promise.resolve(paths[lib]) :\n        new Promise(function(resolve, reject) {\n          var s = document.createElement('script');\n          document.getElementsByTagName(\"head\")[0].appendChild(s);\n          s.async = true;\n          s.onload = () => {\n            VEGA_DEBUG[key] = version;\n            return resolve(paths[lib]);\n          };\n          s.onerror = () => reject(`Error loading script: ${paths[lib]}`);\n          s.src = paths[lib];\n        });\n    }\n\n    function showError(err) {\n      outputDiv.innerHTML = `<div class=\"error\" style=\"color:red;\">${err}</div>`;\n      throw err;\n    }\n\n    function displayChart(vegaEmbed) {\n      vegaEmbed(outputDiv, spec, embedOpt)\n        .catch(err => showError(`Javascript Error: ${err.message}<br>This usually means there's a typo in your chart specification. See the javascript console for the full traceback.`));\n    }\n\n    if(typeof define === \"function\" && define.amd) {\n      requirejs.config({paths});\n      require([\"vega-embed\"], displayChart, err => showError(`Error loading script: ${err.message}`));\n    } else {\n      maybeLoadScript(\"vega\", \"5\")\n        .then(() => maybeLoadScript(\"vega-lite\", \"4.17.0\"))\n        .then(() => maybeLoadScript(\"vega-embed\", \"6\"))\n        .catch(showError)\n        .then(() => displayChart(vegaEmbed));\n    }\n  })({\"config\": {\"view\": {\"continuousWidth\": 400, \"continuousHeight\": 300}}, \"data\": {\"name\": \"data-e1e295ef8c103ea8786d72c7d92d3520\"}, \"mark\": \"bar\", \"encoding\": {\"color\": {\"field\": \"fraktion\", \"scale\": {\"domain\": [\"Gr\\u00fcne\", \"SP\", \"Mitte\", \"GLP\", \"FDP\", \"SVP\"], \"range\": [\"#85B50C\", \"#E4022D\", \"#FF9100\", \"#A0A000\", \"#3A8BC1\", \"#0A7228\"]}, \"type\": \"nominal\"}, \"order\": {\"field\": \"color_fraktion_sort_index\", \"type\": \"quantitative\"}, \"x\": {\"field\": \"count\", \"stack\": \"zero\", \"title\": \"Anzahl\", \"type\": \"quantitative\"}, \"y\": {\"field\": \"lobby\", \"title\": \"Wirtschaft Lobbygruppe\", \"type\": \"nominal\"}}, \"$schema\": \"https://vega.github.io/schema/vega-lite/v4.17.0.json\", \"datasets\": {\"data-e1e295ef8c103ea8786d72c7d92d3520\": [{\"lobby\": \"Advokaturen/Treuhand\", \"fraktion\": \"SP\", \"sort\": 2, \"count\": 1}, {\"lobby\": \"Advokaturen/Treuhand\", \"fraktion\": \"Mitte\", \"sort\": 4, \"count\": 1}, {\"lobby\": \"Advokaturen/Treuhand\", \"fraktion\": \"FDP\", \"sort\": 5, \"count\": 6}, {\"lobby\": \"Advokaturen/Treuhand\", \"fraktion\": \"SVP\", \"sort\": 6, \"count\": 6}, {\"lobby\": \"Arbeitnehmerorganisationen\", \"fraktion\": \"Gr\\u00fcne\", \"sort\": 1, \"count\": 3}, {\"lobby\": \"Arbeitnehmerorganisationen\", \"fraktion\": \"SP\", \"sort\": 2, \"count\": 8}, {\"lobby\": \"Arbeitnehmerorganisationen\", \"fraktion\": \"Mitte\", \"sort\": 4, \"count\": 1}, {\"lobby\": \"Arbeitnehmerorganisationen\", \"fraktion\": \"FDP\", \"sort\": 5, \"count\": 1}, {\"lobby\": \"Banken\", \"fraktion\": \"Gr\\u00fcne\", \"sort\": 1, \"count\": 1}, {\"lobby\": \"Banken\", \"fraktion\": \"SP\", \"sort\": 2, \"count\": 2}, {\"lobby\": \"Banken\", \"fraktion\": \"Mitte\", \"sort\": 4, \"count\": 2}, {\"lobby\": \"Banken\", \"fraktion\": \"FDP\", \"sort\": 5, \"count\": 5}, {\"lobby\": \"Banken\", \"fraktion\": \"SVP\", \"sort\": 6, \"count\": 10}, {\"lobby\": \"Bauhauptgewerbe\", \"fraktion\": \"GLP\", \"sort\": 3, \"count\": 1}, {\"lobby\": \"Bauhauptgewerbe\", \"fraktion\": \"Mitte\", \"sort\": 4, \"count\": 3}, {\"lobby\": \"Bauhauptgewerbe\", \"fraktion\": \"FDP\", \"sort\": 5, \"count\": 9}, {\"lobby\": \"Bauhauptgewerbe\", \"fraktion\": \"SVP\", \"sort\": 6, \"count\": 4}, {\"lobby\": \"Baunebengewerbe\", \"fraktion\": \"SP\", \"sort\": 2, \"count\": 1}, {\"lobby\": \"Baunebengewerbe\", \"fraktion\": \"Mitte\", \"sort\": 4, \"count\": 2}, {\"lobby\": \"Baunebengewerbe\", \"fraktion\": \"FDP\", \"sort\": 5, \"count\": 12}, {\"lobby\": \"Baunebengewerbe\", \"fraktion\": \"SVP\", \"sort\": 6, \"count\": 3}, {\"lobby\": \"Consulting/PR\", \"fraktion\": \"SP\", \"sort\": 2, \"count\": 1}, {\"lobby\": \"Consulting/PR\", \"fraktion\": \"Mitte\", \"sort\": 4, \"count\": 4}, {\"lobby\": \"Consulting/PR\", \"fraktion\": \"FDP\", \"sort\": 5, \"count\": 6}, {\"lobby\": \"Consulting/PR\", \"fraktion\": \"SVP\", \"sort\": 6, \"count\": 4}, {\"lobby\": \"Detailhandel\", \"fraktion\": \"Gr\\u00fcne\", \"sort\": 1, \"count\": 2}, {\"lobby\": \"Detailhandel\", \"fraktion\": \"GLP\", \"sort\": 3, \"count\": 1}, {\"lobby\": \"Detailhandel\", \"fraktion\": \"Mitte\", \"sort\": 4, \"count\": 2}, {\"lobby\": \"Detailhandel\", \"fraktion\": \"FDP\", \"sort\": 5, \"count\": 3}, {\"lobby\": \"Detailhandel\", \"fraktion\": \"SVP\", \"sort\": 6, \"count\": 1}, {\"lobby\": \"Dienstleistungen allg.\", \"fraktion\": \"Gr\\u00fcne\", \"sort\": 1, \"count\": 1}, {\"lobby\": \"Dienstleistungen allg.\", \"fraktion\": \"SP\", \"sort\": 2, \"count\": 2}, {\"lobby\": \"Dienstleistungen allg.\", \"fraktion\": \"GLP\", \"sort\": 3, \"count\": 1}, {\"lobby\": \"Dienstleistungen allg.\", \"fraktion\": \"Mitte\", \"sort\": 4, \"count\": 1}, {\"lobby\": \"Dienstleistungen allg.\", \"fraktion\": \"FDP\", \"sort\": 5, \"count\": 2}, {\"lobby\": \"Dienstleistungen allg.\", \"fraktion\": \"SVP\", \"sort\": 6, \"count\": 3}, {\"lobby\": \"Gl\\u00fccksspiel\", \"fraktion\": \"Mitte\", \"sort\": 4, \"count\": 4}, {\"lobby\": \"Gl\\u00fccksspiel\", \"fraktion\": \"FDP\", \"sort\": 5, \"count\": 3}, {\"lobby\": \"Gl\\u00fccksspiel\", \"fraktion\": \"SVP\", \"sort\": 6, \"count\": 1}, {\"lobby\": \"Holz- und Waldwirtschaft\", \"fraktion\": \"GLP\", \"sort\": 3, \"count\": 1}, {\"lobby\": \"Holz- und Waldwirtschaft\", \"fraktion\": \"Mitte\", \"sort\": 4, \"count\": 2}, {\"lobby\": \"Holz- und Waldwirtschaft\", \"fraktion\": \"FDP\", \"sort\": 5, \"count\": 1}, {\"lobby\": \"Holz- und Waldwirtschaft\", \"fraktion\": \"SVP\", \"sort\": 6, \"count\": 3}, {\"lobby\": \"IT\", \"fraktion\": \"Gr\\u00fcne\", \"sort\": 1, \"count\": 2}, {\"lobby\": \"IT\", \"fraktion\": \"SP\", \"sort\": 2, \"count\": 1}, {\"lobby\": \"IT\", \"fraktion\": \"FDP\", \"sort\": 5, \"count\": 4}, {\"lobby\": \"IT\", \"fraktion\": \"SVP\", \"sort\": 6, \"count\": 4}, {\"lobby\": \"Immobilien/Hauseigent\\u00fcmer\", \"fraktion\": \"Gr\\u00fcne\", \"sort\": 1, \"count\": 1}, {\"lobby\": \"Immobilien/Hauseigent\\u00fcmer\", \"fraktion\": \"SP\", \"sort\": 2, \"count\": 4}, {\"lobby\": \"Immobilien/Hauseigent\\u00fcmer\", \"fraktion\": \"GLP\", \"sort\": 3, \"count\": 1}, {\"lobby\": \"Immobilien/Hauseigent\\u00fcmer\", \"fraktion\": \"Mitte\", \"sort\": 4, \"count\": 14}, {\"lobby\": \"Immobilien/Hauseigent\\u00fcmer\", \"fraktion\": \"FDP\", \"sort\": 5, \"count\": 8}, {\"lobby\": \"Immobilien/Hauseigent\\u00fcmer\", \"fraktion\": \"SVP\", \"sort\": 6, \"count\": 17}, {\"lobby\": \"Industrie\", \"fraktion\": \"Mitte\", \"sort\": 4, \"count\": 2}, {\"lobby\": \"Industrie\", \"fraktion\": \"FDP\", \"sort\": 5, \"count\": 2}, {\"lobby\": \"Industrie\", \"fraktion\": \"SVP\", \"sort\": 6, \"count\": 1}, {\"lobby\": \"Investmentgesellschaften\", \"fraktion\": \"Mitte\", \"sort\": 4, \"count\": 2}, {\"lobby\": \"Investmentgesellschaften\", \"fraktion\": \"FDP\", \"sort\": 5, \"count\": 7}, {\"lobby\": \"Investmentgesellschaften\", \"fraktion\": \"SVP\", \"sort\": 6, \"count\": 3}, {\"lobby\": \"KMU/Gewerbe/Arbeitgeber\", \"fraktion\": \"Gr\\u00fcne\", \"sort\": 1, \"count\": 2}, {\"lobby\": \"KMU/Gewerbe/Arbeitgeber\", \"fraktion\": \"GLP\", \"sort\": 3, \"count\": 1}, {\"lobby\": \"KMU/Gewerbe/Arbeitgeber\", \"fraktion\": \"Mitte\", \"sort\": 4, \"count\": 3}, {\"lobby\": \"KMU/Gewerbe/Arbeitgeber\", \"fraktion\": \"FDP\", \"sort\": 5, \"count\": 3}, {\"lobby\": \"KMU/Gewerbe/Arbeitgeber\", \"fraktion\": \"SVP\", \"sort\": 6, \"count\": 7}, {\"lobby\": \"Mieter\", \"fraktion\": \"Gr\\u00fcne\", \"sort\": 1, \"count\": 5}, {\"lobby\": \"Mieter\", \"fraktion\": \"SP\", \"sort\": 2, \"count\": 4}, {\"lobby\": \"Nahrungsmittel\", \"fraktion\": \"Mitte\", \"sort\": 4, \"count\": 5}, {\"lobby\": \"Nahrungsmittel\", \"fraktion\": \"FDP\", \"sort\": 5, \"count\": 2}, {\"lobby\": \"Nahrungsmittel\", \"fraktion\": \"SVP\", \"sort\": 6, \"count\": 5}, {\"lobby\": \"Pensionskassen\", \"fraktion\": \"SP\", \"sort\": 2, \"count\": 3}, {\"lobby\": \"Pensionskassen\", \"fraktion\": \"GLP\", \"sort\": 3, \"count\": 2}, {\"lobby\": \"Pensionskassen\", \"fraktion\": \"Mitte\", \"sort\": 4, \"count\": 4}, {\"lobby\": \"Pensionskassen\", \"fraktion\": \"FDP\", \"sort\": 5, \"count\": 10}, {\"lobby\": \"Pensionskassen\", \"fraktion\": \"SVP\", \"sort\": 6, \"count\": 3}, {\"lobby\": \"Tourismus/Gastronomie\", \"fraktion\": \"Gr\\u00fcne\", \"sort\": 1, \"count\": 1}, {\"lobby\": \"Tourismus/Gastronomie\", \"fraktion\": \"SP\", \"sort\": 2, \"count\": 1}, {\"lobby\": \"Tourismus/Gastronomie\", \"fraktion\": \"GLP\", \"sort\": 3, \"count\": 1}, {\"lobby\": \"Tourismus/Gastronomie\", \"fraktion\": \"Mitte\", \"sort\": 4, \"count\": 10}, {\"lobby\": \"Tourismus/Gastronomie\", \"fraktion\": \"FDP\", \"sort\": 5, \"count\": 8}, {\"lobby\": \"Tourismus/Gastronomie\", \"fraktion\": \"SVP\", \"sort\": 6, \"count\": 4}, {\"lobby\": \"Versicherungen\", \"fraktion\": \"SP\", \"sort\": 2, \"count\": 1}, {\"lobby\": \"Versicherungen\", \"fraktion\": \"Mitte\", \"sort\": 4, \"count\": 8}, {\"lobby\": \"Versicherungen\", \"fraktion\": \"FDP\", \"sort\": 5, \"count\": 5}, {\"lobby\": \"Versicherungen\", \"fraktion\": \"SVP\", \"sort\": 6, \"count\": 5}, {\"lobby\": \"\\u00dcbrige\", \"fraktion\": \"Gr\\u00fcne\", \"sort\": 1, \"count\": 3}, {\"lobby\": \"\\u00dcbrige\", \"fraktion\": \"SP\", \"sort\": 2, \"count\": 2}, {\"lobby\": \"\\u00dcbrige\", \"fraktion\": \"GLP\", \"sort\": 3, \"count\": 2}, {\"lobby\": \"\\u00dcbrige\", \"fraktion\": \"Mitte\", \"sort\": 4, \"count\": 7}, {\"lobby\": \"\\u00dcbrige\", \"fraktion\": \"FDP\", \"sort\": 5, \"count\": 8}, {\"lobby\": \"\\u00dcbrige\", \"fraktion\": \"SVP\", \"sort\": 6, \"count\": 3}]}}, {\"mode\": \"vega-lite\"});\n</script>",
      "text/plain": "alt.Chart(...)"
     },
     "execution_count": 306,
     "metadata": {},
     "output_type": "execute_result"
    }
   ],
   "source": [
    "source = duckdb.query('''\n",
    "    select lobbygruppe lobby, fraktion_lang fraktion, f.sort, count(1) count\n",
    "    from df_bezahlt b\n",
    "    join df_fraktionen f on f.fraktion = b.fraktion\n",
    "    where 1=1\n",
    "    and branche = 'Wirtschaft'\n",
    "    and lobbygruppe in (select lobbygruppe from df_bezahlt group by lobbygruppe having count(1) >= 5)\n",
    "    group by 1, 2, 3\n",
    "    union\n",
    "    select 'Übrige' lobby, fraktion_lang fraktion, sort, count(1) count\n",
    "    from df_bezahlt b\n",
    "    join df_fraktionen f on f.fraktion = b.fraktion\n",
    "    and branche = 'Wirtschaft'\n",
    "    where lobbygruppe not in (select lobbygruppe from df_bezahlt group by lobbygruppe having count(1) >= 5)\n",
    "    group by 1, 2, 3\n",
    "    order by lobby, f.sort\n",
    "''').to_df()\n",
    "\n",
    "chart = alt.Chart(source).mark_bar().encode(\n",
    "    x=alt.X('count', title='Anzahl', stack='zero'),\n",
    "    y=alt.Y('lobby', title='Wirtschaft Lobbygruppe'),\n",
    "    color=alt.Color('fraktion', scale=alt.Scale(domain=fraktion_namen, range=fraktion_farben)),\n",
    "    order=alt.Order('color_fraktion_sort_index:Q'),\n",
    ")\n",
    "chart.save('output/bars-wirtschaft-nach-lobbygruppe-und-fraktion-absolut-min5.pdf')\n",
    "chart"
   ],
   "metadata": {
    "collapsed": false
   }
  },
  {
   "cell_type": "code",
   "execution_count": 307,
   "outputs": [
    {
     "data": {
      "text/html": "\n<div id=\"altair-viz-a4059c416f8c49ec9d1b30176d0f6dff\"></div>\n<script type=\"text/javascript\">\n  var VEGA_DEBUG = (typeof VEGA_DEBUG == \"undefined\") ? {} : VEGA_DEBUG;\n  (function(spec, embedOpt){\n    let outputDiv = document.currentScript.previousElementSibling;\n    if (outputDiv.id !== \"altair-viz-a4059c416f8c49ec9d1b30176d0f6dff\") {\n      outputDiv = document.getElementById(\"altair-viz-a4059c416f8c49ec9d1b30176d0f6dff\");\n    }\n    const paths = {\n      \"vega\": \"https://cdn.jsdelivr.net/npm//vega@5?noext\",\n      \"vega-lib\": \"https://cdn.jsdelivr.net/npm//vega-lib?noext\",\n      \"vega-lite\": \"https://cdn.jsdelivr.net/npm//vega-lite@4.17.0?noext\",\n      \"vega-embed\": \"https://cdn.jsdelivr.net/npm//vega-embed@6?noext\",\n    };\n\n    function maybeLoadScript(lib, version) {\n      var key = `${lib.replace(\"-\", \"\")}_version`;\n      return (VEGA_DEBUG[key] == version) ?\n        Promise.resolve(paths[lib]) :\n        new Promise(function(resolve, reject) {\n          var s = document.createElement('script');\n          document.getElementsByTagName(\"head\")[0].appendChild(s);\n          s.async = true;\n          s.onload = () => {\n            VEGA_DEBUG[key] = version;\n            return resolve(paths[lib]);\n          };\n          s.onerror = () => reject(`Error loading script: ${paths[lib]}`);\n          s.src = paths[lib];\n        });\n    }\n\n    function showError(err) {\n      outputDiv.innerHTML = `<div class=\"error\" style=\"color:red;\">${err}</div>`;\n      throw err;\n    }\n\n    function displayChart(vegaEmbed) {\n      vegaEmbed(outputDiv, spec, embedOpt)\n        .catch(err => showError(`Javascript Error: ${err.message}<br>This usually means there's a typo in your chart specification. See the javascript console for the full traceback.`));\n    }\n\n    if(typeof define === \"function\" && define.amd) {\n      requirejs.config({paths});\n      require([\"vega-embed\"], displayChart, err => showError(`Error loading script: ${err.message}`));\n    } else {\n      maybeLoadScript(\"vega\", \"5\")\n        .then(() => maybeLoadScript(\"vega-lite\", \"4.17.0\"))\n        .then(() => maybeLoadScript(\"vega-embed\", \"6\"))\n        .catch(showError)\n        .then(() => displayChart(vegaEmbed));\n    }\n  })({\"config\": {\"view\": {\"continuousWidth\": 400, \"continuousHeight\": 300}}, \"data\": {\"name\": \"data-4ea70519a2a2cb6b818999eb483cd3d1\"}, \"mark\": \"bar\", \"encoding\": {\"color\": {\"field\": \"fraktion\", \"scale\": {\"domain\": [\"Gr\\u00fcne\", \"SP\", \"Mitte\", \"GLP\", \"FDP\", \"SVP\"], \"range\": [\"#85B50C\", \"#E4022D\", \"#FF9100\", \"#A0A000\", \"#3A8BC1\", \"#0A7228\"]}, \"type\": \"nominal\"}, \"order\": {\"field\": \"color_fraktion_sort_index\", \"type\": \"quantitative\"}, \"x\": {\"field\": \"count\", \"stack\": \"zero\", \"title\": \"Anzahl\", \"type\": \"quantitative\"}, \"y\": {\"field\": \"lobby\", \"title\": \"Wirtschaft Lobbygruppe\", \"type\": \"nominal\"}}, \"$schema\": \"https://vega.github.io/schema/vega-lite/v4.17.0.json\", \"datasets\": {\"data-4ea70519a2a2cb6b818999eb483cd3d1\": [{\"lobby\": \"Advokaturen/Treuhand\", \"fraktion\": \"SP\", \"sort\": 2, \"count\": 1}, {\"lobby\": \"Advokaturen/Treuhand\", \"fraktion\": \"Mitte\", \"sort\": 4, \"count\": 1}, {\"lobby\": \"Advokaturen/Treuhand\", \"fraktion\": \"FDP\", \"sort\": 5, \"count\": 6}, {\"lobby\": \"Advokaturen/Treuhand\", \"fraktion\": \"SVP\", \"sort\": 6, \"count\": 6}, {\"lobby\": \"Arbeitnehmerorganisationen\", \"fraktion\": \"Gr\\u00fcne\", \"sort\": 1, \"count\": 3}, {\"lobby\": \"Arbeitnehmerorganisationen\", \"fraktion\": \"SP\", \"sort\": 2, \"count\": 8}, {\"lobby\": \"Arbeitnehmerorganisationen\", \"fraktion\": \"Mitte\", \"sort\": 4, \"count\": 1}, {\"lobby\": \"Arbeitnehmerorganisationen\", \"fraktion\": \"FDP\", \"sort\": 5, \"count\": 1}, {\"lobby\": \"Banken\", \"fraktion\": \"Gr\\u00fcne\", \"sort\": 1, \"count\": 1}, {\"lobby\": \"Banken\", \"fraktion\": \"SP\", \"sort\": 2, \"count\": 2}, {\"lobby\": \"Banken\", \"fraktion\": \"Mitte\", \"sort\": 4, \"count\": 2}, {\"lobby\": \"Banken\", \"fraktion\": \"FDP\", \"sort\": 5, \"count\": 5}, {\"lobby\": \"Banken\", \"fraktion\": \"SVP\", \"sort\": 6, \"count\": 10}, {\"lobby\": \"Bauhauptgewerbe\", \"fraktion\": \"GLP\", \"sort\": 3, \"count\": 1}, {\"lobby\": \"Bauhauptgewerbe\", \"fraktion\": \"Mitte\", \"sort\": 4, \"count\": 3}, {\"lobby\": \"Bauhauptgewerbe\", \"fraktion\": \"FDP\", \"sort\": 5, \"count\": 9}, {\"lobby\": \"Bauhauptgewerbe\", \"fraktion\": \"SVP\", \"sort\": 6, \"count\": 4}, {\"lobby\": \"Baunebengewerbe\", \"fraktion\": \"SP\", \"sort\": 2, \"count\": 1}, {\"lobby\": \"Baunebengewerbe\", \"fraktion\": \"Mitte\", \"sort\": 4, \"count\": 2}, {\"lobby\": \"Baunebengewerbe\", \"fraktion\": \"FDP\", \"sort\": 5, \"count\": 12}, {\"lobby\": \"Baunebengewerbe\", \"fraktion\": \"SVP\", \"sort\": 6, \"count\": 3}, {\"lobby\": \"Biotech\", \"fraktion\": \"GLP\", \"sort\": 3, \"count\": 1}, {\"lobby\": \"Biotech\", \"fraktion\": \"FDP\", \"sort\": 5, \"count\": 1}, {\"lobby\": \"Chemie/Biotech\", \"fraktion\": \"SVP\", \"sort\": 6, \"count\": 1}, {\"lobby\": \"Cleantech\", \"fraktion\": \"Gr\\u00fcne\", \"sort\": 1, \"count\": 2}, {\"lobby\": \"Cleantech\", \"fraktion\": \"FDP\", \"sort\": 5, \"count\": 1}, {\"lobby\": \"Consulting/PR\", \"fraktion\": \"SP\", \"sort\": 2, \"count\": 1}, {\"lobby\": \"Consulting/PR\", \"fraktion\": \"Mitte\", \"sort\": 4, \"count\": 4}, {\"lobby\": \"Consulting/PR\", \"fraktion\": \"FDP\", \"sort\": 5, \"count\": 6}, {\"lobby\": \"Consulting/PR\", \"fraktion\": \"SVP\", \"sort\": 6, \"count\": 4}, {\"lobby\": \"Detailhandel\", \"fraktion\": \"Gr\\u00fcne\", \"sort\": 1, \"count\": 2}, {\"lobby\": \"Detailhandel\", \"fraktion\": \"GLP\", \"sort\": 3, \"count\": 1}, {\"lobby\": \"Detailhandel\", \"fraktion\": \"Mitte\", \"sort\": 4, \"count\": 2}, {\"lobby\": \"Detailhandel\", \"fraktion\": \"FDP\", \"sort\": 5, \"count\": 3}, {\"lobby\": \"Detailhandel\", \"fraktion\": \"SVP\", \"sort\": 6, \"count\": 1}, {\"lobby\": \"Dienstleistungen allg.\", \"fraktion\": \"Gr\\u00fcne\", \"sort\": 1, \"count\": 1}, {\"lobby\": \"Dienstleistungen allg.\", \"fraktion\": \"SP\", \"sort\": 2, \"count\": 2}, {\"lobby\": \"Dienstleistungen allg.\", \"fraktion\": \"GLP\", \"sort\": 3, \"count\": 1}, {\"lobby\": \"Dienstleistungen allg.\", \"fraktion\": \"Mitte\", \"sort\": 4, \"count\": 1}, {\"lobby\": \"Dienstleistungen allg.\", \"fraktion\": \"FDP\", \"sort\": 5, \"count\": 2}, {\"lobby\": \"Dienstleistungen allg.\", \"fraktion\": \"SVP\", \"sort\": 6, \"count\": 3}, {\"lobby\": \"Gl\\u00fccksspiel\", \"fraktion\": \"Mitte\", \"sort\": 4, \"count\": 4}, {\"lobby\": \"Gl\\u00fccksspiel\", \"fraktion\": \"FDP\", \"sort\": 5, \"count\": 3}, {\"lobby\": \"Gl\\u00fccksspiel\", \"fraktion\": \"SVP\", \"sort\": 6, \"count\": 1}, {\"lobby\": \"Handel\", \"fraktion\": \"FDP\", \"sort\": 5, \"count\": 2}, {\"lobby\": \"Holz- und Waldwirtschaft\", \"fraktion\": \"GLP\", \"sort\": 3, \"count\": 1}, {\"lobby\": \"Holz- und Waldwirtschaft\", \"fraktion\": \"Mitte\", \"sort\": 4, \"count\": 2}, {\"lobby\": \"Holz- und Waldwirtschaft\", \"fraktion\": \"FDP\", \"sort\": 5, \"count\": 1}, {\"lobby\": \"Holz- und Waldwirtschaft\", \"fraktion\": \"SVP\", \"sort\": 6, \"count\": 3}, {\"lobby\": \"IT\", \"fraktion\": \"Gr\\u00fcne\", \"sort\": 1, \"count\": 2}, {\"lobby\": \"IT\", \"fraktion\": \"SP\", \"sort\": 2, \"count\": 1}, {\"lobby\": \"IT\", \"fraktion\": \"FDP\", \"sort\": 5, \"count\": 4}, {\"lobby\": \"IT\", \"fraktion\": \"SVP\", \"sort\": 6, \"count\": 4}, {\"lobby\": \"Immobilien/Hauseigent\\u00fcmer\", \"fraktion\": \"Gr\\u00fcne\", \"sort\": 1, \"count\": 1}, {\"lobby\": \"Immobilien/Hauseigent\\u00fcmer\", \"fraktion\": \"SP\", \"sort\": 2, \"count\": 4}, {\"lobby\": \"Immobilien/Hauseigent\\u00fcmer\", \"fraktion\": \"GLP\", \"sort\": 3, \"count\": 1}, {\"lobby\": \"Immobilien/Hauseigent\\u00fcmer\", \"fraktion\": \"Mitte\", \"sort\": 4, \"count\": 14}, {\"lobby\": \"Immobilien/Hauseigent\\u00fcmer\", \"fraktion\": \"FDP\", \"sort\": 5, \"count\": 8}, {\"lobby\": \"Immobilien/Hauseigent\\u00fcmer\", \"fraktion\": \"SVP\", \"sort\": 6, \"count\": 17}, {\"lobby\": \"Industrie\", \"fraktion\": \"Mitte\", \"sort\": 4, \"count\": 2}, {\"lobby\": \"Industrie\", \"fraktion\": \"FDP\", \"sort\": 5, \"count\": 2}, {\"lobby\": \"Industrie\", \"fraktion\": \"SVP\", \"sort\": 6, \"count\": 1}, {\"lobby\": \"Investmentgesellschaften\", \"fraktion\": \"Mitte\", \"sort\": 4, \"count\": 2}, {\"lobby\": \"Investmentgesellschaften\", \"fraktion\": \"FDP\", \"sort\": 5, \"count\": 7}, {\"lobby\": \"Investmentgesellschaften\", \"fraktion\": \"SVP\", \"sort\": 6, \"count\": 3}, {\"lobby\": \"KMU/Gewerbe/Arbeitgeber\", \"fraktion\": \"Gr\\u00fcne\", \"sort\": 1, \"count\": 2}, {\"lobby\": \"KMU/Gewerbe/Arbeitgeber\", \"fraktion\": \"GLP\", \"sort\": 3, \"count\": 1}, {\"lobby\": \"KMU/Gewerbe/Arbeitgeber\", \"fraktion\": \"Mitte\", \"sort\": 4, \"count\": 3}, {\"lobby\": \"KMU/Gewerbe/Arbeitgeber\", \"fraktion\": \"FDP\", \"sort\": 5, \"count\": 3}, {\"lobby\": \"KMU/Gewerbe/Arbeitgeber\", \"fraktion\": \"SVP\", \"sort\": 6, \"count\": 7}, {\"lobby\": \"Konsumentenschutz\", \"fraktion\": \"SP\", \"sort\": 2, \"count\": 1}, {\"lobby\": \"Maschinenindustrie\", \"fraktion\": \"Mitte\", \"sort\": 4, \"count\": 1}, {\"lobby\": \"Maschinenindustrie\", \"fraktion\": \"FDP\", \"sort\": 5, \"count\": 1}, {\"lobby\": \"Mieter\", \"fraktion\": \"Gr\\u00fcne\", \"sort\": 1, \"count\": 5}, {\"lobby\": \"Mieter\", \"fraktion\": \"SP\", \"sort\": 2, \"count\": 4}, {\"lobby\": \"Nahrungsmittel\", \"fraktion\": \"Mitte\", \"sort\": 4, \"count\": 5}, {\"lobby\": \"Nahrungsmittel\", \"fraktion\": \"FDP\", \"sort\": 5, \"count\": 2}, {\"lobby\": \"Nahrungsmittel\", \"fraktion\": \"SVP\", \"sort\": 6, \"count\": 5}, {\"lobby\": \"Pensionskassen\", \"fraktion\": \"SP\", \"sort\": 2, \"count\": 3}, {\"lobby\": \"Pensionskassen\", \"fraktion\": \"GLP\", \"sort\": 3, \"count\": 2}, {\"lobby\": \"Pensionskassen\", \"fraktion\": \"Mitte\", \"sort\": 4, \"count\": 4}, {\"lobby\": \"Pensionskassen\", \"fraktion\": \"FDP\", \"sort\": 5, \"count\": 10}, {\"lobby\": \"Pensionskassen\", \"fraktion\": \"SVP\", \"sort\": 6, \"count\": 3}, {\"lobby\": \"Rohstoffhandel\", \"fraktion\": \"Mitte\", \"sort\": 4, \"count\": 1}, {\"lobby\": \"Tabak\", \"fraktion\": \"SVP\", \"sort\": 6, \"count\": 1}, {\"lobby\": \"Textilindustrie\", \"fraktion\": \"Mitte\", \"sort\": 4, \"count\": 1}, {\"lobby\": \"Textilindustrie\", \"fraktion\": \"FDP\", \"sort\": 5, \"count\": 1}, {\"lobby\": \"Think Tanks\", \"fraktion\": \"Gr\\u00fcne\", \"sort\": 1, \"count\": 1}, {\"lobby\": \"Tourismus/Gastronomie\", \"fraktion\": \"Gr\\u00fcne\", \"sort\": 1, \"count\": 1}, {\"lobby\": \"Tourismus/Gastronomie\", \"fraktion\": \"SP\", \"sort\": 2, \"count\": 1}, {\"lobby\": \"Tourismus/Gastronomie\", \"fraktion\": \"GLP\", \"sort\": 3, \"count\": 1}, {\"lobby\": \"Tourismus/Gastronomie\", \"fraktion\": \"Mitte\", \"sort\": 4, \"count\": 10}, {\"lobby\": \"Tourismus/Gastronomie\", \"fraktion\": \"FDP\", \"sort\": 5, \"count\": 8}, {\"lobby\": \"Tourismus/Gastronomie\", \"fraktion\": \"SVP\", \"sort\": 6, \"count\": 4}, {\"lobby\": \"Uhrenindustrie\", \"fraktion\": \"FDP\", \"sort\": 5, \"count\": 1}, {\"lobby\": \"Verm\\u00f6gensverwalter\", \"fraktion\": \"GLP\", \"sort\": 3, \"count\": 1}, {\"lobby\": \"Verm\\u00f6gensverwalter\", \"fraktion\": \"Mitte\", \"sort\": 4, \"count\": 2}, {\"lobby\": \"Verm\\u00f6gensverwalter\", \"fraktion\": \"SVP\", \"sort\": 6, \"count\": 1}, {\"lobby\": \"Versicherungen\", \"fraktion\": \"SP\", \"sort\": 2, \"count\": 1}, {\"lobby\": \"Versicherungen\", \"fraktion\": \"Mitte\", \"sort\": 4, \"count\": 8}, {\"lobby\": \"Versicherungen\", \"fraktion\": \"FDP\", \"sort\": 5, \"count\": 5}, {\"lobby\": \"Versicherungen\", \"fraktion\": \"SVP\", \"sort\": 6, \"count\": 5}, {\"lobby\": \"Wirtschaft allgemein\", \"fraktion\": \"SP\", \"sort\": 2, \"count\": 1}, {\"lobby\": \"Wirtschaft allgemein\", \"fraktion\": \"Mitte\", \"sort\": 4, \"count\": 2}, {\"lobby\": \"Wirtschaft allgemein\", \"fraktion\": \"FDP\", \"sort\": 5, \"count\": 1}]}}, {\"mode\": \"vega-lite\"});\n</script>",
      "text/plain": "alt.Chart(...)"
     },
     "execution_count": 307,
     "metadata": {},
     "output_type": "execute_result"
    }
   ],
   "source": [
    "source = duckdb.query('''\n",
    "    select lobbygruppe lobby, fraktion_lang fraktion, f.sort, count(1) count\n",
    "    from df_bezahlt b\n",
    "    join df_fraktionen f on f.fraktion = b.fraktion\n",
    "    where 1=1\n",
    "    and branche = 'Wirtschaft'\n",
    "    group by 1, 2, 3\n",
    "    order by lobby, f.sort\n",
    "''').to_df()\n",
    "\n",
    "chart = alt.Chart(source).mark_bar().encode(\n",
    "    x=alt.X('count', title='Anzahl', stack='zero'),\n",
    "    y=alt.Y('lobby', title='Wirtschaft Lobbygruppe'),\n",
    "    color=alt.Color('fraktion', scale=alt.Scale(domain=fraktion_namen, range=fraktion_farben)),\n",
    "    order=alt.Order('color_fraktion_sort_index:Q'),\n",
    ")\n",
    "chart.save('output/bars-wirtschaft-nach-lobbygruppe-und-fraktion-absolut-alle.pdf')\n",
    "chart"
   ],
   "metadata": {
    "collapsed": false
   }
  },
  {
   "cell_type": "code",
   "execution_count": 308,
   "outputs": [],
   "source": [
    "source = duckdb.query('''\n",
    "    select distinct p.branche, fraktion_lang fraktion,\n",
    "        count(1) over (partition by p.branche, p.fraktion) count,\n",
    "        count(1) over (partition by p.branche) count_all\n",
    "    from (\n",
    "        select branche, fraktion\n",
    "        from (select distinct fraktion from df_bezahlt) p\n",
    "        cross join (select branche from df_bezahlt group by branche having count(1) >= 20 /*order by count(1) desc limit 9*/) b\n",
    "    ) p left join df_bezahlt on (p.branche, p.fraktion) = (df_bezahlt.branche, df_bezahlt.fraktion)\n",
    "    join df_fraktionen f on f.fraktion = p.fraktion\n",
    "    where 1=1\n",
    "    union all\n",
    "    select distinct 'Übrige', fraktion_lang fraktion, count(1) over (partition by p.fraktion), count(1) over ()\n",
    "    from df_bezahlt p\n",
    "    join df_fraktionen f on f.fraktion = p.fraktion\n",
    "    where branche not in (select branche from df_bezahlt group by branche having count(1) >= 20)\n",
    "''').to_df()\n",
    "\n",
    "base = alt.Chart().encode(\n",
    "    theta=alt.Theta('fraktion', stack=True, scale=alt.Scale(domain=fraktion_namen, rangeMin=0)),\n",
    "    radius=alt.Radius('count:Q', scale=alt.Scale(type='sqrt', rangeMax=75), stack=False),\n",
    "    color=alt.Color('fraktion', scale=alt.Scale(domain=fraktion_namen, range=fraktion_farben), legend=None),\n",
    "    tooltip=[alt.Tooltip('fraktion'), alt.Tooltip('count', title='anzahl'), alt.Tooltip('rel_count', type='quantitative', format='.1%', title='anteil')],\n",
    ").properties(\n",
    "    width=180,\n",
    "    height=180\n",
    ").transform_calculate(\n",
    "    rel_count='datum.count / datum.count_all',\n",
    ")\n",
    "\n",
    "arcs = base.mark_arc(\n",
    "    innerRadius=0,\n",
    "    stroke='white',\n",
    "    strokeWidth=1.5,\n",
    "    cornerRadius=4,\n",
    "    # tooltip=True\n",
    ")\n",
    "\n",
    "text = base.mark_text(radiusOffset=10).encode(\n",
    "    text='label:N'\n",
    ").transform_calculate(\n",
    "    # label='datum.rel_count == 0 ? \"\" : format(datum.rel_count, \".1%\")'\n",
    "    label='datum.count == 0 ? \"\" : datum.count'\n",
    ")\n",
    "\n",
    "for b in pd.unique(source['branche']):\n",
    "    chart = alt.layer(arcs, text, data=source).transform_filter(\n",
    "        (datum.branche == b)\n",
    "    ).properties(\n",
    "        title=b\n",
    "    )\n",
    "    chart.save(f'output/radial-branche-{b.translate(b.maketrans(\"/\", \"_\"))}-nach-fraktion.pdf')"
   ],
   "metadata": {
    "collapsed": false
   }
  },
  {
   "cell_type": "code",
   "execution_count": 309,
   "outputs": [],
   "source": [
    "source = duckdb.query('''\n",
    "    select distinct p.branche, fraktion_lang fraktion,\n",
    "        count(b.interessenbindung_id) over (partition by p.branche, p.fraktion) count,\n",
    "        count(b.interessenbindung_id) over (partition by p.branche) count_all\n",
    "    from (\n",
    "        select distinct branche, fraktion\n",
    "        from (select fraktion from df_bezahlt) p\n",
    "        cross join (select branche from df_bezahlt group by branche having count(1) >= 20 /*order by count(1) desc limit 9*/) b\n",
    "    ) p left join df_bezahlt b on (p.branche, p.fraktion) = (b.branche, b.fraktion)\n",
    "    join df_fraktionen f on f.fraktion = p.fraktion\n",
    "    where 1=1\n",
    "    union all\n",
    "    select distinct 'Übrige', fraktion_lang fraktion, count(1) over (partition by p.fraktion), count(1) over ()\n",
    "    from df_bezahlt p\n",
    "    join df_fraktionen f on f.fraktion = p.fraktion\n",
    "    where branche not in (select branche from df_bezahlt group by branche having count(1) >= 20)\n",
    "''').to_df()\n",
    "\n",
    "base = alt.Chart().mark_arc(\n",
    "    innerRadius=0,\n",
    "    stroke='white',\n",
    "    strokeWidth=1.5,\n",
    "    cornerRadius=4\n",
    ").encode(\n",
    "    # theta=alt.Theta('branche', stack=True),\n",
    "    # radius=alt.Radius('count:Q', scale=alt.Scale(type='sqrt', rangeMax=75), stack=False),\n",
    "    theta=alt.Theta('branche', stack='center'),\n",
    "    radius=alt.Radius('count', type='quantitative', scale=alt.Scale(type='sqrt', rangeMax=70), stack=False),\n",
    "    color=alt.Color('branche', legend=None),\n",
    "    tooltip=['branche','count', 'rel_count:Q'],\n",
    ").properties(\n",
    "    width=150,\n",
    "    height=150\n",
    ").transform_calculate(\n",
    "    rel_count='datum.count / datum.count_all'\n",
    "# ).facet(\n",
    "#     facet='fraktion',\n",
    "#     columns=3\n",
    "# ).resolve_scale(\n",
    "#     # theta='shared',\n",
    "#     radius='independent',\n",
    ")\n",
    "\n",
    "for f in pd.unique(source['fraktion']):\n",
    "    chart = alt.layer(base, data=source).transform_filter(\n",
    "        (datum.fraktion == f)\n",
    "    ).properties(\n",
    "        title=f\n",
    "    )\n",
    "    chart.save(f'output/radial-fraktion-{f.translate(b.maketrans(\"/\", \"_\"))}-nach-branche.pdf')"
   ],
   "metadata": {
    "collapsed": false
   }
  }
 ],
 "metadata": {
  "kernelspec": {
   "display_name": "Python 3 (ipykernel)",
   "language": "python",
   "name": "python3"
  },
  "language_info": {
   "codemirror_mode": {
    "name": "ipython",
    "version": 3
   },
   "file_extension": ".py",
   "mimetype": "text/x-python",
   "name": "python",
   "nbconvert_exporter": "python",
   "pygments_lexer": "ipython3",
   "version": "3.10.2"
  }
 },
 "nbformat": 4,
 "nbformat_minor": 1
}
